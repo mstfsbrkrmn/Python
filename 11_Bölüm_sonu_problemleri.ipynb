{
  "nbformat": 4,
  "nbformat_minor": 0,
  "metadata": {
    "colab": {
      "name": "11_Bölüm sonu problemleri.ipynb",
      "provenance": [],
      "collapsed_sections": [],
      "authorship_tag": "ABX9TyPWzpD3HNZ6ePwAfb4cw2Z9",
      "include_colab_link": true
    },
    "kernelspec": {
      "name": "python3",
      "display_name": "Python 3"
    }
  },
  "cells": [
    {
      "cell_type": "markdown",
      "metadata": {
        "id": "view-in-github",
        "colab_type": "text"
      },
      "source": [
        "<a href=\"https://colab.research.google.com/github/mstfsbrkrmn/Python/blob/master/11_B%C3%B6l%C3%BCm_sonu_problemleri.ipynb\" target=\"_parent\"><img src=\"https://colab.research.google.com/assets/colab-badge.svg\" alt=\"Open In Colab\"/></a>"
      ]
    },
    {
      "cell_type": "markdown",
      "metadata": {
        "id": "egvDzigHHnjT",
        "colab_type": "text"
      },
      "source": [
        "# Problem 1\n",
        "Elinizde bir dikdörtgenin kenarlarını ifade eden sayı çiftlerinin bulunduğu bir liste olsun.\n",
        "\n",
        "         [(3,4),(10,3),(5,6),(1,9)]\n",
        "\n",
        "Şimdi kenar uzunluklarına göre dikdörtgenin alanını hesaplayan bir fonksiyon yazın ve bu listenin her bir elemanına bu fonksiyonu uygulayarak ekrana şöyle bir liste yazdırın.\n",
        "\n",
        "         [12, 30, 30, 9]\n",
        "\n",
        "Not : map() fonksiyonunu kullanmaya çalışın."
      ]
    },
    {
      "cell_type": "code",
      "metadata": {
        "id": "e12Lnh-nHj6t",
        "colab_type": "code",
        "colab": {
          "base_uri": "https://localhost:8080/",
          "height": 34
        },
        "outputId": "2619303f-d1a6-4159-eb6a-5e92168c4874"
      },
      "source": [
        "def carp(liste):\n",
        "  return liste[0]*liste[1]\n",
        "a=[(3,4),(10,3),(5,6),(1,9)]\n",
        "list(map(carp,a))"
      ],
      "execution_count": 5,
      "outputs": [
        {
          "output_type": "execute_result",
          "data": {
            "text/plain": [
              "[12, 30, 30, 9]"
            ]
          },
          "metadata": {
            "tags": []
          },
          "execution_count": 5
        }
      ]
    },
    {
      "cell_type": "markdown",
      "metadata": {
        "id": "7eNrJDRrJeRq",
        "colab_type": "text"
      },
      "source": [
        "# Problem 2\n",
        "Elinizden her bir elemanı 3'lü bir demet olan bir liste olsun.\n",
        "\n",
        "     [(3,4,5),(6,8,10),(3,10,7)]\n",
        "\n",
        "Şimdi kenar uzunluklarına göre bu kenarların bir üçgen olup olmadığını dönen bir fonksiyon yazın ve sadece üçgen belirten kenarları bulunduran listeyi ekrana yazdırın.\n",
        "\n",
        "     [(3, 4, 5), (6, 8, 10)]\n",
        "\n",
        "Not: filter() fonksiyonunu kullanmaya çalışın."
      ]
    },
    {
      "cell_type": "code",
      "metadata": {
        "id": "TSd6u-fgJhnZ",
        "colab_type": "code",
        "colab": {
          "base_uri": "https://localhost:8080/",
          "height": 34
        },
        "outputId": "3ce8babe-8a79-4eba-f219-301f1ffcfbb2"
      },
      "source": [
        "def ucgen(a):\n",
        "  if abs(a[1] - a[2]) < a[0] and a[0] < a[1] + a[2] and abs(a[0] - a[2]) < a[1] and a[1] < a[0] + a[2] and abs(a[1] - a[0]) < a[2] and a[2] < a[1] + a[0]:\n",
        "    return True\n",
        "  return False\n",
        "b=[(3,4,5),(6,8,10),(3,10,7)]\n",
        "list(filter(ucgen,b))"
      ],
      "execution_count": null,
      "outputs": [
        {
          "output_type": "execute_result",
          "data": {
            "text/plain": [
              "[(3, 4, 5), (6, 8, 10)]"
            ]
          },
          "metadata": {
            "tags": []
          },
          "execution_count": 7
        }
      ]
    },
    {
      "cell_type": "markdown",
      "metadata": {
        "id": "-y6sMMZrM9mo",
        "colab_type": "text"
      },
      "source": [
        "# Problem 3\n",
        "Elinizde şöyle bir liste bulunsun.\n",
        "\n",
        "    [1,2,3,4,5,6,7,8,9,10]\n",
        "\n",
        "Bu listenin içindeki çift sayıların toplamını ekrana yazdıran bir fonksiyon yazın.\n",
        "\n",
        "Not: İlk önce filter() fonksiyonu ile çift sayıları ayıklayın. Daha sonra reduce() fonksiyonunu kullanın."
      ]
    },
    {
      "cell_type": "code",
      "metadata": {
        "id": "0CZf4fVeOCiJ",
        "colab_type": "code",
        "colab": {
          "base_uri": "https://localhost:8080/",
          "height": 34
        },
        "outputId": "94064011-99eb-4751-bf50-eaf04d9a693e"
      },
      "source": [
        "from functools import reduce\n",
        "a=[1,2,3,4,5,6,7,8,9,10]\n",
        "reduce(lambda x,y : x+y,list(filter(lambda x : x%2==0,a)))"
      ],
      "execution_count": 30,
      "outputs": [
        {
          "output_type": "execute_result",
          "data": {
            "text/plain": [
              "30"
            ]
          },
          "metadata": {
            "tags": []
          },
          "execution_count": 30
        }
      ]
    },
    {
      "cell_type": "markdown",
      "metadata": {
        "id": "rYfpnMA6O_MH",
        "colab_type": "text"
      },
      "source": [
        "# Problem 4\n",
        "Elinizde isimlerin ve soyisimlerin bulunduğu iki tane liste olsun.\n",
        "\n",
        "        isimler -----> [\"Kerim\",\"Tarık\",\"Ezgi\",\"Kemal\",\"İlkay\",\"Şükran\",\"Merve\"]\n",
        "\n",
        "        soyisimler -----> [\"Yılmaz\",\"Öztürk\",\"Dağdeviren\",\"Atatürk\",\"Dikmen\",\"Kaya\",\"Polat\"]\n",
        "\n",
        "Bu isimleri ve soyisimleri sırasıyla eşleştirin ve ekrana alt alta isimleri ve soyisimleri yazdırın.\n",
        "\n",
        "Not: zip() fonksiyonunu kullanmaya çalışın."
      ]
    },
    {
      "cell_type": "code",
      "metadata": {
        "id": "YJ_dNfxVO6Ui",
        "colab_type": "code",
        "colab": {
          "base_uri": "https://localhost:8080/",
          "height": 134
        },
        "outputId": "f66a1763-02f1-47a8-aca4-8f8407598e2b"
      },
      "source": [
        "l1=[\"Kerim\",\"Tarık\",\"Ezgi\",\"Kemal\",\"İlkay\",\"Şükran\",\"Merve\"]\n",
        "l2=[\"Yılmaz\",\"Öztürk\",\"Dağdeviren\",\"Atatürk\",\"Dikmen\",\"Kaya\",\"Polat\"]\n",
        "for i,j in zip(l1,l2):\n",
        "  print(i,j)"
      ],
      "execution_count": 32,
      "outputs": [
        {
          "output_type": "stream",
          "text": [
            "Kerim Yılmaz\n",
            "Tarık Öztürk\n",
            "Ezgi Dağdeviren\n",
            "Kemal Atatürk\n",
            "İlkay Dikmen\n",
            "Şükran Kaya\n",
            "Merve Polat\n"
          ],
          "name": "stdout"
        }
      ]
    }
  ]
}