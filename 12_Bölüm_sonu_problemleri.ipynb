{
  "nbformat": 4,
  "nbformat_minor": 0,
  "metadata": {
    "colab": {
      "name": "12_Bölüm sonu problemleri.ipynb",
      "provenance": [],
      "collapsed_sections": [],
      "authorship_tag": "ABX9TyMGsAnKN4xfDQPdjiTU5nQg",
      "include_colab_link": true
    },
    "kernelspec": {
      "name": "python3",
      "display_name": "Python 3"
    }
  },
  "cells": [
    {
      "cell_type": "markdown",
      "metadata": {
        "id": "view-in-github",
        "colab_type": "text"
      },
      "source": [
        "<a href=\"https://colab.research.google.com/github/mstfsbrkrmn/Python/blob/master/12_B%C3%B6l%C3%BCm_sonu_problemleri.ipynb\" target=\"_parent\"><img src=\"https://colab.research.google.com/assets/colab-badge.svg\" alt=\"Open In Colab\"/></a>"
      ]
    },
    {
      "cell_type": "markdown",
      "metadata": {
        "id": "KpYKKQANrtDH",
        "colab_type": "text"
      },
      "source": [
        "# Problem 1\n",
        "Elinizde uzunca bir string olsun.\n",
        "\n",
        "            \"ProgramlamaÖdeviİleriSeviyeVeriYapılarıveObjeleripynb\"\n",
        "\n",
        "\n",
        "Bu string içindeki harflerin frekansını (bir harfin kaç defa geçtiği) bulmaya çalışın."
      ]
    },
    {
      "cell_type": "code",
      "metadata": {
        "id": "5JHAOTPwroYo",
        "colab_type": "code",
        "colab": {
          "base_uri": "https://localhost:8080/",
          "height": 655
        },
        "outputId": "3f7cf9c6-fbad-4133-a14f-344ff3f6e850"
      },
      "source": [
        "a=\"ProgramlamaÖdeviİleriSeviyeVeriYapılarıveObjeleripynb\"\n",
        "b=a.lower()\n",
        "c=set(b)\n",
        "d=list(c)\n",
        "e=d.sort()\n",
        "for i in d:\n",
        "  print(i,\"harfi\",b.count(i),\"defa geçmektedir.\")\n",
        "  print(\"--------------\")"
      ],
      "execution_count": 1,
      "outputs": [
        {
          "output_type": "stream",
          "text": [
            "a harfi 5 defa geçmektedir.\n",
            "--------------\n",
            "b harfi 2 defa geçmektedir.\n",
            "--------------\n",
            "d harfi 1 defa geçmektedir.\n",
            "--------------\n",
            "e harfi 8 defa geçmektedir.\n",
            "--------------\n",
            "g harfi 1 defa geçmektedir.\n",
            "--------------\n",
            "i harfi 6 defa geçmektedir.\n",
            "--------------\n",
            "j harfi 1 defa geçmektedir.\n",
            "--------------\n",
            "l harfi 4 defa geçmektedir.\n",
            "--------------\n",
            "m harfi 2 defa geçmektedir.\n",
            "--------------\n",
            "n harfi 1 defa geçmektedir.\n",
            "--------------\n",
            "o harfi 2 defa geçmektedir.\n",
            "--------------\n",
            "p harfi 3 defa geçmektedir.\n",
            "--------------\n",
            "r harfi 6 defa geçmektedir.\n",
            "--------------\n",
            "s harfi 1 defa geçmektedir.\n",
            "--------------\n",
            "v harfi 4 defa geçmektedir.\n",
            "--------------\n",
            "y harfi 3 defa geçmektedir.\n",
            "--------------\n",
            "ö harfi 1 defa geçmektedir.\n",
            "--------------\n",
            "ı harfi 2 defa geçmektedir.\n",
            "--------------\n",
            "̇ harfi 1 defa geçmektedir.\n",
            "--------------\n"
          ],
          "name": "stdout"
        }
      ]
    },
    {
      "cell_type": "markdown",
      "metadata": {
        "id": "SpiOz5ICv2OH",
        "colab_type": "text"
      },
      "source": [
        "# Problem 2\n",
        "\"şiir.txt\" şeklinde bir dosya oluşturun ve içinde şu satırlar yer alsın.\n",
        "\n",
        "                    Memlekete sis çökmüş bir gece \n",
        "                    Usulca yanağıma sen düşüyorsun\n",
        "                    Sabah saat dokuzu beş geçe\n",
        "                    Terk edip bizleri gidiyorsun\n",
        "                    Ayrılık bu kadar yakmamıştı içimizi\n",
        "                    Farkında mısın bilmiyorum\n",
        "                    Aldın beraberinde cumhuriyetimizi\n",
        "                    Korkunç bir veda, sararmıştı her yer\n",
        "                    Ellerini uzat tutmak istiyoruz\n",
        "                    Masmavi gözleri kaybetmiş çocuk\n",
        "                    Aldı bir sabah ruhumuzu\n",
        "                    Lakin nasıl bölmesin yokluğun uykumuzu\n",
        "\n",
        "Bu dosyanın herbir satırını okuyun. Satırların baş harflerini birbirine ekleyerek bir string oluşturun ve bu string'i ekrana yazdırın."
      ]
    },
    {
      "cell_type": "code",
      "metadata": {
        "id": "ZYY-NuVPv6SI",
        "colab_type": "code",
        "colab": {
          "base_uri": "https://localhost:8080/",
          "height": 252
        },
        "outputId": "5fd4ca20-89a3-4716-c8b6-f9dd872a2913"
      },
      "source": [
        "with open(\"siir.txt\",\"w+\", encoding=\"utf-8\") as file:\n",
        "  file.write(\"Memlekete sis çökmüş bir gece\\nUsulca yanağıma sen düşüyorsun\\nSabah saat dokuzu beş geçe\\nTerk edip bizleri gidiyorsun\\nAyrılık bu kadar yakmamıştı içimizi\\nFarkında mısın bilmiyorum\\nAldın beraberinde cumhuriyetimizi\\nKorkunç bir veda, sararmıştı her yer\\nEllerini uzat tutmak istiyoruz\\nMasmavi gözleri kaybetmiş çocuk\\nAldı bir sabah ruhumuzu\\nLakin nasıl bölmesin yokluğun uykumuzu\")\n",
        "  file.seek(0)\n",
        "  p=list()\n",
        "  for i in file:\n",
        "    print(i,end=\"\")\n",
        "    p.append(i)\n",
        "  print(\"\\n--------------\")\n",
        "  for i in range(0,len(p)):\n",
        "    print(p[i][:1],end=\"\")"
      ],
      "execution_count": 14,
      "outputs": [
        {
          "output_type": "stream",
          "text": [
            "Memlekete sis çökmüş bir gece\n",
            "Usulca yanağıma sen düşüyorsun\n",
            "Sabah saat dokuzu beş geçe\n",
            "Terk edip bizleri gidiyorsun\n",
            "Ayrılık bu kadar yakmamıştı içimizi\n",
            "Farkında mısın bilmiyorum\n",
            "Aldın beraberinde cumhuriyetimizi\n",
            "Korkunç bir veda, sararmıştı her yer\n",
            "Ellerini uzat tutmak istiyoruz\n",
            "Masmavi gözleri kaybetmiş çocuk\n",
            "Aldı bir sabah ruhumuzu\n",
            "Lakin nasıl bölmesin yokluğun uykumuzu\n",
            "--------------\n",
            "MUSTAFAKEMAL"
          ],
          "name": "stdout"
        }
      ]
    },
    {
      "cell_type": "markdown",
      "metadata": {
        "id": "WFC16zL7zcUQ",
        "colab_type": "text"
      },
      "source": [
        "# Problem 3\n",
        "Elinizde \"mailler.txt\" adında , maillerin ve bazı yazıların bulunduğu bir dosya olsun. Bu dosyanın her bir satırını okuyun ve sadece mail formatına uygun olanları ekrana yazdırın.\n",
        "\n",
        "                    coskun.m.murat@gmail.com\n",
        "                    example@xyz.com\n",
        "                    mustafa.com\n",
        "                    mustafa@gmail\n",
        "                    kerim@yahoo.com\n",
        "\n",
        "                           //\n",
        "                           //\n",
        "                           //\n",
        "\n",
        "\n",
        "İpucu: Stringlerde bulunan endswith ve find metodlarını kullanabilirsiniz."
      ]
    },
    {
      "cell_type": "code",
      "metadata": {
        "id": "3CW9iqLvz0kn",
        "colab_type": "code",
        "colab": {
          "base_uri": "https://localhost:8080/",
          "height": 252
        },
        "outputId": "1a1c77c2-5909-4395-8199-f6d0fc91ee48"
      },
      "source": [
        "with open(\"mailler.txt\",\"w+\", encoding=\"utf-8\") as file:\n",
        "  file.write(\"coskun.m.murat@gmail.com\\nexample@xyz.com\\nmustafa.com\\nmustafa@gmail\\nkerim@yahoo.com\")\n",
        "  file.seek(0)\n",
        "  p=list()\n",
        "  for i in file:\n",
        "    print(i,end=\"\")\n",
        "    p.append(i)\n",
        "  print(\"\\n\\n---------\")\n",
        "  for i in p:\n",
        "    if 0<i.count(\"@\"):\n",
        "      print(i)"
      ],
      "execution_count": 20,
      "outputs": [
        {
          "output_type": "stream",
          "text": [
            "coskun.m.murat@gmail.com\n",
            "example@xyz.com\n",
            "mustafa.com\n",
            "mustafa@gmail\n",
            "kerim@yahoo.com\n",
            "\n",
            "---------\n",
            "coskun.m.murat@gmail.com\n",
            "\n",
            "example@xyz.com\n",
            "\n",
            "mustafa@gmail\n",
            "\n",
            "kerim@yahoo.com\n"
          ],
          "name": "stdout"
        }
      ]
    }
  ]
}