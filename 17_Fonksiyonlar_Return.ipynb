{
  "nbformat": 4,
  "nbformat_minor": 0,
  "metadata": {
    "colab": {
      "name": "17_Fonksiyonlar Return.ipynb",
      "provenance": [],
      "collapsed_sections": []
    },
    "kernelspec": {
      "name": "python3",
      "display_name": "Python 3"
    }
  },
  "cells": [
    {
      "cell_type": "markdown",
      "metadata": {
        "id": "hVAWk0-peJJh",
        "colab_type": "text"
      },
      "source": [
        "Return kullanılmayan fonksiyonlara **void** fonksiyonlar denilmektedir."
      ]
    },
    {
      "cell_type": "code",
      "metadata": {
        "id": "bvFQJAOKeDSW",
        "colab_type": "code",
        "colab": {
          "base_uri": "https://localhost:8080/",
          "height": 50
        },
        "outputId": "024022a6-3f22-49d2-88ec-4eb8e7c2087d"
      },
      "source": [
        "def t(a,b):\n",
        "  print(a+b)\n",
        "c=t(4,5)\n",
        "\n",
        "print(type(c),c)"
      ],
      "execution_count": 2,
      "outputs": [
        {
          "output_type": "stream",
          "text": [
            "9\n",
            "<class 'NoneType'> None\n"
          ],
          "name": "stdout"
        }
      ]
    },
    {
      "cell_type": "code",
      "metadata": {
        "id": "FQEtjuCdepQK",
        "colab_type": "code",
        "colab": {
          "base_uri": "https://localhost:8080/",
          "height": 34
        },
        "outputId": "0ccd15f2-ed80-48af-ba76-ab6849a405f8"
      },
      "source": [
        "def t(a,b):\n",
        "  return a+b\n",
        "c=t(4,5)\n",
        "\n",
        "print(type(c),c)"
      ],
      "execution_count": 3,
      "outputs": [
        {
          "output_type": "stream",
          "text": [
            "<class 'int'> 9\n"
          ],
          "name": "stdout"
        }
      ]
    },
    {
      "cell_type": "code",
      "metadata": {
        "id": "rGVr5u3wevdy",
        "colab_type": "code",
        "colab": {
          "base_uri": "https://localhost:8080/",
          "height": 34
        },
        "outputId": "041d0054-a9ac-4830-c833-7d4f50d00fdb"
      },
      "source": [
        "#fog(x)\n",
        "f(3)=g(3)+5 -> 9+9+1+5 -> 24\n",
        "def g(x):\n",
        "  return x**2+3*x+1\n",
        "\n",
        "def f(y):\n",
        "  a=g(y)\n",
        "  return a+5\n",
        "print(f(3))"
      ],
      "execution_count": 6,
      "outputs": [
        {
          "output_type": "stream",
          "text": [
            "24\n"
          ],
          "name": "stdout"
        }
      ]
    }
  ]
}