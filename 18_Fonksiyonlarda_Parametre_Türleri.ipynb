{
  "nbformat": 4,
  "nbformat_minor": 0,
  "metadata": {
    "colab": {
      "name": "18_Fonksiyonlarda Parametre Türleri.ipynb",
      "provenance": [],
      "collapsed_sections": []
    },
    "kernelspec": {
      "name": "python3",
      "display_name": "Python 3"
    }
  },
  "cells": [
    {
      "cell_type": "code",
      "metadata": {
        "id": "aUxkXoKwlCib",
        "colab_type": "code",
        "colab": {
          "base_uri": "https://localhost:8080/",
          "height": 34
        },
        "outputId": "2f482ee3-f582-457c-970d-d4b402504b90"
      },
      "source": [
        "def user(isim):\n",
        "  print(\"selam\",isim)\n",
        "user(\"ahmet\")"
      ],
      "execution_count": 4,
      "outputs": [
        {
          "output_type": "stream",
          "text": [
            "selam ahmet\n"
          ],
          "name": "stdout"
        }
      ]
    },
    {
      "cell_type": "code",
      "metadata": {
        "id": "1nGyB7gUlfwo",
        "colab_type": "code",
        "colab": {
          "base_uri": "https://localhost:8080/",
          "height": 162
        },
        "outputId": "2aa68a57-4b27-4c5f-e27a-ffbb7f4b1a80"
      },
      "source": [
        "user()"
      ],
      "execution_count": 5,
      "outputs": [
        {
          "output_type": "error",
          "ename": "TypeError",
          "evalue": "ignored",
          "traceback": [
            "\u001b[0;31m---------------------------------------------------------------------------\u001b[0m",
            "\u001b[0;31mTypeError\u001b[0m                                 Traceback (most recent call last)",
            "\u001b[0;32m<ipython-input-5-427b88636293>\u001b[0m in \u001b[0;36m<module>\u001b[0;34m()\u001b[0m\n\u001b[0;32m----> 1\u001b[0;31m \u001b[0muser\u001b[0m\u001b[0;34m(\u001b[0m\u001b[0;34m)\u001b[0m\u001b[0;34m\u001b[0m\u001b[0;34m\u001b[0m\u001b[0m\n\u001b[0m",
            "\u001b[0;31mTypeError\u001b[0m: user() missing 1 required positional argument: 'isim'"
          ]
        }
      ]
    },
    {
      "cell_type": "markdown",
      "metadata": {
        "id": "F2pJ00d5liMy",
        "colab_type": "text"
      },
      "source": [
        "fonksiyonun içerisine değer gönderilmediği durumda da çalışmasını istiyorsak, fonk tanımlarken parametre için default halini de tanımlamak gerekir."
      ]
    },
    {
      "cell_type": "code",
      "metadata": {
        "id": "XGoc6hG1lu4m",
        "colab_type": "code",
        "colab": {
          "base_uri": "https://localhost:8080/",
          "height": 34
        },
        "outputId": "38a3e2ea-f44f-403d-b1fb-163a81b65380"
      },
      "source": [
        "def user(isim=\"isimsiz\"):\n",
        "  print(\"selam\",isim)\n",
        "user()"
      ],
      "execution_count": 6,
      "outputs": [
        {
          "output_type": "stream",
          "text": [
            "selam isimsiz\n"
          ],
          "name": "stdout"
        }
      ]
    },
    {
      "cell_type": "code",
      "metadata": {
        "id": "RpZQIshYmRll",
        "colab_type": "code",
        "colab": {
          "base_uri": "https://localhost:8080/",
          "height": 67
        },
        "outputId": "f18627fd-94ed-47ed-dda7-9b9f2874925f"
      },
      "source": [
        "def f(a=\"none\",b=\"none\",c=\"none\"):\n",
        "  print(a,b,c,sep=\"\\n\")\n",
        "f(3,4,5)"
      ],
      "execution_count": 7,
      "outputs": [
        {
          "output_type": "stream",
          "text": [
            "3\n",
            "4\n",
            "5\n"
          ],
          "name": "stdout"
        }
      ]
    },
    {
      "cell_type": "code",
      "metadata": {
        "id": "9r-GU_XgmjNk",
        "colab_type": "code",
        "colab": {
          "base_uri": "https://localhost:8080/",
          "height": 67
        },
        "outputId": "24cfa872-23a6-49bf-fe71-c82c6289b3a3"
      },
      "source": [
        "f(3,4)"
      ],
      "execution_count": 8,
      "outputs": [
        {
          "output_type": "stream",
          "text": [
            "3\n",
            "4\n",
            "none\n"
          ],
          "name": "stdout"
        }
      ]
    },
    {
      "cell_type": "code",
      "metadata": {
        "id": "wurG0O12mlj5",
        "colab_type": "code",
        "colab": {
          "base_uri": "https://localhost:8080/",
          "height": 67
        },
        "outputId": "18701f36-4bcd-4acc-e0ce-d453b162d328"
      },
      "source": [
        "f(5)"
      ],
      "execution_count": 11,
      "outputs": [
        {
          "output_type": "stream",
          "text": [
            "5\n",
            "none\n",
            "none\n"
          ],
          "name": "stdout"
        }
      ]
    },
    {
      "cell_type": "code",
      "metadata": {
        "id": "6PUCwKqompRy",
        "colab_type": "code",
        "colab": {
          "base_uri": "https://localhost:8080/",
          "height": 67
        },
        "outputId": "04515fc0-2f8e-452d-8ebc-b2b57bb33a9f"
      },
      "source": [
        "f(c=5)"
      ],
      "execution_count": 10,
      "outputs": [
        {
          "output_type": "stream",
          "text": [
            "none\n",
            "none\n",
            "5\n"
          ],
          "name": "stdout"
        }
      ]
    },
    {
      "cell_type": "markdown",
      "metadata": {
        "id": "iGoCVm8Bpcjs",
        "colab_type": "text"
      },
      "source": [
        "Sınırsız parametre için"
      ]
    },
    {
      "cell_type": "code",
      "metadata": {
        "id": "KbQS4asopbUZ",
        "colab_type": "code",
        "colab": {
          "base_uri": "https://localhost:8080/",
          "height": 34
        },
        "outputId": "efd6fa45-5966-415f-b9e2-cc112c72cab0"
      },
      "source": [
        "def o(*a):\n",
        "  print(a)\n",
        "o(4,3,6,5,2)"
      ],
      "execution_count": 12,
      "outputs": [
        {
          "output_type": "stream",
          "text": [
            "(4, 3, 6, 5, 2)\n"
          ],
          "name": "stdout"
        }
      ]
    },
    {
      "cell_type": "code",
      "metadata": {
        "id": "3tD16ANhp4ok",
        "colab_type": "code",
        "colab": {
          "base_uri": "https://localhost:8080/",
          "height": 34
        },
        "outputId": "3ad2be71-1cc9-49d9-87b9-51c0b4112288"
      },
      "source": [
        "def sum(*b):\n",
        "  s=0\n",
        "  for i in b:\n",
        "    s+=i\n",
        "  print(s)\n",
        "sum(4,5,6)"
      ],
      "execution_count": 17,
      "outputs": [
        {
          "output_type": "stream",
          "text": [
            "15\n"
          ],
          "name": "stdout"
        }
      ]
    }
  ]
}