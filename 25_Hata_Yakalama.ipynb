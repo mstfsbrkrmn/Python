{
  "nbformat": 4,
  "nbformat_minor": 0,
  "metadata": {
    "colab": {
      "name": "25_Hata Yakalama.ipynb",
      "provenance": [],
      "collapsed_sections": []
    },
    "kernelspec": {
      "name": "python3",
      "display_name": "Python 3"
    }
  },
  "cells": [
    {
      "cell_type": "markdown",
      "metadata": {
        "id": "NzYxPf5lz0CO",
        "colab_type": "text"
      },
      "source": [
        "                try:\n",
        "                    Hata çıkarabilecek kodlar buraya yazılıyor.\n",
        "                    Eğer hata çıkarsa program uygun olan except bloğuna girecek.\n",
        "                    Hata oluşursa try bloğunun geri kalanındaki işlemler çalışmayacak.\n",
        "                except Hata1:\n",
        "                    Hata1 oluştuğunda burası çalışacak.\n",
        "                except Hata2:\n",
        "                    Hata2 oluştuğunda burası çalışacak.\n",
        "                    //\n",
        "                    //"
      ]
    },
    {
      "cell_type": "code",
      "metadata": {
        "id": "rc1hPkzMzemk",
        "colab_type": "code",
        "colab": {
          "base_uri": "https://localhost:8080/",
          "height": 34
        },
        "outputId": "185ddd06-3266-4916-9c7d-ad5176567688"
      },
      "source": [
        "try:\n",
        "  a=int(\"asd32\")\n",
        "except: #hangi hata türü için olduğu belirtilmediğinden tüm hatalarda bu blok çalışacak.\n",
        "  print(\"bir hata oldu.\")"
      ],
      "execution_count": 1,
      "outputs": [
        {
          "output_type": "stream",
          "text": [
            "bir hata oldu.\n"
          ],
          "name": "stdout"
        }
      ]
    },
    {
      "cell_type": "code",
      "metadata": {
        "id": "W-Be5iFR0dVb",
        "colab_type": "code",
        "colab": {
          "base_uri": "https://localhost:8080/",
          "height": 162
        },
        "outputId": "5d827d0c-386e-434e-8674-5474377c6ee3"
      },
      "source": [
        "a=int(\"asd\") #ValueError hatası"
      ],
      "execution_count": 2,
      "outputs": [
        {
          "output_type": "error",
          "ename": "ValueError",
          "evalue": "ignored",
          "traceback": [
            "\u001b[0;31m---------------------------------------------------------------------------\u001b[0m",
            "\u001b[0;31mValueError\u001b[0m                                Traceback (most recent call last)",
            "\u001b[0;32m<ipython-input-2-9dd2d96e5d7b>\u001b[0m in \u001b[0;36m<module>\u001b[0;34m()\u001b[0m\n\u001b[0;32m----> 1\u001b[0;31m \u001b[0ma\u001b[0m\u001b[0;34m=\u001b[0m\u001b[0mint\u001b[0m\u001b[0;34m(\u001b[0m\u001b[0;34m\"asd\"\u001b[0m\u001b[0;34m)\u001b[0m \u001b[0;31m#ValueError hatası\u001b[0m\u001b[0;34m\u001b[0m\u001b[0;34m\u001b[0m\u001b[0m\n\u001b[0m",
            "\u001b[0;31mValueError\u001b[0m: invalid literal for int() with base 10: 'asd'"
          ]
        }
      ]
    },
    {
      "cell_type": "code",
      "metadata": {
        "id": "0RZ6qU2F0mbf",
        "colab_type": "code",
        "colab": {
          "base_uri": "https://localhost:8080/",
          "height": 162
        },
        "outputId": "ad2e56d1-b014-4c7b-c98f-becaf4a7bd87"
      },
      "source": [
        "print(b) # NameError hatası"
      ],
      "execution_count": 3,
      "outputs": [
        {
          "output_type": "error",
          "ename": "NameError",
          "evalue": "ignored",
          "traceback": [
            "\u001b[0;31m---------------------------------------------------------------------------\u001b[0m",
            "\u001b[0;31mNameError\u001b[0m                                 Traceback (most recent call last)",
            "\u001b[0;32m<ipython-input-3-7ec0ffc69e79>\u001b[0m in \u001b[0;36m<module>\u001b[0;34m()\u001b[0m\n\u001b[0;32m----> 1\u001b[0;31m \u001b[0mprint\u001b[0m\u001b[0;34m(\u001b[0m\u001b[0mb\u001b[0m\u001b[0;34m)\u001b[0m \u001b[0;31m# NameError hatası\u001b[0m\u001b[0;34m\u001b[0m\u001b[0;34m\u001b[0m\u001b[0m\n\u001b[0m",
            "\u001b[0;31mNameError\u001b[0m: name 'b' is not defined"
          ]
        }
      ]
    },
    {
      "cell_type": "code",
      "metadata": {
        "id": "vtl9abWS0qdq",
        "colab_type": "code",
        "colab": {
          "base_uri": "https://localhost:8080/",
          "height": 162
        },
        "outputId": "e277ba60-a4f3-4485-df7e-cc4a13bbef34"
      },
      "source": [
        "print(2/0) # ZeroDivisionError hatası"
      ],
      "execution_count": 4,
      "outputs": [
        {
          "output_type": "error",
          "ename": "ZeroDivisionError",
          "evalue": "ignored",
          "traceback": [
            "\u001b[0;31m---------------------------------------------------------------------------\u001b[0m",
            "\u001b[0;31mZeroDivisionError\u001b[0m                         Traceback (most recent call last)",
            "\u001b[0;32m<ipython-input-4-9a71086e5b5f>\u001b[0m in \u001b[0;36m<module>\u001b[0;34m()\u001b[0m\n\u001b[0;32m----> 1\u001b[0;31m \u001b[0mprint\u001b[0m\u001b[0;34m(\u001b[0m\u001b[0;36m2\u001b[0m\u001b[0;34m/\u001b[0m\u001b[0;36m0\u001b[0m\u001b[0;34m)\u001b[0m \u001b[0;31m# ZeroDivision hatası\u001b[0m\u001b[0;34m\u001b[0m\u001b[0;34m\u001b[0m\u001b[0m\n\u001b[0m",
            "\u001b[0;31mZeroDivisionError\u001b[0m: division by zero"
          ]
        }
      ]
    },
    {
      "cell_type": "code",
      "metadata": {
        "id": "zy5GorJG0z7h",
        "colab_type": "code",
        "colab": {
          "base_uri": "https://localhost:8080/",
          "height": 50
        },
        "outputId": "91d284d5-a397-45ac-c28e-1be639668698"
      },
      "source": [
        "try:\n",
        "  a=int(input(\"1.sayı:\"))\n",
        "  b=int(input(\"2.sayı:\"))\n",
        "  print(a/b)\n",
        "  # muhtemel hatalar, input içerisine sayı girilmemesi, 2. sayının 0 olarak girilmesi\n",
        "except ValueError:\n",
        "  print(\"input değerine sayı girmediniz.\")\n",
        "except ZeroDivisionError:\n",
        "  print(\"2.sayıyı 0 girdiniz, bir sayı 0 a bölünemez.\")  "
      ],
      "execution_count": 6,
      "outputs": [
        {
          "output_type": "stream",
          "text": [
            "1.sayı:asad\n",
            "input değerine sayı girmediniz.\n"
          ],
          "name": "stdout"
        }
      ]
    },
    {
      "cell_type": "code",
      "metadata": {
        "id": "RaXod3h81sgK",
        "colab_type": "code",
        "colab": {
          "base_uri": "https://localhost:8080/",
          "height": 67
        },
        "outputId": "21c09639-5e02-4f9b-aa5f-0daadf91a543"
      },
      "source": [
        "try:\n",
        "  a=int(input(\"1.sayı:\"))\n",
        "  b=int(input(\"2.sayı:\"))\n",
        "  print(a/b)\n",
        "  # muhtemel hatalar, input içerisine sayı girilmemesi, 2. sayının 0 olarak girilmesi\n",
        "except ValueError:\n",
        "  print(\"input değerine sayı girmediniz.\")\n",
        "except ZeroDivisionError:\n",
        "  print(\"2.sayıyı 0 girdiniz, bir sayı 0 a bölünemez.\")  "
      ],
      "execution_count": 7,
      "outputs": [
        {
          "output_type": "stream",
          "text": [
            "1.sayı:3\n",
            "2.sayı:0\n",
            "2.sayıyı 0 girdiniz, bir sayı 0 a bölünemez.\n"
          ],
          "name": "stdout"
        }
      ]
    },
    {
      "cell_type": "code",
      "metadata": {
        "id": "g0ejaJXk1vqo",
        "colab_type": "code",
        "colab": {
          "base_uri": "https://localhost:8080/",
          "height": 67
        },
        "outputId": "b6b6ab75-69c8-4452-f474-97bae44b3a29"
      },
      "source": [
        "try:\n",
        "  a=int(input(\"1.sayı:\"))\n",
        "  b=int(input(\"2.sayı:\"))\n",
        "  print(a/b)\n",
        "  # muhtemel hatalar, input içerisine sayı girilmemesi, 2. sayının 0 olarak girilmesi\n",
        "except ValueError:\n",
        "  print(\"input değerine sayı girmediniz.\")\n",
        "except ZeroDivisionError:\n",
        "  print(\"2.sayıyı 0 girdiniz, bir sayı 0 a bölünemez.\")  "
      ],
      "execution_count": 8,
      "outputs": [
        {
          "output_type": "stream",
          "text": [
            "1.sayı:3\n",
            "2.sayı:4\n",
            "0.75\n"
          ],
          "name": "stdout"
        }
      ]
    },
    {
      "cell_type": "code",
      "metadata": {
        "id": "V0mHjrjC1x51",
        "colab_type": "code",
        "colab": {
          "base_uri": "https://localhost:8080/",
          "height": 101
        },
        "outputId": "4dc47ed1-2d97-46c4-92da-ec561f6e529a"
      },
      "source": [
        "try:\n",
        "  a=int(input(\"1.sayı:\"))\n",
        "  b=int(input(\"2.sayı:\"))\n",
        "  print(a/b)\n",
        "  # muhtemel hatalar, input içerisine sayı girilmemesi, 2. sayının 0 olarak girilmesi\n",
        "except (ValueError, ZeroDivisionError):\n",
        "  print(\"input değerine sayı girmediniz.\\nveya\\n2.sayıyı 0 girdiniz, bir sayı 0 a bölünemez.\")"
      ],
      "execution_count": 10,
      "outputs": [
        {
          "output_type": "stream",
          "text": [
            "1.sayı:3\n",
            "2.sayı:cv\n",
            "input değerine sayı girmediniz.\n",
            "veya\n",
            "2.sayıyı 0 girdiniz, bir sayı 0 a bölünemez.\n"
          ],
          "name": "stdout"
        }
      ]
    },
    {
      "cell_type": "markdown",
      "metadata": {
        "id": "5MiwJUn02MtF",
        "colab_type": "text"
      },
      "source": [
        "# Hata Fırlatma"
      ]
    },
    {
      "cell_type": "code",
      "metadata": {
        "id": "gEJusl4q2FAC",
        "colab_type": "code",
        "colab": {
          "base_uri": "https://localhost:8080/",
          "height": 313
        },
        "outputId": "a3f6dbab-f33a-4534-f410-31e4b21ef09b"
      },
      "source": [
        "def terscevir(s):\n",
        "    if (type(s) != str):\n",
        "        raise ValueError(\"bir string girin.\")\n",
        "    else:\n",
        "        return s[::-1]\n",
        "print(terscevir(123))"
      ],
      "execution_count": 12,
      "outputs": [
        {
          "output_type": "error",
          "ename": "ValueError",
          "evalue": "ignored",
          "traceback": [
            "\u001b[0;31m---------------------------------------------------------------------------\u001b[0m",
            "\u001b[0;31mValueError\u001b[0m                                Traceback (most recent call last)",
            "\u001b[0;32m<ipython-input-12-d097da780697>\u001b[0m in \u001b[0;36m<module>\u001b[0;34m()\u001b[0m\n\u001b[1;32m      4\u001b[0m     \u001b[0;32melse\u001b[0m\u001b[0;34m:\u001b[0m\u001b[0;34m\u001b[0m\u001b[0;34m\u001b[0m\u001b[0m\n\u001b[1;32m      5\u001b[0m         \u001b[0;32mreturn\u001b[0m \u001b[0ms\u001b[0m\u001b[0;34m[\u001b[0m\u001b[0;34m:\u001b[0m\u001b[0;34m:\u001b[0m\u001b[0;34m-\u001b[0m\u001b[0;36m1\u001b[0m\u001b[0;34m]\u001b[0m\u001b[0;34m\u001b[0m\u001b[0;34m\u001b[0m\u001b[0m\n\u001b[0;32m----> 6\u001b[0;31m \u001b[0mprint\u001b[0m\u001b[0;34m(\u001b[0m\u001b[0mterscevir\u001b[0m\u001b[0;34m(\u001b[0m\u001b[0;36m123\u001b[0m\u001b[0;34m)\u001b[0m\u001b[0;34m)\u001b[0m\u001b[0;34m\u001b[0m\u001b[0;34m\u001b[0m\u001b[0m\n\u001b[0m",
            "\u001b[0;32m<ipython-input-12-d097da780697>\u001b[0m in \u001b[0;36mterscevir\u001b[0;34m(s)\u001b[0m\n\u001b[1;32m      1\u001b[0m \u001b[0;32mdef\u001b[0m \u001b[0mterscevir\u001b[0m\u001b[0;34m(\u001b[0m\u001b[0ms\u001b[0m\u001b[0;34m)\u001b[0m\u001b[0;34m:\u001b[0m\u001b[0;34m\u001b[0m\u001b[0;34m\u001b[0m\u001b[0m\n\u001b[1;32m      2\u001b[0m     \u001b[0;32mif\u001b[0m \u001b[0;34m(\u001b[0m\u001b[0mtype\u001b[0m\u001b[0;34m(\u001b[0m\u001b[0ms\u001b[0m\u001b[0;34m)\u001b[0m \u001b[0;34m!=\u001b[0m \u001b[0mstr\u001b[0m\u001b[0;34m)\u001b[0m\u001b[0;34m:\u001b[0m\u001b[0;34m\u001b[0m\u001b[0;34m\u001b[0m\u001b[0m\n\u001b[0;32m----> 3\u001b[0;31m         \u001b[0;32mraise\u001b[0m \u001b[0mValueError\u001b[0m\u001b[0;34m(\u001b[0m\u001b[0;34m\"bir string girin.\"\u001b[0m\u001b[0;34m)\u001b[0m\u001b[0;34m\u001b[0m\u001b[0;34m\u001b[0m\u001b[0m\n\u001b[0m\u001b[1;32m      4\u001b[0m     \u001b[0;32melse\u001b[0m\u001b[0;34m:\u001b[0m\u001b[0;34m\u001b[0m\u001b[0;34m\u001b[0m\u001b[0m\n\u001b[1;32m      5\u001b[0m         \u001b[0;32mreturn\u001b[0m \u001b[0ms\u001b[0m\u001b[0;34m[\u001b[0m\u001b[0;34m:\u001b[0m\u001b[0;34m:\u001b[0m\u001b[0;34m-\u001b[0m\u001b[0;36m1\u001b[0m\u001b[0;34m]\u001b[0m\u001b[0;34m\u001b[0m\u001b[0;34m\u001b[0m\u001b[0m\n",
            "\u001b[0;31mValueError\u001b[0m: bir string girin."
          ]
        }
      ]
    }
  ]
}