{
  "nbformat": 4,
  "nbformat_minor": 0,
  "metadata": {
    "colab": {
      "name": "27_Dosyalarda Kullanılan Fonksiyonlar.ipynb",
      "provenance": [],
      "collapsed_sections": []
    },
    "kernelspec": {
      "name": "python3",
      "display_name": "Python 3"
    }
  },
  "cells": [
    {
      "cell_type": "markdown",
      "metadata": {
        "id": "IE5wmsvPSaXU",
        "colab_type": "text"
      },
      "source": [
        "Dosyada yaptığımız her işlemden sonra dosyayı kapat komutu yazıyorduk onun yerine bunu kullanabiliriz"
      ]
    },
    {
      "cell_type": "code",
      "metadata": {
        "id": "kDp0sG3USS9D",
        "colab_type": "code",
        "colab": {}
      },
      "source": [
        "with open(\"bilgiler.txt\",\"w\", encoding=\"utf-8\") as file:\n",
        "  file.write(\"asdasd\\nqwewq\\n123123\\nasda2343\")           # kod bloğu bittikten sonra dosya kendiliğinden kapanır."
      ],
      "execution_count": 3,
      "outputs": []
    },
    {
      "cell_type": "code",
      "metadata": {
        "id": "WdmQAIGXTWUt",
        "colab_type": "code",
        "colab": {
          "base_uri": "https://localhost:8080/",
          "height": 101
        },
        "outputId": "375ab213-1fed-46d1-b0bf-52d7d67b55ce"
      },
      "source": [
        "with open(\"bilgiler.txt\",\"r\", encoding=\"utf-8\") as file:\n",
        "  print(file.read())\n",
        "  print(\"imleç şu an kaçıncı karakterde:\",file.tell())"
      ],
      "execution_count": 7,
      "outputs": [
        {
          "output_type": "stream",
          "text": [
            "asdasd\n",
            "qwewq\n",
            "123123\n",
            "asda2343\n",
            "imleç şu an kaçıncı karakterde: 28\n"
          ],
          "name": "stdout"
        }
      ]
    },
    {
      "cell_type": "code",
      "metadata": {
        "id": "99Bng5zBT4cH",
        "colab_type": "code",
        "colab": {
          "base_uri": "https://localhost:8080/",
          "height": 84
        },
        "outputId": "50d37a39-b465-4f3b-a0ba-bd7e24fbe0cd"
      },
      "source": [
        "with open(\"bilgiler.txt\",\"r\", encoding=\"utf-8\") as file:\n",
        "  file.seek(18) # imleci 20. karaktere götürdük\n",
        "  print(\"imleç şu an kaçıncı karakterde:\",file.tell())\n",
        "  print(file.read())\n",
        "  print(\"imleç şu an kaçıncı karakterde:\",file.tell())"
      ],
      "execution_count": 10,
      "outputs": [
        {
          "output_type": "stream",
          "text": [
            "imleç şu an kaçıncı karakterde: 18\n",
            "3\n",
            "asda2343\n",
            "imleç şu an kaçıncı karakterde: 28\n"
          ],
          "name": "stdout"
        }
      ]
    }
  ]
}