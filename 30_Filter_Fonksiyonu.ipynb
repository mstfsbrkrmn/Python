{
  "nbformat": 4,
  "nbformat_minor": 0,
  "metadata": {
    "colab": {
      "name": "30_Filter Fonksiyonu.ipynb",
      "provenance": [],
      "authorship_tag": "ABX9TyNggttEi1sAtBOGTW1w2ERq",
      "include_colab_link": true
    },
    "kernelspec": {
      "name": "python3",
      "display_name": "Python 3"
    }
  },
  "cells": [
    {
      "cell_type": "markdown",
      "metadata": {
        "id": "view-in-github",
        "colab_type": "text"
      },
      "source": [
        "<a href=\"https://colab.research.google.com/github/mstfsbrkrmn/Python/blob/master/30_Filter_Fonksiyonu.ipynb\" target=\"_parent\"><img src=\"https://colab.research.google.com/assets/colab-badge.svg\" alt=\"Open In Colab\"/></a>"
      ]
    },
    {
      "cell_type": "markdown",
      "metadata": {
        "id": "fuLhNdQIvUDs",
        "colab_type": "text"
      },
      "source": [
        "                filter(fonksiyon,iterasyon yapılabilen bir veritipi(liste vb.))\n",
        "\n",
        "**filter()** fonksiyonu birinci parametre olarak mutlaka mantıksal değer dönen (True , False) bir fonksiyon alır ve liste gibi veritiplerinin her bir elemanına bu fonksiyonunu uygular. filter sadece True sonuç çıkaran değerleri alarak bir tane filter objesi döner."
      ]
    },
    {
      "cell_type": "code",
      "metadata": {
        "id": "30JM9u3npdOM",
        "colab_type": "code",
        "colab": {
          "base_uri": "https://localhost:8080/",
          "height": 34
        },
        "outputId": "a054c68a-8cee-4a73-9234-96f09a3eff33"
      },
      "source": [
        "list(filter(lambda x : x % 2 == 0, [1,2,3,4,5,6,7,8,9,10]))"
      ],
      "execution_count": 1,
      "outputs": [
        {
          "output_type": "execute_result",
          "data": {
            "text/plain": [
              "[2, 4, 6, 8, 10]"
            ]
          },
          "metadata": {
            "tags": []
          },
          "execution_count": 1
        }
      ]
    },
    {
      "cell_type": "code",
      "metadata": {
        "id": "Dw91dOW9v7Wk",
        "colab_type": "code",
        "colab": {
          "base_uri": "https://localhost:8080/",
          "height": 538
        },
        "outputId": "48ace30a-8a71-4683-ff70-754b5ba5be42"
      },
      "source": [
        "def asal(s):\n",
        "  if s==0 or s==1:\n",
        "    return False\n",
        "  elif s==2:\n",
        "    return True\n",
        "  else:\n",
        "    if s%2==0:\n",
        "      return False\n",
        "    i=3\n",
        "    while i<int(s**0.5)+1:\n",
        "      if s%i==0:\n",
        "        return False\n",
        "      i+=2\n",
        "    return True\n",
        "list(filter(asal,range(1,130)))"
      ],
      "execution_count": 4,
      "outputs": [
        {
          "output_type": "execute_result",
          "data": {
            "text/plain": [
              "[2,\n",
              " 3,\n",
              " 5,\n",
              " 7,\n",
              " 11,\n",
              " 13,\n",
              " 17,\n",
              " 19,\n",
              " 23,\n",
              " 29,\n",
              " 31,\n",
              " 37,\n",
              " 41,\n",
              " 43,\n",
              " 47,\n",
              " 53,\n",
              " 59,\n",
              " 61,\n",
              " 67,\n",
              " 71,\n",
              " 73,\n",
              " 79,\n",
              " 83,\n",
              " 89,\n",
              " 97,\n",
              " 101,\n",
              " 103,\n",
              " 107,\n",
              " 109,\n",
              " 113,\n",
              " 127]"
            ]
          },
          "metadata": {
            "tags": []
          },
          "execution_count": 4
        }
      ]
    }
  ]
}