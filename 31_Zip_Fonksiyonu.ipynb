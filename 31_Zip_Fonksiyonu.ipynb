{
  "nbformat": 4,
  "nbformat_minor": 0,
  "metadata": {
    "colab": {
      "name": "31_Zip Fonksiyonu.ipynb",
      "provenance": [],
      "collapsed_sections": [],
      "authorship_tag": "ABX9TyPErt+u7JIP8Kf7Sgm9snI8",
      "include_colab_link": true
    },
    "kernelspec": {
      "name": "python3",
      "display_name": "Python 3"
    }
  },
  "cells": [
    {
      "cell_type": "markdown",
      "metadata": {
        "id": "view-in-github",
        "colab_type": "text"
      },
      "source": [
        "<a href=\"https://colab.research.google.com/github/mstfsbrkrmn/Python/blob/master/31_Zip_Fonksiyonu.ipynb\" target=\"_parent\"><img src=\"https://colab.research.google.com/assets/colab-badge.svg\" alt=\"Open In Colab\"/></a>"
      ]
    },
    {
      "cell_type": "markdown",
      "metadata": {
        "id": "0NdvrbpxxS0z",
        "colab_type": "text"
      },
      "source": [
        "\n",
        "\n",
        "```\n",
        "l1=[]\n",
        "l2=[]\n",
        "zip(l1,l2)=[(l1[0],l2[0]),(l1[1],l2[1]),(l1[2],l2[2]),...]\n",
        "```\n",
        "\n"
      ]
    },
    {
      "cell_type": "code",
      "metadata": {
        "id": "uFGtC-vkwc07",
        "colab_type": "code",
        "colab": {
          "base_uri": "https://localhost:8080/",
          "height": 34
        },
        "outputId": "f088f3f8-d1e5-499b-9c73-67319d6aa140"
      },
      "source": [
        "l1=[1,2,3,4,4,6,7,8,4]\n",
        "l2=[2,3,4,5,6,3,2,6]\n",
        "list(zip(l1,l2))"
      ],
      "execution_count": 1,
      "outputs": [
        {
          "output_type": "execute_result",
          "data": {
            "text/plain": [
              "[(1, 2), (2, 3), (3, 4), (4, 5), (4, 6), (6, 3), (7, 2), (8, 6)]"
            ]
          },
          "metadata": {
            "tags": []
          },
          "execution_count": 1
        }
      ]
    },
    {
      "cell_type": "code",
      "metadata": {
        "id": "xX2Ay6WQyFK2",
        "colab_type": "code",
        "colab": {
          "base_uri": "https://localhost:8080/",
          "height": 34
        },
        "outputId": "1b348219-f08f-4962-dfb7-3a103d8694ea"
      },
      "source": [
        "l3=[\"asd\",\"213\",\"sad\",\"qwe\"]\n",
        "zip(l1,l2,l3)"
      ],
      "execution_count": 2,
      "outputs": [
        {
          "output_type": "execute_result",
          "data": {
            "text/plain": [
              "<zip at 0x7f8dab6e51c8>"
            ]
          },
          "metadata": {
            "tags": []
          },
          "execution_count": 2
        }
      ]
    },
    {
      "cell_type": "code",
      "metadata": {
        "id": "W4h6jI22yMsT",
        "colab_type": "code",
        "colab": {
          "base_uri": "https://localhost:8080/",
          "height": 34
        },
        "outputId": "f66a83ac-2a84-4d26-951b-bf55aa237e9e"
      },
      "source": [
        "list(zip(l1,l2,l3))"
      ],
      "execution_count": 3,
      "outputs": [
        {
          "output_type": "execute_result",
          "data": {
            "text/plain": [
              "[(1, 2, 'asd'), (2, 3, '213'), (3, 4, 'sad'), (4, 5, 'qwe')]"
            ]
          },
          "metadata": {
            "tags": []
          },
          "execution_count": 3
        }
      ]
    }
  ]
}