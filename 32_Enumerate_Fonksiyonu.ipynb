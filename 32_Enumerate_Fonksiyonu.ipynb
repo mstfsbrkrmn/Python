{
  "nbformat": 4,
  "nbformat_minor": 0,
  "metadata": {
    "colab": {
      "name": "32_Enumerate Fonksiyonu.ipynb",
      "provenance": [],
      "collapsed_sections": [],
      "authorship_tag": "ABX9TyPP9tYJbDZLbRFtw3lqB5kw",
      "include_colab_link": true
    },
    "kernelspec": {
      "name": "python3",
      "display_name": "Python 3"
    }
  },
  "cells": [
    {
      "cell_type": "markdown",
      "metadata": {
        "id": "view-in-github",
        "colab_type": "text"
      },
      "source": [
        "<a href=\"https://colab.research.google.com/github/mstfsbrkrmn/Python/blob/master/32_Enumerate_Fonksiyonu.ipynb\" target=\"_parent\"><img src=\"https://colab.research.google.com/assets/colab-badge.svg\" alt=\"Open In Colab\"/></a>"
      ]
    },
    {
      "cell_type": "code",
      "metadata": {
        "id": "AT_KwjxazG7B",
        "colab_type": "code",
        "colab": {
          "base_uri": "https://localhost:8080/",
          "height": 34
        },
        "outputId": "5f7564c6-113e-4745-a465-8fcdc3490ea1"
      },
      "source": [
        "liste = [\"Elma\",\"Armut\",\"Muz\",\"Kiraz\"]\n",
        "\n",
        "# sonucu [(0,'Elma'),(1,'Armut'),(2,'Muz'),(3,'Kiraz')] yapmak istiyoruz.\n",
        "\n",
        "sonuç = list()\n",
        "\n",
        "i = 0\n",
        "\n",
        "for a in liste:\n",
        "    \n",
        "    sonuç.append((i,a))\n",
        "    i +=1\n",
        "print(sonuç)"
      ],
      "execution_count": 1,
      "outputs": [
        {
          "output_type": "stream",
          "text": [
            "[(0, 'Elma'), (1, 'Armut'), (2, 'Muz'), (3, 'Kiraz')]\n"
          ],
          "name": "stdout"
        }
      ]
    },
    {
      "cell_type": "code",
      "metadata": {
        "id": "9VqC67u6zLTB",
        "colab_type": "code",
        "colab": {
          "base_uri": "https://localhost:8080/",
          "height": 34
        },
        "outputId": "f1e2fec5-d4ac-45a7-bf9c-95d5d48a32ee"
      },
      "source": [
        "list(enumerate(liste))"
      ],
      "execution_count": 3,
      "outputs": [
        {
          "output_type": "execute_result",
          "data": {
            "text/plain": [
              "[(0, 'Elma'), (1, 'Armut'), (2, 'Muz'), (3, 'Kiraz')]"
            ]
          },
          "metadata": {
            "tags": []
          },
          "execution_count": 3
        }
      ]
    },
    {
      "cell_type": "code",
      "metadata": {
        "id": "6aGG1OTGzZSs",
        "colab_type": "code",
        "colab": {
          "base_uri": "https://localhost:8080/",
          "height": 84
        },
        "outputId": "49e50de0-be92-458f-ef14-8b6661e8f2ee"
      },
      "source": [
        "for i,j in enumerate(liste):\n",
        "  print(\"liste[{}]='{}'\".format(i,j))"
      ],
      "execution_count": 6,
      "outputs": [
        {
          "output_type": "stream",
          "text": [
            "liste[0]='Elma'\n",
            "liste[1]='Armut'\n",
            "liste[2]='Muz'\n",
            "liste[3]='Kiraz'\n"
          ],
          "name": "stdout"
        }
      ]
    }
  ]
}