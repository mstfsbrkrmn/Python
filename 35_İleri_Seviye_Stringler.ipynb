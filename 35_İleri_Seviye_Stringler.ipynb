{
  "nbformat": 4,
  "nbformat_minor": 0,
  "metadata": {
    "colab": {
      "name": "35_İleri Seviye Stringler.ipynb",
      "provenance": [],
      "collapsed_sections": [],
      "authorship_tag": "ABX9TyPv6ZxbpUzwEUZgNnBSpjGV",
      "include_colab_link": true
    },
    "kernelspec": {
      "name": "python3",
      "display_name": "Python 3"
    }
  },
  "cells": [
    {
      "cell_type": "markdown",
      "metadata": {
        "id": "view-in-github",
        "colab_type": "text"
      },
      "source": [
        "<a href=\"https://colab.research.google.com/github/mstfsbrkrmn/Python/blob/master/35_%C4%B0leri_Seviye_Stringler.ipynb\" target=\"_parent\"><img src=\"https://colab.research.google.com/assets/colab-badge.svg\" alt=\"Open In Colab\"/></a>"
      ]
    },
    {
      "cell_type": "markdown",
      "metadata": {
        "id": "JfWx3puTZWV3",
        "colab_type": "text"
      },
      "source": [
        "**upper()** metodu stringin tüm karakterlerini büyük harfe çevirir.\n",
        "\n",
        "**lower()** metodu stringin tüm karakterlerini küçük harfe çevirir."
      ]
    },
    {
      "cell_type": "code",
      "metadata": {
        "id": "-is4tM3wZPVo",
        "colab_type": "code",
        "colab": {
          "base_uri": "https://localhost:8080/",
          "height": 34
        },
        "outputId": "7c305468-fc00-46c3-be52-38b68517e925"
      },
      "source": [
        "\"sELam\".upper()"
      ],
      "execution_count": 1,
      "outputs": [
        {
          "output_type": "execute_result",
          "data": {
            "text/plain": [
              "'SELAM'"
            ]
          },
          "metadata": {
            "tags": []
          },
          "execution_count": 1
        }
      ]
    },
    {
      "cell_type": "code",
      "metadata": {
        "id": "8dUoicVZZiju",
        "colab_type": "code",
        "colab": {
          "base_uri": "https://localhost:8080/",
          "height": 34
        },
        "outputId": "07797b68-6842-4fbf-e1db-bf75eda66f1d"
      },
      "source": [
        "\"SElam\".lower()"
      ],
      "execution_count": 2,
      "outputs": [
        {
          "output_type": "execute_result",
          "data": {
            "text/plain": [
              "'selam'"
            ]
          },
          "metadata": {
            "tags": []
          },
          "execution_count": 2
        }
      ]
    },
    {
      "cell_type": "markdown",
      "metadata": {
        "id": "7u3uKONXZs4Z",
        "colab_type": "text"
      },
      "source": [
        "**replace(x,y)** stringteki x değerlerini y ile değiştirir."
      ]
    },
    {
      "cell_type": "code",
      "metadata": {
        "id": "xfU_gWxMZwXL",
        "colab_type": "code",
        "colab": {
          "base_uri": "https://localhost:8080/",
          "height": 34
        },
        "outputId": "dc960204-6c5b-49a7-ff54-346e8d372432"
      },
      "source": [
        "\"araba\".replace(\"a\",\"i\")"
      ],
      "execution_count": 3,
      "outputs": [
        {
          "output_type": "execute_result",
          "data": {
            "text/plain": [
              "'iribi'"
            ]
          },
          "metadata": {
            "tags": []
          },
          "execution_count": 3
        }
      ]
    },
    {
      "cell_type": "markdown",
      "metadata": {
        "id": "3wP97GmNaH7h",
        "colab_type": "text"
      },
      "source": [
        "**startswith(x)** string x ile başlıyorsa True, başlamıyorsa False değeri döndürür.\n",
        "\n",
        "**endswith(x)** string x ile bitiyorsa True, bitmiyorsa False değeri döndürür."
      ]
    },
    {
      "cell_type": "code",
      "metadata": {
        "id": "Yvifowr6aLF4",
        "colab_type": "code",
        "colab": {
          "base_uri": "https://localhost:8080/",
          "height": 34
        },
        "outputId": "bf9d55c7-627e-4e14-a7f0-b003b6ebfb1e"
      },
      "source": [
        "\"Selam\".startswith(\"s\")"
      ],
      "execution_count": 4,
      "outputs": [
        {
          "output_type": "execute_result",
          "data": {
            "text/plain": [
              "False"
            ]
          },
          "metadata": {
            "tags": []
          },
          "execution_count": 4
        }
      ]
    },
    {
      "cell_type": "code",
      "metadata": {
        "id": "v4HMsi1IaQt0",
        "colab_type": "code",
        "colab": {
          "base_uri": "https://localhost:8080/",
          "height": 34
        },
        "outputId": "1da2fa3e-084a-4a8d-ea9f-d68706e8c976"
      },
      "source": [
        "\"Selam\".startswith(\"S\")"
      ],
      "execution_count": 5,
      "outputs": [
        {
          "output_type": "execute_result",
          "data": {
            "text/plain": [
              "True"
            ]
          },
          "metadata": {
            "tags": []
          },
          "execution_count": 5
        }
      ]
    },
    {
      "cell_type": "markdown",
      "metadata": {
        "id": "PB_PVhX4aXcz",
        "colab_type": "text"
      },
      "source": [
        "**split(a)** verilen bir a değerine göre string parçalara ayrılarak herbir parça listeye atılır."
      ]
    },
    {
      "cell_type": "code",
      "metadata": {
        "id": "O7cCwLZbaZBz",
        "colab_type": "code",
        "colab": {
          "base_uri": "https://localhost:8080/",
          "height": 34
        },
        "outputId": "660624a5-2842-4c26-edf3-328574a7c101"
      },
      "source": [
        "a=\"10901232123133121\".split(\"1\")\n",
        "a"
      ],
      "execution_count": 6,
      "outputs": [
        {
          "output_type": "execute_result",
          "data": {
            "text/plain": [
              "['', '090', '232', '23', '33', '2', '']"
            ]
          },
          "metadata": {
            "tags": []
          },
          "execution_count": 6
        }
      ]
    },
    {
      "cell_type": "code",
      "metadata": {
        "id": "6nXve6i_a1QL",
        "colab_type": "code",
        "colab": {
          "base_uri": "https://localhost:8080/",
          "height": 34
        },
        "outputId": "a46626e5-d1ae-400c-9161-f64358790629"
      },
      "source": [
        "b=\"kelimeler arası boşlukları olan cümle\".split(\" \")\n",
        "b"
      ],
      "execution_count": 7,
      "outputs": [
        {
          "output_type": "execute_result",
          "data": {
            "text/plain": [
              "['kelimeler', 'arası', 'boşlukları', 'olan', 'cümle']"
            ]
          },
          "metadata": {
            "tags": []
          },
          "execution_count": 7
        }
      ]
    },
    {
      "cell_type": "markdown",
      "metadata": {
        "id": "feIla9EsbChA",
        "colab_type": "text"
      },
      "source": [
        "**strip(x)** stringin başında ve sonunda bulunan x değerlerini siler.\n",
        "\n",
        "**lstrip(x)** stringin sadece başında bulunan x değerlerini siler.\n",
        "\n",
        "**rstrip(x)** stringin sadece sonunda bulunan x değerlerini siler."
      ]
    },
    {
      "cell_type": "code",
      "metadata": {
        "id": "Xr8ASDlrbIu8",
        "colab_type": "code",
        "colab": {
          "base_uri": "https://localhost:8080/",
          "height": 34
        },
        "outputId": "a36b2ef8-a8af-422a-cd5d-6ec0fe851e2d"
      },
      "source": [
        "\"                   python                          \".strip() # değer göndermezsek varsayılan olarak boşluk karakteri"
      ],
      "execution_count": 8,
      "outputs": [
        {
          "output_type": "execute_result",
          "data": {
            "text/plain": [
              "'python'"
            ]
          },
          "metadata": {
            "tags": []
          },
          "execution_count": 8
        }
      ]
    },
    {
      "cell_type": "code",
      "metadata": {
        "id": "eo4ZAKaebO4V",
        "colab_type": "code",
        "colab": {
          "base_uri": "https://localhost:8080/",
          "height": 34
        },
        "outputId": "86d7b634-2266-413d-b8aa-c0adc394077c"
      },
      "source": [
        "\"                            python      \".lstrip()"
      ],
      "execution_count": 9,
      "outputs": [
        {
          "output_type": "execute_result",
          "data": {
            "text/plain": [
              "'python      '"
            ]
          },
          "metadata": {
            "tags": []
          },
          "execution_count": 9
        }
      ]
    },
    {
      "cell_type": "code",
      "metadata": {
        "id": "EwNvIsfbbR-5",
        "colab_type": "code",
        "colab": {
          "base_uri": "https://localhost:8080/",
          "height": 34
        },
        "outputId": "0ded3db6-7148-4ebf-a187-9830400273de"
      },
      "source": [
        "\"                            python      \".rstrip()"
      ],
      "execution_count": 10,
      "outputs": [
        {
          "output_type": "execute_result",
          "data": {
            "text/plain": [
              "'                            python'"
            ]
          },
          "metadata": {
            "tags": []
          },
          "execution_count": 10
        }
      ]
    },
    {
      "cell_type": "markdown",
      "metadata": {
        "id": "-gvjKoUAbYMu",
        "colab_type": "text"
      },
      "source": [
        "**join(**) listenin elemanlarını bir string değeriyle birleştirmemizi sağlar."
      ]
    },
    {
      "cell_type": "code",
      "metadata": {
        "id": "9RTmlp3gbcYn",
        "colab_type": "code",
        "colab": {
          "base_uri": "https://localhost:8080/",
          "height": 34
        },
        "outputId": "fe65a463-f687-4b39-960c-8ec7cee013ed"
      },
      "source": [
        "\".\".join([\"T\",\"B\",\"M\",\"M\"])"
      ],
      "execution_count": 11,
      "outputs": [
        {
          "output_type": "execute_result",
          "data": {
            "text/plain": [
              "'T.B.M.M'"
            ]
          },
          "metadata": {
            "tags": []
          },
          "execution_count": 11
        }
      ]
    },
    {
      "cell_type": "markdown",
      "metadata": {
        "id": "2TaLRttwbnIF",
        "colab_type": "text"
      },
      "source": [
        "**count(x)** stringin içindeki x değerlerini sayar.\n",
        "\n",
        "**count(x,index)** stringin içindeki x değerlerini verilen index değerinden başlayarak saymaya başlar."
      ]
    },
    {
      "cell_type": "code",
      "metadata": {
        "id": "U7ToBhRZbwUk",
        "colab_type": "code",
        "colab": {
          "base_uri": "https://localhost:8080/",
          "height": 34
        },
        "outputId": "07b393a7-4999-4a50-d017-7dea0b8714fe"
      },
      "source": [
        "\"ada kapısı yandan çarklı\".count(\"a\")"
      ],
      "execution_count": 12,
      "outputs": [
        {
          "output_type": "execute_result",
          "data": {
            "text/plain": [
              "6"
            ]
          },
          "metadata": {
            "tags": []
          },
          "execution_count": 12
        }
      ]
    },
    {
      "cell_type": "code",
      "metadata": {
        "id": "FhozCrlfbyAt",
        "colab_type": "code",
        "colab": {
          "base_uri": "https://localhost:8080/",
          "height": 34
        },
        "outputId": "5c4b28f9-6364-4ca0-fc76-99e526149f17"
      },
      "source": [
        "\"ada kapısı yandan çarklı\".count(\" \")"
      ],
      "execution_count": 14,
      "outputs": [
        {
          "output_type": "execute_result",
          "data": {
            "text/plain": [
              "3"
            ]
          },
          "metadata": {
            "tags": []
          },
          "execution_count": 14
        }
      ]
    },
    {
      "cell_type": "code",
      "metadata": {
        "id": "LuBB3Z3ab06G",
        "colab_type": "code",
        "colab": {
          "base_uri": "https://localhost:8080/",
          "height": 34
        },
        "outputId": "034e75dd-e30a-4334-9a26-d3e64f8f9537"
      },
      "source": [
        "\"ada kapısı yandan çarklı\".count(\"a\",2)"
      ],
      "execution_count": 15,
      "outputs": [
        {
          "output_type": "execute_result",
          "data": {
            "text/plain": [
              "5"
            ]
          },
          "metadata": {
            "tags": []
          },
          "execution_count": 15
        }
      ]
    },
    {
      "cell_type": "markdown",
      "metadata": {
        "id": "HrmZqvfwb-EL",
        "colab_type": "text"
      },
      "source": [
        "**find(x)** x değerini baştan itibaren string içinde arar ve bulursa ilk bulduğu indeksi döndürür. Bulamazsa \"-1\" değerini verir.\n",
        "\n",
        "**rfind(x)** x değerini sondan itibaren string içinde arar ve bulursa ilk bulduğu indeksi döndürür. Bulamazsa \"-1\" değerini verir."
      ]
    },
    {
      "cell_type": "code",
      "metadata": {
        "id": "cQ7CI2LFcB4B",
        "colab_type": "code",
        "colab": {
          "base_uri": "https://localhost:8080/",
          "height": 34
        },
        "outputId": "4e272f55-b89a-4597-cf5f-dbf9d748325f"
      },
      "source": [
        "\"araba\".find(\"a\")"
      ],
      "execution_count": 16,
      "outputs": [
        {
          "output_type": "execute_result",
          "data": {
            "text/plain": [
              "0"
            ]
          },
          "metadata": {
            "tags": []
          },
          "execution_count": 16
        }
      ]
    },
    {
      "cell_type": "code",
      "metadata": {
        "id": "QJeMy7yNcD0Q",
        "colab_type": "code",
        "colab": {
          "base_uri": "https://localhost:8080/",
          "height": 34
        },
        "outputId": "8191c6ca-3506-4f6f-fe4f-b52324015fe8"
      },
      "source": [
        "\"araba\".find(\"s\")"
      ],
      "execution_count": 17,
      "outputs": [
        {
          "output_type": "execute_result",
          "data": {
            "text/plain": [
              "-1"
            ]
          },
          "metadata": {
            "tags": []
          },
          "execution_count": 17
        }
      ]
    },
    {
      "cell_type": "code",
      "metadata": {
        "id": "7FXt27itcInJ",
        "colab_type": "code",
        "colab": {
          "base_uri": "https://localhost:8080/",
          "height": 34
        },
        "outputId": "39b3d62f-06a9-4934-8a69-f29a1e32c345"
      },
      "source": [
        "\"araba\".rfind(\"a\")"
      ],
      "execution_count": 18,
      "outputs": [
        {
          "output_type": "execute_result",
          "data": {
            "text/plain": [
              "4"
            ]
          },
          "metadata": {
            "tags": []
          },
          "execution_count": 18
        }
      ]
    }
  ]
}