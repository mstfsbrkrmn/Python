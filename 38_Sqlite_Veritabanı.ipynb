{
  "nbformat": 4,
  "nbformat_minor": 0,
  "metadata": {
    "colab": {
      "name": "37_Sqlite Veritabanı.ipynb",
      "provenance": [],
      "collapsed_sections": [],
      "authorship_tag": "ABX9TyO81/sBI/6wRV76RTmqDG5Y",
      "include_colab_link": true
    },
    "kernelspec": {
      "name": "python3",
      "display_name": "Python 3"
    }
  },
  "cells": [
    {
      "cell_type": "markdown",
      "metadata": {
        "id": "view-in-github",
        "colab_type": "text"
      },
      "source": [
        "<a href=\"https://colab.research.google.com/github/mstfsbrkrmn/Python/blob/master/37_Sqlite_Veritaban%C4%B1.ipynb\" target=\"_parent\"><img src=\"https://colab.research.google.com/assets/colab-badge.svg\" alt=\"Open In Colab\"/></a>"
      ]
    },
    {
      "cell_type": "code",
      "metadata": {
        "id": "CC4BpmiR6iBr",
        "colab_type": "code",
        "colab": {}
      },
      "source": [
        "import sqlite3 # Sqlite'yı dahil ediyoruz\n",
        "\n",
        "con = sqlite3.connect(\"kütüphane.db\") # Tabloya bağlanıyoruz.\n",
        "\n",
        "cursor = con.cursor() # cursor isimli değişken veritabanı üzerinde işlem yapmak için kullanacağımız imleç olacak.\n",
        "\n",
        "con.close() # Bağlantıyı koparıyoruz."
      ],
      "execution_count": 10,
      "outputs": []
    },
    {
      "cell_type": "code",
      "metadata": {
        "id": "JVhmJBm76-0S",
        "colab_type": "code",
        "colab": {
          "base_uri": "https://localhost:8080/",
          "height": 84
        },
        "outputId": "926e0c96-f565-4e69-ea3e-220319ffaa67"
      },
      "source": [
        "con = sqlite3.connect(\"kütüphane.db\") # Tabloya bağlanıyoruz.\n",
        "\n",
        "cursor = con.cursor() # cursor isimli değişken veritabanı üzerinde işlem yapmak için kullanacağımız imleç olacak.\n",
        "\n",
        "def tablo_oluştur():\n",
        "    cursor.execute(\"CREATE TABLE IF NOT EXISTS kitaplık (İsim TEXT, Yazar TEXT, Yayınevi TEXT, Sayfa_Sayısı INT)\") # Sorguyu çalıştırıyoruz.\n",
        "    con.commit() # Sorgunun veritabanı üzerinde geçerli olması için commit işlemi gerekli.\n",
        "tablo_oluştur()\n",
        "\n",
        "def deger_ekle(isim,yazar,yayınevi,sayfa_sayısı):\n",
        "    cursor.execute(\"INSERT INTO kitaplık VALUES(?,?,?,?)\",(isim,yazar,yayınevi,sayfa_sayısı))\n",
        "    con.commit()\n",
        "isim = input(\"İsim:\")\n",
        "yazar = input(\"Yazar:\")\n",
        "yayınevi = input(\"Yayınevi:\")\n",
        "sayfa_sayısı =  int(input(\"Sayfa Sayısı:\"))\n",
        "\n",
        "\n",
        "deger_ekle(isim,yazar,yayınevi,sayfa_sayısı)\n",
        "def verileri_al():\n",
        "    cursor.execute(\"Select * From kitaplık\") # Bütün bilgileri alıyoruz.\n",
        "    data = cursor.fetchall() # Veritabanından bilgileri çekmek için fetchall() kullanıyoruz.\n",
        "    print(\"Kitaplık Tablosunun bilgileri.....\")\n",
        "    for i in data:\n",
        "        print(i)\n",
        "    # con.commit() işlemine gerek yok. Çünkü tabloda herhangi bir güncelleme yapmıyoruz."
      ],
      "execution_count": 11,
      "outputs": [
        {
          "output_type": "stream",
          "text": [
            "İsim:Matematik ve Metafizik\n",
            "Yazar:Ahmet Ayhan ÇİTİL\n",
            "Yayınevi:ALFA\n",
            "Sayfa Sayısı:287\n"
          ],
          "name": "stdout"
        }
      ]
    },
    {
      "cell_type": "code",
      "metadata": {
        "id": "zys_kn-s7INy",
        "colab_type": "code",
        "colab": {
          "base_uri": "https://localhost:8080/",
          "height": 84
        },
        "outputId": "bbb0975b-249f-4c57-bda4-40b1673a26d5"
      },
      "source": [
        "verileri_al()"
      ],
      "execution_count": 12,
      "outputs": [
        {
          "output_type": "stream",
          "text": [
            "Kitaplık Tablosunun bilgileri.....\n",
            "('retorik', 'Aristoteles', 'YKY', 210)\n",
            "('homo deus', 'yuval noah harari', 'kirpi', 451)\n",
            "('Matematik ve Metafizik', 'Ahmet Ayhan ÇİTİL', 'ALFA', 287)\n"
          ],
          "name": "stdout"
        }
      ]
    },
    {
      "cell_type": "code",
      "metadata": {
        "id": "wfYOYSVPAOkz",
        "colab_type": "code",
        "colab": {
          "base_uri": "https://localhost:8080/",
          "height": 84
        },
        "outputId": "cdc369f2-12f1-4ce6-e687-b4507d4ba313"
      },
      "source": [
        "def verileri_al2():\n",
        "    cursor.execute(\"Select İsim,Yazar From kitaplık\") # Sadece İsim ve Yazar özelliklerini alıyoruz.\n",
        "    data = cursor.fetchall()\n",
        "    print(\"Kitaplık Tablosunun bilgileri.....\")\n",
        "    for i in data:\n",
        "        print(i)\n",
        "verileri_al2()"
      ],
      "execution_count": 13,
      "outputs": [
        {
          "output_type": "stream",
          "text": [
            "Kitaplık Tablosunun bilgileri.....\n",
            "('retorik', 'Aristoteles')\n",
            "('homo deus', 'yuval noah harari')\n",
            "('Matematik ve Metafizik', 'Ahmet Ayhan ÇİTİL')\n"
          ],
          "name": "stdout"
        }
      ]
    },
    {
      "cell_type": "code",
      "metadata": {
        "id": "XAg4-3nDArNf",
        "colab_type": "code",
        "colab": {
          "base_uri": "https://localhost:8080/",
          "height": 50
        },
        "outputId": "e9f77f30-5683-4004-a28a-6ab2ecebebda"
      },
      "source": [
        "def verileri_al3(yayınevi):\n",
        "    cursor.execute(\"Select * From kitaplık where Yayınevi = ?\",(yayınevi,)) # Sadece yayınevi ,Everest olan kitapları alıyoruz.\n",
        "    data = cursor.fetchall()\n",
        "    print(\"Kitaplık Tablosunun bilgileri.....\")\n",
        "    for i in data:\n",
        "        print(i)\n",
        "verileri_al3(\"ALFA\")"
      ],
      "execution_count": 15,
      "outputs": [
        {
          "output_type": "stream",
          "text": [
            "Kitaplık Tablosunun bilgileri.....\n",
            "('Matematik ve Metafizik', 'Ahmet Ayhan ÇİTİL', 'ALFA', 287)\n"
          ],
          "name": "stdout"
        }
      ]
    },
    {
      "cell_type": "code",
      "metadata": {
        "id": "Fzv3IqjgA3La",
        "colab_type": "code",
        "colab": {}
      },
      "source": [
        "con.close()"
      ],
      "execution_count": 16,
      "outputs": []
    },
    {
      "cell_type": "code",
      "metadata": {
        "id": "P8800TzHCs7l",
        "colab_type": "code",
        "colab": {
          "base_uri": "https://localhost:8080/",
          "height": 151
        },
        "outputId": "6cc37728-86eb-4d3a-ea16-da22ee5f4160"
      },
      "source": [
        "con = sqlite3.connect(\"kütüphane.db\") # Tabloya bağlanıyoruz.\n",
        "\n",
        "cursor = con.cursor() # cursor isimli değişken veritabanı üzerinde işlem yapmak için kullanacağımız imleç olacak.\n",
        "\n",
        "def verigüncelle(yayınevi):\n",
        "    cursor.execute(\"Update kitaplık set Yayınevi = ? where Yayınevi =  ?\",(\"BETA\",yayınevi))\n",
        "    con.commit()\n",
        "verileri_al()\n",
        "verigüncelle(\"ALFA\")\n",
        "verileri_al()"
      ],
      "execution_count": 17,
      "outputs": [
        {
          "output_type": "stream",
          "text": [
            "Kitaplık Tablosunun bilgileri.....\n",
            "('retorik', 'Aristoteles', 'YKY', 210)\n",
            "('homo deus', 'yuval noah harari', 'kirpi', 451)\n",
            "('Matematik ve Metafizik', 'Ahmet Ayhan ÇİTİL', 'ALFA', 287)\n",
            "Kitaplık Tablosunun bilgileri.....\n",
            "('retorik', 'Aristoteles', 'YKY', 210)\n",
            "('homo deus', 'yuval noah harari', 'kirpi', 451)\n",
            "('Matematik ve Metafizik', 'Ahmet Ayhan ÇİTİL', 'BETA', 287)\n"
          ],
          "name": "stdout"
        }
      ]
    },
    {
      "cell_type": "code",
      "metadata": {
        "id": "uA0ZohIgDAzi",
        "colab_type": "code",
        "colab": {
          "base_uri": "https://localhost:8080/",
          "height": 134
        },
        "outputId": "91710e3d-22a8-4dfc-eebc-d26d07b8d69d"
      },
      "source": [
        "def verilerisil(yazar):\n",
        "    cursor.execute(\"Delete  From kitaplık where Yazar = ?\",(yazar,))\n",
        "    con.commit()\n",
        "verileri_al()\n",
        "verilerisil(\"Aristoteles\")\n",
        "verileri_al()\n",
        "con.close()   "
      ],
      "execution_count": 18,
      "outputs": [
        {
          "output_type": "stream",
          "text": [
            "Kitaplık Tablosunun bilgileri.....\n",
            "('retorik', 'Aristoteles', 'YKY', 210)\n",
            "('homo deus', 'yuval noah harari', 'kirpi', 451)\n",
            "('Matematik ve Metafizik', 'Ahmet Ayhan ÇİTİL', 'BETA', 287)\n",
            "Kitaplık Tablosunun bilgileri.....\n",
            "('homo deus', 'yuval noah harari', 'kirpi', 451)\n",
            "('Matematik ve Metafizik', 'Ahmet Ayhan ÇİTİL', 'BETA', 287)\n"
          ],
          "name": "stdout"
        }
      ]
    }
  ]
}
