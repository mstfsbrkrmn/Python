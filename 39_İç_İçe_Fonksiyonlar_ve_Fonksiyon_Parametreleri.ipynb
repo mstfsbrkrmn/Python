{
  "nbformat": 4,
  "nbformat_minor": 0,
  "metadata": {
    "colab": {
      "name": "39_İç İçe Fonksiyonlar ve Fonksiyon Parametreleri.ipynb",
      "provenance": [],
      "collapsed_sections": [],
      "authorship_tag": "ABX9TyPNDrCU10Qs2DmBJBLWpWR2",
      "include_colab_link": true
    },
    "kernelspec": {
      "name": "python3",
      "display_name": "Python 3"
    }
  },
  "cells": [
    {
      "cell_type": "markdown",
      "metadata": {
        "id": "view-in-github",
        "colab_type": "text"
      },
      "source": [
        "<a href=\"https://colab.research.google.com/github/mstfsbrkrmn/Python/blob/master/39_%C4%B0%C3%A7_%C4%B0%C3%A7e_Fonksiyonlar_ve_Fonksiyon_Parametreleri.ipynb\" target=\"_parent\"><img src=\"https://colab.research.google.com/assets/colab-badge.svg\" alt=\"Open In Colab\"/></a>"
      ]
    },
    {
      "cell_type": "code",
      "metadata": {
        "id": "1ipoRiFTFCgI",
        "colab_type": "code",
        "colab": {
          "base_uri": "https://localhost:8080/",
          "height": 118
        },
        "outputId": "abc293bf-2ea4-481e-9312-bf84dd3c3cb8"
      },
      "source": [
        "def fonksiyon(*args): # İstediğimiz sayıda argüman gönderebiliyoruz.\n",
        "    print(args)\n",
        "    for i in args:\n",
        "        print(i)\n",
        "fonksiyon(1,2,3,4,5)"
      ],
      "execution_count": 2,
      "outputs": [
        {
          "output_type": "stream",
          "text": [
            "(1, 2, 3, 4, 5)\n",
            "1\n",
            "2\n",
            "3\n",
            "4\n",
            "5\n"
          ],
          "name": "stdout"
        }
      ]
    },
    {
      "cell_type": "code",
      "metadata": {
        "id": "S7pvBqRXFdsZ",
        "colab_type": "code",
        "colab": {
          "base_uri": "https://localhost:8080/",
          "height": 118
        },
        "outputId": "3c89f538-e714-418c-d1bb-abcedc37920f"
      },
      "source": [
        "def fonksiyon2(isim,*args): \n",
        "    print(\"İsim:\",isim)\n",
        "    for i in args:\n",
        "        print(i)\n",
        "\n",
        "fonksiyon2(\"deneme\",4,4,3,2,1)"
      ],
      "execution_count": 3,
      "outputs": [
        {
          "output_type": "stream",
          "text": [
            "İsim: deneme\n",
            "4\n",
            "4\n",
            "3\n",
            "2\n",
            "1\n"
          ],
          "name": "stdout"
        }
      ]
    },
    {
      "cell_type": "code",
      "metadata": {
        "id": "-qLKtrR8Fnxv",
        "colab_type": "code",
        "colab": {
          "base_uri": "https://localhost:8080/",
          "height": 34
        },
        "outputId": "a4dea133-86de-420d-dd4e-fa0c6a3424e9"
      },
      "source": [
        "def fonksiyon(**kwargs):\n",
        "    print(kwargs)\n",
        "\n",
        "fonksiyon(isim = \"hello\", soyisim = \"world\", numara = 12345)"
      ],
      "execution_count": 4,
      "outputs": [
        {
          "output_type": "stream",
          "text": [
            "{'isim': 'hello', 'soyisim': 'world', 'numara': 12345}\n"
          ],
          "name": "stdout"
        }
      ]
    },
    {
      "cell_type": "code",
      "metadata": {
        "id": "DBoQiqy8F1ES",
        "colab_type": "code",
        "colab": {
          "base_uri": "https://localhost:8080/",
          "height": 202
        },
        "outputId": "c2567ef9-7de8-4f91-9c11-1b7a37b1c664"
      },
      "source": [
        "def fonksiyon(*args,**kwargs):\n",
        "    for i in args:\n",
        "        print(\"Argümanlar:\",i)\n",
        "    print(\"------------------------------\")\n",
        "    for i ,j in kwargs.items():\n",
        "        print(\"Argüman İsmi:\",i,\"Argüman Değeri:\",j)\n",
        "        \n",
        "fonksiyon(1,2,3,4,5,6,7,isim = \"hello\",soyisim = \"world\", numara = 12345)"
      ],
      "execution_count": 5,
      "outputs": [
        {
          "output_type": "stream",
          "text": [
            "Argümanlar: 1\n",
            "Argümanlar: 2\n",
            "Argümanlar: 3\n",
            "Argümanlar: 4\n",
            "Argümanlar: 5\n",
            "Argümanlar: 6\n",
            "Argümanlar: 7\n",
            "------------------------------\n",
            "Argüman İsmi: isim Argüman Değeri: hello\n",
            "Argüman İsmi: soyisim Argüman Değeri: world\n",
            "Argüman İsmi: numara Argüman Değeri: 12345\n"
          ],
          "name": "stdout"
        }
      ]
    },
    {
      "cell_type": "code",
      "metadata": {
        "id": "yYuTwOnZF6AO",
        "colab_type": "code",
        "colab": {
          "base_uri": "https://localhost:8080/",
          "height": 34
        },
        "outputId": "90ffa33c-8a0f-497e-b8cd-a5403b410ba0"
      },
      "source": [
        "def selamla(isim):\n",
        "    print(\"Selam\",isim)\n",
        "selamla(\"Aaaa\")"
      ],
      "execution_count": 6,
      "outputs": [
        {
          "output_type": "stream",
          "text": [
            "Selam Aaaa\n"
          ],
          "name": "stdout"
        }
      ]
    },
    {
      "cell_type": "code",
      "metadata": {
        "id": "5VFjlxerIB4p",
        "colab_type": "code",
        "colab": {
          "base_uri": "https://localhost:8080/",
          "height": 34
        },
        "outputId": "277388f4-02af-4ce6-dcfd-4e43751a3e86"
      },
      "source": [
        "merhaba = selamla #fonksiyonları değişkenler gibi eşitledik.\n",
        "merhaba"
      ],
      "execution_count": 7,
      "outputs": [
        {
          "output_type": "execute_result",
          "data": {
            "text/plain": [
              "<function __main__.selamla>"
            ]
          },
          "metadata": {
            "tags": []
          },
          "execution_count": 7
        }
      ]
    },
    {
      "cell_type": "code",
      "metadata": {
        "id": "N1Tw4WKfIJ_q",
        "colab_type": "code",
        "colab": {
          "base_uri": "https://localhost:8080/",
          "height": 34
        },
        "outputId": "1559a663-e4a6-4593-ee75-8e1969e68ed9"
      },
      "source": [
        "merhaba(\"bbbb\")"
      ],
      "execution_count": 8,
      "outputs": [
        {
          "output_type": "stream",
          "text": [
            "Selam bbbb\n"
          ],
          "name": "stdout"
        }
      ]
    },
    {
      "cell_type": "code",
      "metadata": {
        "id": "4ICXyutXIMp0",
        "colab_type": "code",
        "colab": {
          "base_uri": "https://localhost:8080/",
          "height": 178
        },
        "outputId": "2d567ec9-f634-447d-d18e-3652692dc4a3"
      },
      "source": [
        "del selamla\n",
        "selamla"
      ],
      "execution_count": 9,
      "outputs": [
        {
          "output_type": "error",
          "ename": "NameError",
          "evalue": "ignored",
          "traceback": [
            "\u001b[0;31m---------------------------------------------------------------------------\u001b[0m",
            "\u001b[0;31mNameError\u001b[0m                                 Traceback (most recent call last)",
            "\u001b[0;32m<ipython-input-9-af3de13e678d>\u001b[0m in \u001b[0;36m<module>\u001b[0;34m()\u001b[0m\n\u001b[1;32m      1\u001b[0m \u001b[0;32mdel\u001b[0m \u001b[0mselamla\u001b[0m\u001b[0;34m\u001b[0m\u001b[0;34m\u001b[0m\u001b[0m\n\u001b[0;32m----> 2\u001b[0;31m \u001b[0mselamla\u001b[0m\u001b[0;34m\u001b[0m\u001b[0;34m\u001b[0m\u001b[0m\n\u001b[0m",
            "\u001b[0;31mNameError\u001b[0m: name 'selamla' is not defined"
          ]
        }
      ]
    },
    {
      "cell_type": "code",
      "metadata": {
        "id": "5HGVyG7ZIPm9",
        "colab_type": "code",
        "colab": {
          "base_uri": "https://localhost:8080/",
          "height": 34
        },
        "outputId": "355f9fa4-7cbc-479a-9420-8e50b28bc05a"
      },
      "source": [
        "merhaba"
      ],
      "execution_count": 10,
      "outputs": [
        {
          "output_type": "execute_result",
          "data": {
            "text/plain": [
              "<function __main__.selamla>"
            ]
          },
          "metadata": {
            "tags": []
          },
          "execution_count": 10
        }
      ]
    },
    {
      "cell_type": "code",
      "metadata": {
        "id": "kg4-HRyYIQ4S",
        "colab_type": "code",
        "colab": {
          "base_uri": "https://localhost:8080/",
          "height": 50
        },
        "outputId": "0d1b5a22-f33e-43bf-f593-bb33f1e6b197"
      },
      "source": [
        "def fonksiyon3():\n",
        "    def fonksiyon4():\n",
        "        print(\"Küçük fonksiyondan Merhaba\")\n",
        "    print(\"Büyük fonksiyondan Merhaba\")\n",
        "    fonksiyon4() # Tanımladığım fonksiyonu kullanabilirim.\n",
        "fonksiyon3()"
      ],
      "execution_count": 11,
      "outputs": [
        {
          "output_type": "stream",
          "text": [
            "Büyük fonksiyondan Merhaba\n",
            "Küçük fonksiyondan Merhaba\n"
          ],
          "name": "stdout"
        }
      ]
    },
    {
      "cell_type": "code",
      "metadata": {
        "id": "uvibFLMgIequ",
        "colab_type": "code",
        "colab": {
          "base_uri": "https://localhost:8080/",
          "height": 162
        },
        "outputId": "59670b6a-8769-4032-b9ef-98fd5fbc72bf"
      },
      "source": [
        "fonksiyon4() # lokal bir fonksiyon olduğu için dışarıdan erişemiyoruz"
      ],
      "execution_count": 12,
      "outputs": [
        {
          "output_type": "error",
          "ename": "NameError",
          "evalue": "ignored",
          "traceback": [
            "\u001b[0;31m---------------------------------------------------------------------------\u001b[0m",
            "\u001b[0;31mNameError\u001b[0m                                 Traceback (most recent call last)",
            "\u001b[0;32m<ipython-input-12-87c0031690d1>\u001b[0m in \u001b[0;36m<module>\u001b[0;34m()\u001b[0m\n\u001b[0;32m----> 1\u001b[0;31m \u001b[0mfonksiyon4\u001b[0m\u001b[0;34m(\u001b[0m\u001b[0;34m)\u001b[0m \u001b[0;31m# lokal bir fonksiyon olduğu için dışarıdan erişemiyoruz\u001b[0m\u001b[0;34m\u001b[0m\u001b[0;34m\u001b[0m\u001b[0m\n\u001b[0m",
            "\u001b[0;31mNameError\u001b[0m: name 'fonksiyon4' is not defined"
          ]
        }
      ]
    }
  ]
}