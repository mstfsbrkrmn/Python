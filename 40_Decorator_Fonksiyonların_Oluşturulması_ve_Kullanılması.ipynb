{
  "nbformat": 4,
  "nbformat_minor": 0,
  "metadata": {
    "colab": {
      "name": "40_Decorator Fonksiyonların Oluşturulması ve Kullanılması.ipynb",
      "provenance": [],
      "collapsed_sections": [],
      "authorship_tag": "ABX9TyNWOpYz1qfQ+0CSdVcpDwxD",
      "include_colab_link": true
    },
    "kernelspec": {
      "name": "python3",
      "display_name": "Python 3"
    }
  },
  "cells": [
    {
      "cell_type": "markdown",
      "metadata": {
        "id": "view-in-github",
        "colab_type": "text"
      },
      "source": [
        "<a href=\"https://colab.research.google.com/github/mstfsbrkrmn/Python/blob/master/40_Decorator_Fonksiyonlar%C4%B1n_Olu%C5%9Fturulmas%C4%B1_ve_Kullan%C4%B1lmas%C4%B1.ipynb\" target=\"_parent\"><img src=\"https://colab.research.google.com/assets/colab-badge.svg\" alt=\"Open In Colab\"/></a>"
      ]
    },
    {
      "cell_type": "code",
      "metadata": {
        "id": "WVFjZr-fUI4X",
        "colab_type": "code",
        "colab": {
          "base_uri": "https://localhost:8080/",
          "height": 50
        },
        "outputId": "156a2bed-0b3d-463a-960c-bfb435f257c3"
      },
      "source": [
        "import time\n",
        "def kareleri_hesapla(sayılar):\n",
        "  sonuc=list()\n",
        "  baslama = time.time()\n",
        "  for i in sayılar:\n",
        "    sonuc.append(i**2)\n",
        "  bitis = time.time()\n",
        "  print(\"bu fonksiyon \"+str(bitis-baslama)+\" saniye sürdü.\")\n",
        "\n",
        "def kupleri_hesapla(sayılar):\n",
        "  sonuc=list()\n",
        "  baslama = time.time()\n",
        "  for i in sayılar:\n",
        "    sonuc.append(i**3)\n",
        "  bitis = time.time()\n",
        "  print(\"bu fonksiyon \"+str(bitis-baslama)+\" saniye sürdü.\")\n",
        "\n",
        "kareleri_hesapla(range(10000))\n",
        "kupleri_hesapla(range(10000))"
      ],
      "execution_count": 4,
      "outputs": [
        {
          "output_type": "stream",
          "text": [
            "bu fonksiyon 0.003236532211303711 saniye sürdü.\n",
            "bu fonksiyon 0.003173828125 saniye sürdü.\n"
          ],
          "name": "stdout"
        }
      ]
    },
    {
      "cell_type": "markdown",
      "metadata": {
        "id": "fSzF7VfuVNuu",
        "colab_type": "text"
      },
      "source": [
        "burada \n",
        "\n",
        "```\n",
        "  baslama = time.time()\n",
        "  bitis = time.time()\n",
        "  print(\"bu fonksiyon \"+str(bitis-baslama)+\" saniye sürdü.\")\n",
        "```\n",
        "satırlarını her fonksiyon için yazmamız gerekti, bunun yerine decorator fonksiyon kullanacağız..\n"
      ]
    },
    {
      "cell_type": "code",
      "metadata": {
        "id": "Tj4xHvrzVceY",
        "colab_type": "code",
        "colab": {
          "base_uri": "https://localhost:8080/",
          "height": 50
        },
        "outputId": "397e177d-cad5-4b92-e0f6-cd6c9d2258ee"
      },
      "source": [
        "import time\n",
        "\n",
        "def zaman_hesapla(func):\n",
        "  def wrapper(sayılar):\n",
        "      baslama = time.time()\n",
        "      func(sayılar)\n",
        "      bitis = time.time()\n",
        "      print(func.__name__ + \" \" + str(bitis-baslama) + \" saniye sürdü.\")\n",
        "  return wrapper\n",
        "\n",
        "@zaman_hesapla\n",
        "def kareleri_hesapla(sayılar):\n",
        "  sonuc=list()\n",
        "  for i in sayılar:\n",
        "    sonuc.append(i**2)\n",
        "\n",
        "@zaman_hesapla\n",
        "def kupleri_hesapla(sayılar):\n",
        "  sonuc=list()\n",
        "  for i in sayılar:\n",
        "    sonuc.append(i**3)\n",
        "\n",
        "kareleri_hesapla(range(10000))\n",
        "kupleri_hesapla(range(10000))"
      ],
      "execution_count": 8,
      "outputs": [
        {
          "output_type": "stream",
          "text": [
            "kareleri_hesapla 0.0031957626342773438 saniye sürdü.\n",
            "kupleri_hesapla 0.0032858848571777344 saniye sürdü.\n"
          ],
          "name": "stdout"
        }
      ]
    }
  ]
}