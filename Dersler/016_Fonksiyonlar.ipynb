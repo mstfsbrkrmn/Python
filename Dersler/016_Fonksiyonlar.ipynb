{
  "nbformat": 4,
  "nbformat_minor": 0,
  "metadata": {
    "colab": {
      "name": "16_Fonksiyonlar.ipynb",
      "provenance": [],
      "collapsed_sections": []
    },
    "kernelspec": {
      "name": "python3",
      "display_name": "Python 3"
    }
  },
  "cells": [
    {
      "cell_type": "markdown",
      "metadata": {
        "id": "VvLzAbSOYgGu",
        "colab_type": "text"
      },
      "source": [
        "        def fonksiyon_adı(parametre1,parametre2..... (opsiyonel)):\n",
        "            # Fonksiyon bloğu\n",
        "            Yapılacak işlemler\n",
        "            # dönüş değeri - Opsiyonel"
      ]
    },
    {
      "cell_type": "code",
      "metadata": {
        "id": "YOj5k_vrYOOY",
        "colab_type": "code",
        "colab": {
          "base_uri": "https://localhost:8080/",
          "height": 34
        },
        "outputId": "813435a0-1e06-4e8c-d2ae-f3963095d946"
      },
      "source": [
        "def büyük(s1,s2):\n",
        "  if s1>s2:\n",
        "    print(s1)\n",
        "  else:\n",
        "    print(s2)\n",
        "\n",
        "print(type(büyük))"
      ],
      "execution_count": 1,
      "outputs": [
        {
          "output_type": "stream",
          "text": [
            "<class 'function'>\n"
          ],
          "name": "stdout"
        }
      ]
    },
    {
      "cell_type": "code",
      "metadata": {
        "id": "duLSfcu9Y2jV",
        "colab_type": "code",
        "colab": {
          "base_uri": "https://localhost:8080/",
          "height": 34
        },
        "outputId": "294612a0-0f72-491e-8a33-c22f9e5c6058"
      },
      "source": [
        "büyük(3,9)"
      ],
      "execution_count": 2,
      "outputs": [
        {
          "output_type": "stream",
          "text": [
            "9\n"
          ],
          "name": "stdout"
        }
      ]
    },
    {
      "cell_type": "code",
      "metadata": {
        "id": "N0Nq8WrcY7zc",
        "colab_type": "code",
        "colab": {
          "base_uri": "https://localhost:8080/",
          "height": 34
        },
        "outputId": "3bbab450-165a-4f45-bc79-ae3832c15bcb"
      },
      "source": [
        "def f(x):\n",
        "  y=3*x**2+5\n",
        "  print(y)\n",
        "f(4)"
      ],
      "execution_count": 3,
      "outputs": [
        {
          "output_type": "stream",
          "text": [
            "53\n"
          ],
          "name": "stdout"
        }
      ]
    },
    {
      "cell_type": "code",
      "metadata": {
        "id": "Hvk9MZJxZgXu",
        "colab_type": "code",
        "colab": {
          "base_uri": "https://localhost:8080/",
          "height": 34
        },
        "outputId": "e2d8f71b-cbf5-4664-bc56-c74367a9f9e6"
      },
      "source": [
        "def fibonacci(a,b,c):\n",
        "  d=[a,b]\n",
        "  for i in range(c-2):\n",
        "    a,b=b,a+b\n",
        "    d.append(b)\n",
        "  print(d)\n",
        "fibonacci(0,1,7)"
      ],
      "execution_count": 4,
      "outputs": [
        {
          "output_type": "stream",
          "text": [
            "[0, 1, 1, 2, 3, 5, 8]\n"
          ],
          "name": "stdout"
        }
      ]
    }
  ]
}