{
  "nbformat": 4,
  "nbformat_minor": 0,
  "metadata": {
    "colab": {
      "name": "22_Nesne Tabanlı Programlama - Sınıflar.ipynb",
      "provenance": [],
      "collapsed_sections": []
    },
    "kernelspec": {
      "name": "python3",
      "display_name": "Python 3"
    }
  },
  "cells": [
    {
      "cell_type": "code",
      "metadata": {
        "id": "9pWW4vHfSyyp",
        "colab_type": "code",
        "colab": {}
      },
      "source": [
        "class bilgisayar():\n",
        "  marka=\"ASUS\"\n",
        "  islemci=\"i7\"\n",
        "  ram=8"
      ],
      "execution_count": 1,
      "outputs": []
    },
    {
      "cell_type": "code",
      "metadata": {
        "id": "0k_as6yUTVjY",
        "colab_type": "code",
        "colab": {
          "base_uri": "https://localhost:8080/",
          "height": 34
        },
        "outputId": "7f827f2e-2835-4bb7-a32a-14666704d97c"
      },
      "source": [
        "a1=bilgisayar()\n",
        "a1"
      ],
      "execution_count": 2,
      "outputs": [
        {
          "output_type": "execute_result",
          "data": {
            "text/plain": [
              "<__main__.bilgisayar at 0x7fb6220322b0>"
            ]
          },
          "metadata": {
            "tags": []
          },
          "execution_count": 2
        }
      ]
    },
    {
      "cell_type": "code",
      "metadata": {
        "id": "p3DVvXeFTcfZ",
        "colab_type": "code",
        "colab": {
          "base_uri": "https://localhost:8080/",
          "height": 34
        },
        "outputId": "0a5637fa-3691-4202-8c71-5ed4549123b8"
      },
      "source": [
        "a1.islemci"
      ],
      "execution_count": 5,
      "outputs": [
        {
          "output_type": "execute_result",
          "data": {
            "text/plain": [
              "'i7'"
            ]
          },
          "metadata": {
            "tags": []
          },
          "execution_count": 5
        }
      ]
    },
    {
      "cell_type": "code",
      "metadata": {
        "id": "rv6oIgaOTt16",
        "colab_type": "code",
        "colab": {
          "base_uri": "https://localhost:8080/",
          "height": 34
        },
        "outputId": "6a5009c7-d969-4e6d-fdaa-8f29a1b5c7b3"
      },
      "source": [
        "a2=bilgisayar()\n",
        "a2.islemci"
      ],
      "execution_count": 6,
      "outputs": [
        {
          "output_type": "execute_result",
          "data": {
            "text/plain": [
              "'i7'"
            ]
          },
          "metadata": {
            "tags": []
          },
          "execution_count": 6
        }
      ]
    },
    {
      "cell_type": "code",
      "metadata": {
        "id": "bk2JG43qTySZ",
        "colab_type": "code",
        "colab": {}
      },
      "source": [
        "class bilgisayar():\n",
        "  def __init__(self,marka,islemci,ram): #default değerler de verilebilir, marka=\"bilgi yok\" gibi.\n",
        "    self.marka=marka\n",
        "    self.islemci=islemci\n",
        "    self.ram=ram\n",
        "a1=bilgisayar(\"ASUS\",\"i7\",8)\n",
        "a2=bilgisayar(\"MAC\",\"i7\",16)"
      ],
      "execution_count": 7,
      "outputs": []
    },
    {
      "cell_type": "code",
      "metadata": {
        "id": "ePKNJzYsUbyv",
        "colab_type": "code",
        "colab": {
          "base_uri": "https://localhost:8080/",
          "height": 34
        },
        "outputId": "673c79c6-49e2-49de-a71c-5d7051e67559"
      },
      "source": [
        "a1.marka"
      ],
      "execution_count": 9,
      "outputs": [
        {
          "output_type": "execute_result",
          "data": {
            "text/plain": [
              "'ASUS'"
            ]
          },
          "metadata": {
            "tags": []
          },
          "execution_count": 9
        }
      ]
    },
    {
      "cell_type": "code",
      "metadata": {
        "id": "m1MJk9IZUfz-",
        "colab_type": "code",
        "colab": {
          "base_uri": "https://localhost:8080/",
          "height": 34
        },
        "outputId": "debf51d5-4518-451d-aced-2094a47efb1e"
      },
      "source": [
        "a2.marka"
      ],
      "execution_count": 10,
      "outputs": [
        {
          "output_type": "execute_result",
          "data": {
            "text/plain": [
              "'MAC'"
            ]
          },
          "metadata": {
            "tags": []
          },
          "execution_count": 10
        }
      ]
    }
  ]
}