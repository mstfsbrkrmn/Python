{
  "nbformat": 4,
  "nbformat_minor": 0,
  "metadata": {
    "colab": {
      "name": "23_Nesne Tabanlı Programlama - Metodlar.ipynb",
      "provenance": [],
      "collapsed_sections": []
    },
    "kernelspec": {
      "name": "python3",
      "display_name": "Python 3"
    }
  },
  "cells": [
    {
      "cell_type": "code",
      "metadata": {
        "id": "t6ONpEDkWn2s",
        "colab_type": "code",
        "colab": {}
      },
      "source": [
        "class elemanlar():\n",
        "  def __init__(self,ad,soyad,yas,maas,yetkileri):\n",
        "    self.ad=ad\n",
        "    self.soyad=soyad\n",
        "    self.yas=yas\n",
        "    self.maas=maas\n",
        "    self.yetkileri=yetkileri\n",
        "  def zam(self,miktar):\n",
        "    print(miktar,\"zam yapıldı.\")\n",
        "    self.maas+=miktar\n",
        "  def yetkiver(self,yetki):\n",
        "    print(yetki,\"yetkisi verildi.\")\n",
        "    self.yetkileri.append(yetki)\n",
        "  def bilgiler(self):\n",
        "    print(\"\"\"\n",
        "    Bilgiler gösteriliyor.\n",
        "    ----\n",
        "    E.Adı\\t: {}\n",
        "    Soyadı\\t: {}\n",
        "    Yaşı\\t: {}\n",
        "    Maaşı\\t: {}    \n",
        "    Yetkileri\\t: {}\n",
        "    ----\"\"\".format(self.ad,self.soyad,self.yas,self.maas,self.yetkileri))"
      ],
      "execution_count": 1,
      "outputs": []
    },
    {
      "cell_type": "code",
      "metadata": {
        "id": "RD6JjmxMYuk3",
        "colab_type": "code",
        "colab": {}
      },
      "source": [
        "eleman1=elemanlar(\"Aaaa\",\"Bbb\",23,2000,[1,5,8])\n",
        "eleman2=elemanlar(\"Ddd\",\"Eeeee\",29,2800,[2,3,4])"
      ],
      "execution_count": 2,
      "outputs": []
    },
    {
      "cell_type": "code",
      "metadata": {
        "id": "H17JbKQYZReS",
        "colab_type": "code",
        "colab": {
          "base_uri": "https://localhost:8080/",
          "height": 168
        },
        "outputId": "3c6a8780-839c-49c8-d2b9-8cb3c5b7afa1"
      },
      "source": [
        "eleman1.bilgiler()"
      ],
      "execution_count": 3,
      "outputs": [
        {
          "output_type": "stream",
          "text": [
            "\n",
            "    Bilgiler gösteriliyor.\n",
            "    ----\n",
            "    E.Adı\t: Aaaa\n",
            "    Soyadı\t: Bbb\n",
            "    Yaşı\t: 23\n",
            "    Maaşı\t: 2000    \n",
            "    Yetkileri\t: [1, 5, 8]\n",
            "    ----\n"
          ],
          "name": "stdout"
        }
      ]
    },
    {
      "cell_type": "code",
      "metadata": {
        "id": "bfNoR6YdZ4-V",
        "colab_type": "code",
        "colab": {
          "base_uri": "https://localhost:8080/",
          "height": 168
        },
        "outputId": "50cdb00c-08c8-4214-ec26-f676de1ede98"
      },
      "source": [
        "eleman2.bilgiler()"
      ],
      "execution_count": 4,
      "outputs": [
        {
          "output_type": "stream",
          "text": [
            "\n",
            "    Bilgiler gösteriliyor.\n",
            "    ----\n",
            "    E.Adı\t: Ddd\n",
            "    Soyadı\t: Eeeee\n",
            "    Yaşı\t: 29\n",
            "    Maaşı\t: 2800    \n",
            "    Yetkileri\t: [2, 3, 4]\n",
            "    ----\n"
          ],
          "name": "stdout"
        }
      ]
    },
    {
      "cell_type": "code",
      "metadata": {
        "id": "CqKqwp3bZ7so",
        "colab_type": "code",
        "colab": {
          "base_uri": "https://localhost:8080/",
          "height": 34
        },
        "outputId": "b143ca1f-395d-4421-926f-d98bf60d262c"
      },
      "source": [
        "eleman2.zam(1100)"
      ],
      "execution_count": 5,
      "outputs": [
        {
          "output_type": "stream",
          "text": [
            "1100 zam yapıldı.\n"
          ],
          "name": "stdout"
        }
      ]
    },
    {
      "cell_type": "code",
      "metadata": {
        "id": "VfReB5VHaC21",
        "colab_type": "code",
        "colab": {
          "base_uri": "https://localhost:8080/",
          "height": 168
        },
        "outputId": "6fcbd7fb-1548-4a7d-b07f-8f3ff83645d6"
      },
      "source": [
        "eleman2.bilgiler()"
      ],
      "execution_count": 6,
      "outputs": [
        {
          "output_type": "stream",
          "text": [
            "\n",
            "    Bilgiler gösteriliyor.\n",
            "    ----\n",
            "    E.Adı\t: Ddd\n",
            "    Soyadı\t: Eeeee\n",
            "    Yaşı\t: 29\n",
            "    Maaşı\t: 3900    \n",
            "    Yetkileri\t: [2, 3, 4]\n",
            "    ----\n"
          ],
          "name": "stdout"
        }
      ]
    },
    {
      "cell_type": "code",
      "metadata": {
        "id": "FDXCRhuXaF84",
        "colab_type": "code",
        "colab": {
          "base_uri": "https://localhost:8080/",
          "height": 34
        },
        "outputId": "5a4be16d-e6a7-49cc-888e-30f9b91753a6"
      },
      "source": [
        "eleman1.yetkiver(4)"
      ],
      "execution_count": 7,
      "outputs": [
        {
          "output_type": "stream",
          "text": [
            "4 yetkisi verildi.\n"
          ],
          "name": "stdout"
        }
      ]
    },
    {
      "cell_type": "code",
      "metadata": {
        "id": "y6ATJ75baMlH",
        "colab_type": "code",
        "colab": {
          "base_uri": "https://localhost:8080/",
          "height": 168
        },
        "outputId": "667676db-8707-4a33-c418-f415ff7a99cb"
      },
      "source": [
        "eleman1.bilgiler()"
      ],
      "execution_count": 8,
      "outputs": [
        {
          "output_type": "stream",
          "text": [
            "\n",
            "    Bilgiler gösteriliyor.\n",
            "    ----\n",
            "    E.Adı\t: Aaaa\n",
            "    Soyadı\t: Bbb\n",
            "    Yaşı\t: 23\n",
            "    Maaşı\t: 2000    \n",
            "    Yetkileri\t: [1, 5, 8, 4]\n",
            "    ----\n"
          ],
          "name": "stdout"
        }
      ]
    }
  ]
}