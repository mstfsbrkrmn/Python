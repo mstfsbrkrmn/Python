{
  "nbformat": 4,
  "nbformat_minor": 0,
  "metadata": {
    "colab": {
      "name": "24_Nesne Tabanlı Programlama - Inheritance (kalıtım).ipynb",
      "provenance": [],
      "collapsed_sections": []
    },
    "kernelspec": {
      "name": "python3",
      "display_name": "Python 3"
    }
  },
  "cells": [
    {
      "cell_type": "code",
      "metadata": {
        "id": "Ywfl_xh4epfx",
        "colab_type": "code",
        "colab": {}
      },
      "source": [
        "class personel():\n",
        "  def __init__(self,ad,soyad,yas,maas,yetkileri):\n",
        "    self.ad=ad\n",
        "    self.soyad=soyad\n",
        "    self.yas=yas\n",
        "    self.maas=maas\n",
        "    self.yetkileri=yetkileri\n",
        "  def yetkiver(self,yetki):\n",
        "    print(yetki,\"yetkisi verildi.\")\n",
        "    self.yetkileri.append(yetki)\n",
        "  def bilgiler(self):\n",
        "    print(\"\"\"\n",
        "    Bilgiler gösteriliyor.\n",
        "    ----\n",
        "    E.Adı\\t: {}\n",
        "    Soyadı\\t: {}\n",
        "    Yaşı\\t: {}\n",
        "    Maaşı\\t: {}    \n",
        "    Yetkileri\\t: {}\n",
        "    ----\"\"\".format(self.ad,self.soyad,self.yas,self.maas,self.yetkileri))"
      ],
      "execution_count": 1,
      "outputs": []
    },
    {
      "cell_type": "code",
      "metadata": {
        "id": "ojB-HHHJfJN3",
        "colab_type": "code",
        "colab": {}
      },
      "source": [
        "class yonetici(personel):\n",
        "  def zam(self,miktar):\n",
        "    print(miktar,\"zam yapıldı.\")\n",
        "    self.maas+=miktar"
      ],
      "execution_count": 2,
      "outputs": []
    },
    {
      "cell_type": "code",
      "metadata": {
        "id": "8M_qZBizfT1M",
        "colab_type": "code",
        "colab": {}
      },
      "source": [
        "c1=yonetici(\"Aaa\",\"BBBB\",32,11000,[1,2,3,4,5,6,7,8,9])"
      ],
      "execution_count": 3,
      "outputs": []
    },
    {
      "cell_type": "code",
      "metadata": {
        "id": "mjK6esscfyB6",
        "colab_type": "code",
        "colab": {
          "base_uri": "https://localhost:8080/",
          "height": 185
        },
        "outputId": "b51d4e4f-314d-4fcf-ad96-ab6ae5cef53e"
      },
      "source": [
        "c1.zam(1200)\n",
        "c1.bilgiler()"
      ],
      "execution_count": 4,
      "outputs": [
        {
          "output_type": "stream",
          "text": [
            "1200 zam yapıldı.\n",
            "\n",
            "    Bilgiler gösteriliyor.\n",
            "    ----\n",
            "    E.Adı\t: Aaa\n",
            "    Soyadı\t: BBBB\n",
            "    Yaşı\t: 32\n",
            "    Maaşı\t: 12200    \n",
            "    Yetkileri\t: [1, 2, 3, 4, 5, 6, 7, 8, 9]\n",
            "    ----\n"
          ],
          "name": "stdout"
        }
      ]
    },
    {
      "cell_type": "code",
      "metadata": {
        "id": "nTTR9NwJf_LG",
        "colab_type": "code",
        "colab": {}
      },
      "source": [
        "eleman1=personel(\"Ffff\",\"TTTT\",23,4400,[1,2,3])"
      ],
      "execution_count": 5,
      "outputs": []
    },
    {
      "cell_type": "code",
      "metadata": {
        "id": "YitwlmCbgMqN",
        "colab_type": "code",
        "colab": {
          "base_uri": "https://localhost:8080/",
          "height": 162
        },
        "outputId": "6b9089dd-8d2b-4027-fe62-0fa19bc9228c"
      },
      "source": [
        "eleman1.zam(400)"
      ],
      "execution_count": 6,
      "outputs": [
        {
          "output_type": "error",
          "ename": "AttributeError",
          "evalue": "ignored",
          "traceback": [
            "\u001b[0;31m---------------------------------------------------------------------------\u001b[0m",
            "\u001b[0;31mAttributeError\u001b[0m                            Traceback (most recent call last)",
            "\u001b[0;32m<ipython-input-6-6cffcd6e5c56>\u001b[0m in \u001b[0;36m<module>\u001b[0;34m()\u001b[0m\n\u001b[0;32m----> 1\u001b[0;31m \u001b[0meleman1\u001b[0m\u001b[0;34m.\u001b[0m\u001b[0mzam\u001b[0m\u001b[0;34m(\u001b[0m\u001b[0;36m400\u001b[0m\u001b[0;34m)\u001b[0m\u001b[0;34m\u001b[0m\u001b[0;34m\u001b[0m\u001b[0m\n\u001b[0m",
            "\u001b[0;31mAttributeError\u001b[0m: 'personel' object has no attribute 'zam'"
          ]
        }
      ]
    },
    {
      "cell_type": "markdown",
      "metadata": {
        "id": "opsi7olThtEW",
        "colab_type": "text"
      },
      "source": [
        "personel class'ını tanımladık\n",
        "\n",
        "yonetici class'ına personel class'ının metodlarını aktardık.\n",
        "\n",
        "eğer ki yönetici class'ına, personel class'ından olan bir metodu(aynı isimde) tanımlarsak, en son tanımlı olan metod çalışır ve buna overriding denir."
      ]
    },
    {
      "cell_type": "markdown",
      "metadata": {
        "id": "wwN4SRm2iTvo",
        "colab_type": "text"
      },
      "source": [
        "eğer ki, yeni tanımlayacağımız metotta eski metottan bir özellik istiyorsak **super** ile onu çekebiliriz."
      ]
    },
    {
      "cell_type": "code",
      "metadata": {
        "id": "jutcOC6igVpY",
        "colab_type": "code",
        "colab": {}
      },
      "source": [
        "class yonetici(personel):\n",
        "  def __init__(self,ad,soyad,yas,maas,yetkileri,kisi_sayisi):\n",
        "    super().__init__(ad,soyad,yas,maas,yetkileri)\n",
        "    self.kisi_sayisi=kisi_sayisi\n",
        "  \n",
        "  def zam(self,miktar):\n",
        "    print(miktar,\"zam yapıldı.\")\n",
        "    self.maas+=miktar\n",
        "  \n",
        "  def bilgiler(self):\n",
        "    print(\"\"\"\n",
        "    Bilgiler gösteriliyor.\n",
        "    ----\n",
        "    E.Adı\\t: {}\n",
        "    Soyadı\\t: {}\n",
        "    Yaşı\\t: {}\n",
        "    Maaşı\\t: {}    \n",
        "    Yetkileri\\t: {}\n",
        "    Kişi Sayısı\\t: {}\n",
        "    ----\"\"\".format(self.ad,self.soyad,self.yas,self.maas,self.yetkileri,self.kisi_sayisi))"
      ],
      "execution_count": 11,
      "outputs": []
    },
    {
      "cell_type": "markdown",
      "metadata": {
        "id": "0P5Uu6gyj2Bt",
        "colab_type": "text"
      },
      "source": [
        "yonetici class'ındaki __init__ i tekrar tanımladık\n",
        "\n",
        "super ile personel class'ındaki init ten istediğimiz özellikleri çektik. böylece ad,soyad,yas,maas ve yetkileri tekrar tanımlmaya gerek kalmadı.\n",
        "\n",
        "yonetici class'ının __init__ ine özel kisi_sayisi özelliğini eklemiş olduk."
      ]
    },
    {
      "cell_type": "code",
      "metadata": {
        "id": "0ylL2h1xkfYh",
        "colab_type": "code",
        "colab": {
          "base_uri": "https://localhost:8080/",
          "height": 185
        },
        "outputId": "d640cbe6-5749-487a-a392-112d23aa58a3"
      },
      "source": [
        "c2=yonetici(\"CCCCc\",\"DDDD\",43,9999,[1,2,3,4,5,6,7],11)\n",
        "c2.bilgiler()"
      ],
      "execution_count": 12,
      "outputs": [
        {
          "output_type": "stream",
          "text": [
            "\n",
            "    Bilgiler gösteriliyor.\n",
            "    ----\n",
            "    E.Adı\t: CCCCc\n",
            "    Soyadı\t: DDDD\n",
            "    Yaşı\t: 43\n",
            "    Maaşı\t: 9999    \n",
            "    Yetkileri\t: [1, 2, 3, 4, 5, 6, 7]\n",
            "    Kişi Sayısı\t: 11\n",
            "    ----\n"
          ],
          "name": "stdout"
        }
      ]
    }
  ]
}