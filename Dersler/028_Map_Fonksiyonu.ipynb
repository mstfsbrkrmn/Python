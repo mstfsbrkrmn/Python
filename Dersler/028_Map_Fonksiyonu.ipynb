{
  "nbformat": 4,
  "nbformat_minor": 0,
  "metadata": {
    "colab": {
      "name": "28_Map Fonksiyonu.ipynb",
      "provenance": [],
      "authorship_tag": "ABX9TyPIhoEphHGfVWKD5Y+uN2gQ",
      "include_colab_link": true
    },
    "kernelspec": {
      "name": "python3",
      "display_name": "Python 3"
    }
  },
  "cells": [
    {
      "cell_type": "markdown",
      "metadata": {
        "id": "view-in-github",
        "colab_type": "text"
      },
      "source": [
        "<a href=\"https://colab.research.google.com/github/mstfsbrkrmn/Python/blob/master/28_Map_Fonksiyonu.ipynb\" target=\"_parent\"><img src=\"https://colab.research.google.com/assets/colab-badge.svg\" alt=\"Open In Colab\"/></a>"
      ]
    },
    {
      "cell_type": "markdown",
      "metadata": {
        "id": "fIaOmYW_jbDL",
        "colab_type": "text"
      },
      "source": [
        "                map(fonksiyon,iterasyon yapılabilecek veritipi(liste,demet vb),....)\n",
        "\n",
        "**map()** fonksiyonu ilk parametre olarak bir tane fonksiyon objesi alır. (Fonksiyonlar da birer obje olduğu için başka bir fonksiyona gönderilebilir.) 2. parametre olarak da bir tane iterasyon yapılacak veritipi alarak , gönderilen fonksiyonu her bir eleman üzerinde uygulayarak sonuçları bir map objesi olarak döner. "
      ]
    },
    {
      "cell_type": "code",
      "metadata": {
        "id": "bd1dvhvpggs0",
        "colab_type": "code",
        "colab": {
          "base_uri": "https://localhost:8080/",
          "height": 34
        },
        "outputId": "1858cd1e-9986-49e6-85b3-b88f05882b41"
      },
      "source": [
        "def c(s):\n",
        "  return s*2\n",
        "map(c,[1,2,3,4,5])"
      ],
      "execution_count": 1,
      "outputs": [
        {
          "output_type": "execute_result",
          "data": {
            "text/plain": [
              "<map at 0x7ff7ae2243c8>"
            ]
          },
          "metadata": {
            "tags": []
          },
          "execution_count": 1
        }
      ]
    },
    {
      "cell_type": "code",
      "metadata": {
        "id": "CFSNipB5kL7J",
        "colab_type": "code",
        "colab": {
          "base_uri": "https://localhost:8080/",
          "height": 34
        },
        "outputId": "69933e8f-d93f-400c-e0e0-59f5e432241a"
      },
      "source": [
        "list(map(c,[1,2,3,4,5]))"
      ],
      "execution_count": 2,
      "outputs": [
        {
          "output_type": "execute_result",
          "data": {
            "text/plain": [
              "[2, 4, 6, 8, 10]"
            ]
          },
          "metadata": {
            "tags": []
          },
          "execution_count": 2
        }
      ]
    },
    {
      "cell_type": "code",
      "metadata": {
        "id": "wyFpMufhkRtm",
        "colab_type": "code",
        "colab": {
          "base_uri": "https://localhost:8080/",
          "height": 34
        },
        "outputId": "3cb43feb-0dd0-4d08-d1cf-6a5867d8e9b5"
      },
      "source": [
        "list(map(lambda s : s**2,[2,3,4,5,6]))"
      ],
      "execution_count": 3,
      "outputs": [
        {
          "output_type": "execute_result",
          "data": {
            "text/plain": [
              "[4, 9, 16, 25, 36]"
            ]
          },
          "metadata": {
            "tags": []
          },
          "execution_count": 3
        }
      ]
    },
    {
      "cell_type": "code",
      "metadata": {
        "id": "3UUzW-b8kjdo",
        "colab_type": "code",
        "colab": {
          "base_uri": "https://localhost:8080/",
          "height": 34
        },
        "outputId": "e14f1576-5465-45d7-e78b-9cd48a15e278"
      },
      "source": [
        "l1=[11,22,33,44]\n",
        "l2=[21,43,54,65]\n",
        "l3=[2,3,4,5]\n",
        "list(map(lambda a,b,c : a*c + b,l1,l2,l3))"
      ],
      "execution_count": 5,
      "outputs": [
        {
          "output_type": "execute_result",
          "data": {
            "text/plain": [
              "[43, 109, 186, 285]"
            ]
          },
          "metadata": {
            "tags": []
          },
          "execution_count": 5
        }
      ]
    }
  ]
}