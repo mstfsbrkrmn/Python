{
  "nbformat": 4,
  "nbformat_minor": 0,
  "metadata": {
    "colab": {
      "name": "29_Reduce Fonksiyonu.ipynb",
      "provenance": [],
      "authorship_tag": "ABX9TyOk6u5MP3voGuvb0KI5rPOT",
      "include_colab_link": true
    },
    "kernelspec": {
      "name": "python3",
      "display_name": "Python 3"
    }
  },
  "cells": [
    {
      "cell_type": "markdown",
      "metadata": {
        "id": "view-in-github",
        "colab_type": "text"
      },
      "source": [
        "<a href=\"https://colab.research.google.com/github/mstfsbrkrmn/Python/blob/master/29_Reduce_Fonksiyonu.ipynb\" target=\"_parent\"><img src=\"https://colab.research.google.com/assets/colab-badge.svg\" alt=\"Open In Colab\"/></a>"
      ]
    },
    {
      "cell_type": "markdown",
      "metadata": {
        "id": "j0D5H64BnmDu",
        "colab_type": "text"
      },
      "source": [
        "            reduce(function, iterasyon yapılabilen veritipi(liste vb.))\n",
        "\n",
        "**reduce()** fonksiyonu değer olarak aldığı fonksiyonu soldan başlayarak listenin ilk 2 elemanına uygular ve daha sonra çıkan sonucu listenin 3. elemanına uygular ve bu şekilde devam ederek liste bitince bir tane değer döner. "
      ]
    },
    {
      "cell_type": "code",
      "metadata": {
        "id": "6EY4LlKqlYgW",
        "colab_type": "code",
        "colab": {
          "base_uri": "https://localhost:8080/",
          "height": 34
        },
        "outputId": "ab2a1feb-c58a-4ad1-dc11-a9c34f4a0d01"
      },
      "source": [
        "from functools import reduce\n",
        "reduce(lambda x,y:x+y,[1,5,7,12])"
      ],
      "execution_count": 2,
      "outputs": [
        {
          "output_type": "execute_result",
          "data": {
            "text/plain": [
              "25"
            ]
          },
          "metadata": {
            "tags": []
          },
          "execution_count": 2
        }
      ]
    },
    {
      "cell_type": "code",
      "metadata": {
        "id": "MXzVM5XFoEYw",
        "colab_type": "code",
        "colab": {
          "base_uri": "https://localhost:8080/",
          "height": 50
        },
        "outputId": "9b15b275-eba7-4ace-fb4e-e5367e15532e"
      },
      "source": [
        "s=int(input(\"sayı:\"))\n",
        "s1=reduce(lambda x,y:x*y,range(2,s+1))\n",
        "print(\"{}!={}\".format(s,s1))"
      ],
      "execution_count": 3,
      "outputs": [
        {
          "output_type": "stream",
          "text": [
            "sayı:6\n",
            "6!=720\n"
          ],
          "name": "stdout"
        }
      ]
    },
    {
      "cell_type": "code",
      "metadata": {
        "id": "mvgAIEBgovBH",
        "colab_type": "code",
        "colab": {
          "base_uri": "https://localhost:8080/",
          "height": 34
        },
        "outputId": "0ea49303-dddd-465b-dea7-122a9bfba016"
      },
      "source": [
        "def min(a,b):\n",
        "  if a<b:\n",
        "    return a\n",
        "  return b\n",
        "reduce(min,[23,564,12,77,89])"
      ],
      "execution_count": 4,
      "outputs": [
        {
          "output_type": "execute_result",
          "data": {
            "text/plain": [
              "12"
            ]
          },
          "metadata": {
            "tags": []
          },
          "execution_count": 4
        }
      ]
    }
  ]
}