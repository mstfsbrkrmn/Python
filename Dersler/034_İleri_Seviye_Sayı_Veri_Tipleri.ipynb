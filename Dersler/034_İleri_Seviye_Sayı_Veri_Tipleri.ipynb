{
  "nbformat": 4,
  "nbformat_minor": 0,
  "metadata": {
    "colab": {
      "name": "34_İleri Seviye Sayı Veri Tipleri.ipynb",
      "provenance": [],
      "collapsed_sections": [],
      "authorship_tag": "ABX9TyMPSP0oAV9AHY9YXVERs1C6",
      "include_colab_link": true
    },
    "kernelspec": {
      "name": "python3",
      "display_name": "Python 3"
    }
  },
  "cells": [
    {
      "cell_type": "markdown",
      "metadata": {
        "id": "view-in-github",
        "colab_type": "text"
      },
      "source": [
        "<a href=\"https://colab.research.google.com/github/mstfsbrkrmn/Python/blob/master/34_%C4%B0leri_Seviye_Say%C4%B1_Veri_Tipleri.ipynb\" target=\"_parent\"><img src=\"https://colab.research.google.com/assets/colab-badge.svg\" alt=\"Open In Colab\"/></a>"
      ]
    },
    {
      "cell_type": "markdown",
      "metadata": {
        "id": "FR8f3jEVXIKr",
        "colab_type": "text"
      },
      "source": [
        "**bin()** ve **hex()** 10luk tabandan 2lik ve 16lık tabana sayı çevirme"
      ]
    },
    {
      "cell_type": "code",
      "metadata": {
        "id": "vJRlLARbWxOs",
        "colab_type": "code",
        "colab": {
          "base_uri": "https://localhost:8080/",
          "height": 34
        },
        "outputId": "1b2e32df-1995-4e04-fcae-a442b982a66c"
      },
      "source": [
        "bin(5)"
      ],
      "execution_count": 1,
      "outputs": [
        {
          "output_type": "execute_result",
          "data": {
            "text/plain": [
              "'0b101'"
            ]
          },
          "metadata": {
            "tags": []
          },
          "execution_count": 1
        }
      ]
    },
    {
      "cell_type": "code",
      "metadata": {
        "id": "LJWtsB5RXSTI",
        "colab_type": "code",
        "colab": {
          "base_uri": "https://localhost:8080/",
          "height": 34
        },
        "outputId": "5693e25e-7da3-4016-a94d-5e6b2f6bf3ee"
      },
      "source": [
        "hex(101)"
      ],
      "execution_count": 2,
      "outputs": [
        {
          "output_type": "execute_result",
          "data": {
            "text/plain": [
              "'0x65'"
            ]
          },
          "metadata": {
            "tags": []
          },
          "execution_count": 2
        }
      ]
    },
    {
      "cell_type": "markdown",
      "metadata": {
        "id": "kg46yBxlXbtk",
        "colab_type": "text"
      },
      "source": [
        "**abs()** ve **round()**, mutlak değer ve yuvarlama "
      ]
    },
    {
      "cell_type": "code",
      "metadata": {
        "id": "BQOvbTmtXVbx",
        "colab_type": "code",
        "colab": {
          "base_uri": "https://localhost:8080/",
          "height": 34
        },
        "outputId": "baad6526-6f05-4a12-8f19-f5f67107a028"
      },
      "source": [
        "abs(-3)"
      ],
      "execution_count": 3,
      "outputs": [
        {
          "output_type": "execute_result",
          "data": {
            "text/plain": [
              "3"
            ]
          },
          "metadata": {
            "tags": []
          },
          "execution_count": 3
        }
      ]
    },
    {
      "cell_type": "code",
      "metadata": {
        "id": "9cthtRKHX1fY",
        "colab_type": "code",
        "colab": {
          "base_uri": "https://localhost:8080/",
          "height": 34
        },
        "outputId": "90abcd42-f493-4ba0-d6e7-99ebdfed66ac"
      },
      "source": [
        "round(4.5)"
      ],
      "execution_count": 4,
      "outputs": [
        {
          "output_type": "execute_result",
          "data": {
            "text/plain": [
              "4"
            ]
          },
          "metadata": {
            "tags": []
          },
          "execution_count": 4
        }
      ]
    },
    {
      "cell_type": "code",
      "metadata": {
        "id": "r7bjVL-eX5R-",
        "colab_type": "code",
        "colab": {
          "base_uri": "https://localhost:8080/",
          "height": 34
        },
        "outputId": "06f01f7f-a646-446f-aa21-295275ba5403"
      },
      "source": [
        "round(4.6)"
      ],
      "execution_count": 5,
      "outputs": [
        {
          "output_type": "execute_result",
          "data": {
            "text/plain": [
              "5"
            ]
          },
          "metadata": {
            "tags": []
          },
          "execution_count": 5
        }
      ]
    },
    {
      "cell_type": "markdown",
      "metadata": {
        "id": "4sDp3JiUX8q9",
        "colab_type": "text"
      },
      "source": [
        "**min()** ve **max()**, minimum ve maksimum"
      ]
    },
    {
      "cell_type": "code",
      "metadata": {
        "id": "guZrmL7EYDyJ",
        "colab_type": "code",
        "colab": {
          "base_uri": "https://localhost:8080/",
          "height": 34
        },
        "outputId": "fd899e71-1c51-474d-f34b-934261d46090"
      },
      "source": [
        "min(3,9,6,8,4,2)"
      ],
      "execution_count": 6,
      "outputs": [
        {
          "output_type": "execute_result",
          "data": {
            "text/plain": [
              "2"
            ]
          },
          "metadata": {
            "tags": []
          },
          "execution_count": 6
        }
      ]
    },
    {
      "cell_type": "code",
      "metadata": {
        "id": "mxJxOmXEYKJb",
        "colab_type": "code",
        "colab": {
          "base_uri": "https://localhost:8080/",
          "height": 34
        },
        "outputId": "4f1f8304-b998-409a-9b25-1eea8b616cdf"
      },
      "source": [
        "max(121,12,23,45,1,4)"
      ],
      "execution_count": 7,
      "outputs": [
        {
          "output_type": "execute_result",
          "data": {
            "text/plain": [
              "121"
            ]
          },
          "metadata": {
            "tags": []
          },
          "execution_count": 7
        }
      ]
    },
    {
      "cell_type": "markdown",
      "metadata": {
        "id": "uv8C1xXyYdAO",
        "colab_type": "text"
      },
      "source": [
        "**sum()** ve **pow()**, toplama ve üs alma"
      ]
    },
    {
      "cell_type": "code",
      "metadata": {
        "id": "U8xek0csYN1F",
        "colab_type": "code",
        "colab": {
          "base_uri": "https://localhost:8080/",
          "height": 34
        },
        "outputId": "0923fc6b-5ddb-4416-fa71-6419b90f5326"
      },
      "source": [
        "sum([2,3,5,6])"
      ],
      "execution_count": 8,
      "outputs": [
        {
          "output_type": "execute_result",
          "data": {
            "text/plain": [
              "16"
            ]
          },
          "metadata": {
            "tags": []
          },
          "execution_count": 8
        }
      ]
    },
    {
      "cell_type": "code",
      "metadata": {
        "id": "nXVvH6wrYkQ5",
        "colab_type": "code",
        "colab": {
          "base_uri": "https://localhost:8080/",
          "height": 34
        },
        "outputId": "a6de59ca-9f90-477d-f98b-610f339f7faa"
      },
      "source": [
        "pow(4,3)"
      ],
      "execution_count": 9,
      "outputs": [
        {
          "output_type": "execute_result",
          "data": {
            "text/plain": [
              "64"
            ]
          },
          "metadata": {
            "tags": []
          },
          "execution_count": 9
        }
      ]
    }
  ]
}