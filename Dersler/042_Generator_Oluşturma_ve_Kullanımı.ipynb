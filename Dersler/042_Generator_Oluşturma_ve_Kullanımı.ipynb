{
  "nbformat": 4,
  "nbformat_minor": 0,
  "metadata": {
    "colab": {
      "name": "42_Generator Oluşturma ve Kullanımı.ipynb",
      "provenance": [],
      "collapsed_sections": [],
      "authorship_tag": "ABX9TyMkcuFnI/bmFUnLuqQsJJVg",
      "include_colab_link": true
    },
    "kernelspec": {
      "name": "python3",
      "display_name": "Python 3"
    }
  },
  "cells": [
    {
      "cell_type": "markdown",
      "metadata": {
        "id": "view-in-github",
        "colab_type": "text"
      },
      "source": [
        "<a href=\"https://colab.research.google.com/github/mstfsbrkrmn/Python/blob/master/42_Generator_Olu%C5%9Fturma_ve_Kullan%C4%B1m%C4%B1.ipynb\" target=\"_parent\"><img src=\"https://colab.research.google.com/assets/colab-badge.svg\" alt=\"Open In Colab\"/></a>"
      ]
    },
    {
      "cell_type": "markdown",
      "metadata": {
        "id": "e9Fkm2BWqqMf",
        "colab_type": "text"
      },
      "source": [
        "Generatorlar Pythonda iterable objeler (örnek olarak fonksiyonlar) oluşturmak için kullanılan objelerdir ve bellekte herhangi bir yer kaplamazlar. Örneğin, 100.000 tane değer üretip, bu değerleri bir listede tutmak bellekte oldukça fazla yer kaplayacaktır. O yüzden bu işlemi gerçekleştiren bir fonksiyonu generator fonksiyon şeklinde yazmak oldukça mantıklı olacaktır. \n",
        "\n"
      ]
    },
    {
      "cell_type": "code",
      "metadata": {
        "id": "Cf-LltnBqjB8",
        "colab_type": "code",
        "colab": {
          "base_uri": "https://localhost:8080/",
          "height": 34
        },
        "outputId": "6a4ecd18-a461-468e-af78-43c4dc9ef061"
      },
      "source": [
        "def kare_al(a,b):\n",
        "  sonuc=[]\n",
        "  for i in range(a,b+1):\n",
        "    sonuc.append(i**2)\n",
        "  return sonuc\n",
        "\n",
        "kare_al(1,10) # burdan elde ettiğimiz liste bellekte yer tutuyor. Bunun yerine yer tutmaması için generator ile bu işlemi yapacağız."
      ],
      "execution_count": 2,
      "outputs": [
        {
          "output_type": "execute_result",
          "data": {
            "text/plain": [
              "[1, 4, 9, 16, 25, 36, 49, 64, 81, 100]"
            ]
          },
          "metadata": {
            "tags": []
          },
          "execution_count": 2
        }
      ]
    },
    {
      "cell_type": "code",
      "metadata": {
        "id": "VG8PqPmUrQi9",
        "colab_type": "code",
        "colab": {
          "base_uri": "https://localhost:8080/",
          "height": 34
        },
        "outputId": "41a68bfd-c7ba-4a0c-db47-550bfd624187"
      },
      "source": [
        "def kare_al2(a,b):\n",
        "  for i in range(a,b+1):\n",
        "    yield i**2  # return yazmıyoruz.\n",
        "kare_al2(1,10) # şu an kare_al2 fonksiyonunu çalıştırmamıza rağmen bellekte yer tutmuyor çünkü yield değerini henüz çağırmadık bu yüzden değer üretmedi"
      ],
      "execution_count": 4,
      "outputs": [
        {
          "output_type": "execute_result",
          "data": {
            "text/plain": [
              "<generator object kare_al2 at 0x7ff005fe03b8>"
            ]
          },
          "metadata": {
            "tags": []
          },
          "execution_count": 4
        }
      ]
    },
    {
      "cell_type": "code",
      "metadata": {
        "id": "KBjhn5MyrtwK",
        "colab_type": "code",
        "colab": {}
      },
      "source": [
        "ite=iter(kare_al2(1,10)) # ite adında iterator oluşturduk"
      ],
      "execution_count": 6,
      "outputs": []
    },
    {
      "cell_type": "code",
      "metadata": {
        "id": "G6VpWWlJr7hU",
        "colab_type": "code",
        "colab": {
          "base_uri": "https://localhost:8080/",
          "height": 185
        },
        "outputId": "11f2cf34-b242-4a5f-be2a-8f371fae9f8a"
      },
      "source": [
        "for i in ite: # değeri üretti ekrana bastı, sonraki değeri üretti ekrana bastı. her eski değer silindi.\n",
        "  print(i)"
      ],
      "execution_count": 7,
      "outputs": [
        {
          "output_type": "stream",
          "text": [
            "1\n",
            "4\n",
            "9\n",
            "16\n",
            "25\n",
            "36\n",
            "49\n",
            "64\n",
            "81\n",
            "100\n"
          ],
          "name": "stdout"
        }
      ]
    },
    {
      "cell_type": "markdown",
      "metadata": {
        "id": "pRSsaAedsgRu",
        "colab_type": "text"
      },
      "source": [
        "**range()** fonksiyonu da generator olarak yazılmış bir fonksiyondur."
      ]
    }
  ]
}