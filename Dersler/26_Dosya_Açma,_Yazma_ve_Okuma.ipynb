{
  "nbformat": 4,
  "nbformat_minor": 0,
  "metadata": {
    "colab": {
      "name": "26_Dosya Açma, Yazma ve Okuma.ipynb",
      "provenance": [],
      "collapsed_sections": []
    },
    "kernelspec": {
      "name": "python3",
      "display_name": "Python 3"
    }
  },
  "cells": [
    {
      "cell_type": "code",
      "metadata": {
        "id": "kiRba7jOKgf3",
        "colab_type": "code",
        "colab": {
          "base_uri": "https://localhost:8080/",
          "height": 34
        },
        "outputId": "3cef0ca1-daa2-453f-e7cb-999ec21029e7"
      },
      "source": [
        "open(\"bilgiler.txt\",\"w\")"
      ],
      "execution_count": 2,
      "outputs": [
        {
          "output_type": "execute_result",
          "data": {
            "text/plain": [
              "<_io.TextIOWrapper name='bilgiler.txt' mode='w' encoding='UTF-8'>"
            ]
          },
          "metadata": {
            "tags": []
          },
          "execution_count": 2
        }
      ]
    },
    {
      "cell_type": "code",
      "metadata": {
        "id": "q7-WzJW6K9qP",
        "colab_type": "code",
        "colab": {}
      },
      "source": [
        "file=open(\"bilgiler.txt\",\"w\") # w dosya kipi ile dosyayı açtığımızda, eğer aynı isimde aynı yerde öyle bir dosya varsa içini siler ve öyle açar."
      ],
      "execution_count": 3,
      "outputs": []
    },
    {
      "cell_type": "code",
      "metadata": {
        "id": "9Sd4cvlRLDJF",
        "colab_type": "code",
        "colab": {}
      },
      "source": [
        "file.close() # işlemler bittikten sonra dosyayı kapatmak gerekir, program bitse bile dosya açık kalmasın diye."
      ],
      "execution_count": 4,
      "outputs": []
    },
    {
      "cell_type": "code",
      "metadata": {
        "id": "HHeieu8CLTO9",
        "colab_type": "code",
        "colab": {}
      },
      "source": [
        "# file = open(\"C:/Users/user/Desktop/bilgiler.txt\",\"w\") # çalıştırdığımızda masaüstünde bilgiler.txt oluşacaktır."
      ],
      "execution_count": null,
      "outputs": []
    },
    {
      "cell_type": "code",
      "metadata": {
        "id": "uFT0_1GKLbft",
        "colab_type": "code",
        "colab": {}
      },
      "source": [
        "file = open(\"bilgiler.txt\",\"w\",encoding=\"utf-8\") # Türkçe karakter kullanacaksak encoding=\"utf-8\" parametresini veriyoruz.\n",
        "file.write(\"Mustafa Sabri KARAMAN\") # write fonksiyonu ile dosyamıza yazıyoruz.\n",
        " \n",
        "file.close()"
      ],
      "execution_count": 5,
      "outputs": []
    },
    {
      "cell_type": "code",
      "metadata": {
        "id": "6eCFLJXALpU1",
        "colab_type": "code",
        "colab": {}
      },
      "source": [
        "file=open(\"bilgiler.txt\",\"a\") # a dosya kipi ile dosyayı açtığımızda, böyle bir dosya yoksa oluşturur ve açar. eğer varsa, dosyanın içinde son karakterden devam eder yazmaya."
      ],
      "execution_count": 7,
      "outputs": []
    },
    {
      "cell_type": "code",
      "metadata": {
        "id": "jNwJaQ9DO_mr",
        "colab_type": "code",
        "colab": {
          "base_uri": "https://localhost:8080/",
          "height": 178
        },
        "outputId": "b4ad2504-c7ed-4314-c720-8cdfad88c292"
      },
      "source": [
        "file = open(\"bilgiler.txt\",\"r\", encoding=\"utf-8\") # r dosya kipi ile dosyayı okumak için açıyoruz, utf-8 karakterleri de okuyabilmek için encode ettik.\n",
        "file = open(\"bilgiler2.txt\",\"r\", encoding=\"utf-8\") # mevcut olmayan dosyayı açma hatası"
      ],
      "execution_count": 9,
      "outputs": [
        {
          "output_type": "error",
          "ename": "FileNotFoundError",
          "evalue": "ignored",
          "traceback": [
            "\u001b[0;31m---------------------------------------------------------------------------\u001b[0m",
            "\u001b[0;31mFileNotFoundError\u001b[0m                         Traceback (most recent call last)",
            "\u001b[0;32m<ipython-input-9-866ebd899aef>\u001b[0m in \u001b[0;36m<module>\u001b[0;34m()\u001b[0m\n\u001b[1;32m      1\u001b[0m \u001b[0mfile\u001b[0m \u001b[0;34m=\u001b[0m \u001b[0mopen\u001b[0m\u001b[0;34m(\u001b[0m\u001b[0;34m\"bilgiler.txt\"\u001b[0m\u001b[0;34m,\u001b[0m\u001b[0;34m\"r\"\u001b[0m\u001b[0;34m,\u001b[0m \u001b[0mencoding\u001b[0m\u001b[0;34m=\u001b[0m\u001b[0;34m\"utf-8\"\u001b[0m\u001b[0;34m)\u001b[0m \u001b[0;31m# r dosya kipi ile dosyayı okumak için açıyoruz, utf-8 karakterleri de okuyabilmek için encode ettik.\u001b[0m\u001b[0;34m\u001b[0m\u001b[0;34m\u001b[0m\u001b[0m\n\u001b[0;32m----> 2\u001b[0;31m \u001b[0mfile\u001b[0m \u001b[0;34m=\u001b[0m \u001b[0mopen\u001b[0m\u001b[0;34m(\u001b[0m\u001b[0;34m\"bilgiler2.txt\"\u001b[0m\u001b[0;34m,\u001b[0m\u001b[0;34m\"r\"\u001b[0m\u001b[0;34m,\u001b[0m \u001b[0mencoding\u001b[0m\u001b[0;34m=\u001b[0m\u001b[0;34m\"utf-8\"\u001b[0m\u001b[0;34m)\u001b[0m \u001b[0;31m# mevcut olmayan dosyayı açma hatası\u001b[0m\u001b[0;34m\u001b[0m\u001b[0;34m\u001b[0m\u001b[0m\n\u001b[0m",
            "\u001b[0;31mFileNotFoundError\u001b[0m: [Errno 2] No such file or directory: 'bilgiler2.txt'"
          ]
        }
      ]
    },
    {
      "cell_type": "code",
      "metadata": {
        "id": "g1xKy40QPcPY",
        "colab_type": "code",
        "colab": {
          "base_uri": "https://localhost:8080/",
          "height": 101
        },
        "outputId": "ccc1a78d-f829-4b2e-8036-e69e4f5169ea"
      },
      "source": [
        "file.close()\n",
        "file=open(\"bilgiler.txt\",\"w\", encoding=\"utf-8\")\n",
        "file.write(\"Mustafa\\nSabri\\nKARAMAN\\ntest\\ndeneme\")\n",
        "file.close()\n",
        "file=open(\"bilgiler.txt\",\"r\", encoding=\"utf-8\")\n",
        "for i in file: # Tıpkı listeler gibi dosyanın her bir satırı üzerinde geziniyoruz.\n",
        "    print(i,end=\"\") # Her bir satırı ekrana basıyoruz.\n",
        "file.close()"
      ],
      "execution_count": 11,
      "outputs": [
        {
          "output_type": "stream",
          "text": [
            "Mustafa\n",
            "Sabri\n",
            "KARAMAN\n",
            "test\n",
            "deneme"
          ],
          "name": "stdout"
        }
      ]
    },
    {
      "cell_type": "markdown",
      "metadata": {
        "id": "ODI-prBCQIAW",
        "colab_type": "text"
      },
      "source": [
        "# read() fonksiyonu\n",
        "read() fonksiyonu eğer içine hiçbir değer vermezsek bütün dosyamızı okuyacaktır."
      ]
    },
    {
      "cell_type": "code",
      "metadata": {
        "id": "An27hA8gQC6i",
        "colab_type": "code",
        "colab": {
          "base_uri": "https://localhost:8080/",
          "height": 134
        },
        "outputId": "7c24a99e-b3c3-44a0-fa55-d3a8bcf4347d"
      },
      "source": [
        "file = open(\"bilgiler.txt\",\"r\",encoding=\"utf-8\")\n",
        "icerik = file.read() \n",
        "print(\"Dosya İçeriği:\\n\")\n",
        "print(icerik)\n",
        "file.close()"
      ],
      "execution_count": 14,
      "outputs": [
        {
          "output_type": "stream",
          "text": [
            "Dosya İçeriği:\n",
            "\n",
            "Mustafa\n",
            "Sabri\n",
            "KARAMAN\n",
            "test\n",
            "deneme\n"
          ],
          "name": "stdout"
        }
      ]
    },
    {
      "cell_type": "code",
      "metadata": {
        "id": "e5maKpr6QnrA",
        "colab_type": "code",
        "colab": {
          "base_uri": "https://localhost:8080/",
          "height": 151
        },
        "outputId": "25d54f71-b378-4ee2-8930-14f8f6eadfb8"
      },
      "source": [
        "file = open(\"bilgiler.txt\",\"r\",encoding=\"utf-8\")\n",
        "icerik = file.read() \n",
        "print(\"1. Okuma : Dosya İçeriği:\\n\",icerik,sep =\"\")\n",
        "icerik2 = file.read()\n",
        "print(\"2. Okuma : Dosya İçeriği:\\n\",icerik2,sep =\"\") # 1. okuma işleminden sonra imleç en sonda kaldığı için, 2. okuma sonuç veremedi\n",
        "file.close()"
      ],
      "execution_count": 15,
      "outputs": [
        {
          "output_type": "stream",
          "text": [
            "1. Okuma : Dosya İçeriği:\n",
            "Mustafa\n",
            "Sabri\n",
            "KARAMAN\n",
            "test\n",
            "deneme\n",
            "2. Okuma : Dosya İçeriği:\n",
            "\n"
          ],
          "name": "stdout"
        }
      ]
    },
    {
      "cell_type": "markdown",
      "metadata": {
        "id": "coEOojJWQ7Xx",
        "colab_type": "text"
      },
      "source": [
        "# readline() fonksiyonu\n",
        "readline() fonksiyonu her çağrıldığında dosyanın sadece bir satırını okur. Her seferinde dosya imlecimiz (file) bir satır atlayarak devam eder."
      ]
    },
    {
      "cell_type": "code",
      "metadata": {
        "id": "m7ybbdcFQ4Wc",
        "colab_type": "code",
        "colab": {
          "base_uri": "https://localhost:8080/",
          "height": 118
        },
        "outputId": "c6f0314e-bfa1-431c-c7dd-a807edbf8733"
      },
      "source": [
        "file = open(\"bilgiler.txt\",\"r\",encoding=\"utf-8\")\n",
        "print(file.readline())\n",
        "print(file.readline())\n",
        "print(file.readline())"
      ],
      "execution_count": 19,
      "outputs": [
        {
          "output_type": "stream",
          "text": [
            "Mustafa\n",
            "\n",
            "Sabri\n",
            "\n",
            "KARAMAN\n",
            "\n"
          ],
          "name": "stdout"
        }
      ]
    },
    {
      "cell_type": "code",
      "metadata": {
        "id": "u_q4ZBbvRGAc",
        "colab_type": "code",
        "colab": {}
      },
      "source": [
        "file.close()"
      ],
      "execution_count": 20,
      "outputs": []
    },
    {
      "cell_type": "markdown",
      "metadata": {
        "id": "Cm9f9xVkRHs1",
        "colab_type": "text"
      },
      "source": [
        "# readlines() fonksiyonu\n",
        "readlines() fonksiyonu dosyanın bütün satırları bir liste şeklinde döner."
      ]
    },
    {
      "cell_type": "code",
      "metadata": {
        "id": "A3USvxuaRI44",
        "colab_type": "code",
        "colab": {
          "base_uri": "https://localhost:8080/",
          "height": 34
        },
        "outputId": "74ea5b2c-03bf-471b-cd32-96ac9c022d7f"
      },
      "source": [
        "file = open(\"bilgiler.txt\",\"r\",encoding=\"utf-8\")\n",
        "print(file.readlines())\n",
        "file.close()"
      ],
      "execution_count": 22,
      "outputs": [
        {
          "output_type": "stream",
          "text": [
            "['Mustafa\\n', 'Sabri\\n', 'KARAMAN\\n', 'test\\n', 'deneme']\n"
          ],
          "name": "stdout"
        }
      ]
    }
  ]
}