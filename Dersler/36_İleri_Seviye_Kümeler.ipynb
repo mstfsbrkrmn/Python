{
  "nbformat": 4,
  "nbformat_minor": 0,
  "metadata": {
    "colab": {
      "name": "36_İleri Seviye Kümeler.ipynb",
      "provenance": [],
      "collapsed_sections": [],
      "authorship_tag": "ABX9TyMkuLCkBDQ8niZ9Wy/g90A7",
      "include_colab_link": true
    },
    "kernelspec": {
      "name": "python3",
      "display_name": "Python 3"
    }
  },
  "cells": [
    {
      "cell_type": "markdown",
      "metadata": {
        "id": "view-in-github",
        "colab_type": "text"
      },
      "source": [
        "<a href=\"https://colab.research.google.com/github/mstfsbrkrmn/Python/blob/master/36_%C4%B0leri_Seviye_K%C3%BCmeler.ipynb\" target=\"_parent\"><img src=\"https://colab.research.google.com/assets/colab-badge.svg\" alt=\"Open In Colab\"/></a>"
      ]
    },
    {
      "cell_type": "code",
      "metadata": {
        "id": "bdz9uDCLiY05",
        "colab_type": "code",
        "colab": {
          "base_uri": "https://localhost:8080/",
          "height": 34
        },
        "outputId": "396e6055-c026-42b9-f8d2-a7b44759f7e1"
      },
      "source": [
        "x,y =  set(),{} # Boş küme\n",
        "l=[1,1,1,2,2,3,3,3,3,3]\n",
        "x=set(l)\n",
        "x"
      ],
      "execution_count": 1,
      "outputs": [
        {
          "output_type": "execute_result",
          "data": {
            "text/plain": [
              "{1, 2, 3}"
            ]
          },
          "metadata": {
            "tags": []
          },
          "execution_count": 1
        }
      ]
    },
    {
      "cell_type": "markdown",
      "metadata": {
        "id": "SdgFP7f5juQJ",
        "colab_type": "text"
      },
      "source": [
        "**add()** metodu"
      ]
    },
    {
      "cell_type": "code",
      "metadata": {
        "id": "y-2eZB43jj1l",
        "colab_type": "code",
        "colab": {
          "base_uri": "https://localhost:8080/",
          "height": 34
        },
        "outputId": "0db465e2-6011-49e1-88df-d33d38d15c6f"
      },
      "source": [
        "x.add(4)\n",
        "x"
      ],
      "execution_count": 2,
      "outputs": [
        {
          "output_type": "execute_result",
          "data": {
            "text/plain": [
              "{1, 2, 3, 4}"
            ]
          },
          "metadata": {
            "tags": []
          },
          "execution_count": 2
        }
      ]
    },
    {
      "cell_type": "markdown",
      "metadata": {
        "id": "9lJtT7yLk75O",
        "colab_type": "text"
      },
      "source": [
        "**discard()** metodu"
      ]
    },
    {
      "cell_type": "code",
      "metadata": {
        "id": "SFCdrPiEk9UD",
        "colab_type": "code",
        "colab": {
          "base_uri": "https://localhost:8080/",
          "height": 34
        },
        "outputId": "f4e9c00c-57c4-411b-b1db-f1c15878b8d4"
      },
      "source": [
        "x.discard(4)\n",
        "x"
      ],
      "execution_count": 8,
      "outputs": [
        {
          "output_type": "execute_result",
          "data": {
            "text/plain": [
              "{1, 2, 3}"
            ]
          },
          "metadata": {
            "tags": []
          },
          "execution_count": 8
        }
      ]
    },
    {
      "cell_type": "markdown",
      "metadata": {
        "id": "gjIQlEOej4zH",
        "colab_type": "text"
      },
      "source": [
        "**difference()** metodu\n"
      ]
    },
    {
      "cell_type": "code",
      "metadata": {
        "id": "r7b49Y9Ej576",
        "colab_type": "code",
        "colab": {
          "base_uri": "https://localhost:8080/",
          "height": 34
        },
        "outputId": "87370a76-45f8-42a4-a441-b3de0236ce9a"
      },
      "source": [
        "k1 = {1,2,3,10,34,100,-2}\n",
        "k2 = {1,2,23,34,-1}\n",
        "k1.difference(k2)"
      ],
      "execution_count": 3,
      "outputs": [
        {
          "output_type": "execute_result",
          "data": {
            "text/plain": [
              "{-2, 3, 10, 100}"
            ]
          },
          "metadata": {
            "tags": []
          },
          "execution_count": 3
        }
      ]
    },
    {
      "cell_type": "markdown",
      "metadata": {
        "id": "7p6gaGcskF3q",
        "colab_type": "text"
      },
      "source": [
        "**difference_update()** metodu"
      ]
    },
    {
      "cell_type": "code",
      "metadata": {
        "id": "sxYUz9DRkB6f",
        "colab_type": "code",
        "colab": {
          "base_uri": "https://localhost:8080/",
          "height": 34
        },
        "outputId": "bf0ce366-fb0f-4a13-ba6d-25fcb2cc462d"
      },
      "source": [
        "k1 = {1,2,3,10,34,100,-2}\n",
        "k2 = {1,2,23,34,-1}\n",
        "k1.difference_update(k2)\n",
        "k1"
      ],
      "execution_count": 4,
      "outputs": [
        {
          "output_type": "execute_result",
          "data": {
            "text/plain": [
              "{-2, 3, 10, 100}"
            ]
          },
          "metadata": {
            "tags": []
          },
          "execution_count": 4
        }
      ]
    },
    {
      "cell_type": "markdown",
      "metadata": {
        "id": "9JpkODeelIs1",
        "colab_type": "text"
      },
      "source": [
        "**intersection()** metodu"
      ]
    },
    {
      "cell_type": "code",
      "metadata": {
        "id": "dCykGeWmlKDW",
        "colab_type": "code",
        "colab": {
          "base_uri": "https://localhost:8080/",
          "height": 34
        },
        "outputId": "bd35c9d3-4c8a-47eb-b5ee-9af5d58a60ad"
      },
      "source": [
        "k1 = {1,2,3,10,34,100,-2}\n",
        "k2 = {1,2,23,34,-1}\n",
        "k1.intersection(k2)"
      ],
      "execution_count": 9,
      "outputs": [
        {
          "output_type": "execute_result",
          "data": {
            "text/plain": [
              "{1, 2, 34}"
            ]
          },
          "metadata": {
            "tags": []
          },
          "execution_count": 9
        }
      ]
    },
    {
      "cell_type": "markdown",
      "metadata": {
        "id": "GKmiB251lN6n",
        "colab_type": "text"
      },
      "source": [
        "**intersection_update()** metodu"
      ]
    },
    {
      "cell_type": "code",
      "metadata": {
        "id": "x9xGBxSClR97",
        "colab_type": "code",
        "colab": {}
      },
      "source": [
        "k1 = {1,2,3,10,34,100,-2}\n",
        "k2 = {1,2,23,34,-1}\n",
        "k1.intersection_update(k2)"
      ],
      "execution_count": 10,
      "outputs": []
    },
    {
      "cell_type": "markdown",
      "metadata": {
        "id": "u676JwwWkNns",
        "colab_type": "text"
      },
      "source": [
        "**union()** metodu"
      ]
    },
    {
      "cell_type": "code",
      "metadata": {
        "id": "_PPIV5RZkadB",
        "colab_type": "code",
        "colab": {
          "base_uri": "https://localhost:8080/",
          "height": 34
        },
        "outputId": "27257c12-0fca-433f-aeb0-aa9283d16b61"
      },
      "source": [
        "k1 = {1,2,3,10,34,100,-2}\n",
        "k2 = {1,2,23,34,-1}\n",
        "k1.union(k2)"
      ],
      "execution_count": 5,
      "outputs": [
        {
          "output_type": "execute_result",
          "data": {
            "text/plain": [
              "{-2, -1, 1, 2, 3, 10, 23, 34, 100}"
            ]
          },
          "metadata": {
            "tags": []
          },
          "execution_count": 5
        }
      ]
    },
    {
      "cell_type": "markdown",
      "metadata": {
        "id": "J1KJXV3BkWAY",
        "colab_type": "text"
      },
      "source": [
        "**update()** metodu"
      ]
    },
    {
      "cell_type": "code",
      "metadata": {
        "id": "wsZYiAPNkdyP",
        "colab_type": "code",
        "colab": {
          "base_uri": "https://localhost:8080/",
          "height": 34
        },
        "outputId": "ea27e2db-fb5c-4983-81cb-eba4d51970f9"
      },
      "source": [
        "k1.update(k2)\n",
        "k1"
      ],
      "execution_count": 7,
      "outputs": [
        {
          "output_type": "execute_result",
          "data": {
            "text/plain": [
              "{-2, -1, 1, 2, 3, 10, 23, 34, 100}"
            ]
          },
          "metadata": {
            "tags": []
          },
          "execution_count": 7
        }
      ]
    },
    {
      "cell_type": "markdown",
      "metadata": {
        "id": "NxlGBWPfk02H",
        "colab_type": "text"
      },
      "source": [
        "**isdisjoint()** metodu"
      ]
    },
    {
      "cell_type": "code",
      "metadata": {
        "id": "sKbjEgK_ldA1",
        "colab_type": "code",
        "colab": {
          "base_uri": "https://localhost:8080/",
          "height": 34
        },
        "outputId": "2f35f8c0-f633-45d1-cfae-3a9554f805af"
      },
      "source": [
        "k1 = {1,2,3,10,34,100,-2}\n",
        "k2 = {1,2,23,34,-1}\n",
        "k1.isdisjoint(k2)"
      ],
      "execution_count": 11,
      "outputs": [
        {
          "output_type": "execute_result",
          "data": {
            "text/plain": [
              "False"
            ]
          },
          "metadata": {
            "tags": []
          },
          "execution_count": 11
        }
      ]
    },
    {
      "cell_type": "markdown",
      "metadata": {
        "id": "S--yc05Rltae",
        "colab_type": "text"
      },
      "source": [
        "**issubset()** metodu"
      ]
    },
    {
      "cell_type": "code",
      "metadata": {
        "id": "uoGU0pWnlwSV",
        "colab_type": "code",
        "colab": {
          "base_uri": "https://localhost:8080/",
          "height": 34
        },
        "outputId": "ed0a9f39-6c3a-4be1-b008-6f885012527a"
      },
      "source": [
        "k1 = {1,2,3,10,34,100,-2}\n",
        "k2 = {1,2,23,34,-1}\n",
        "k1.issubset(k2)"
      ],
      "execution_count": 12,
      "outputs": [
        {
          "output_type": "execute_result",
          "data": {
            "text/plain": [
              "False"
            ]
          },
          "metadata": {
            "tags": []
          },
          "execution_count": 12
        }
      ]
    }
  ]
}