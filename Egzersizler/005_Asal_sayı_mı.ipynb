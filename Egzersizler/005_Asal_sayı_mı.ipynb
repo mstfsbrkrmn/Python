{
  "nbformat": 4,
  "nbformat_minor": 0,
  "metadata": {
    "colab": {
      "name": "Untitled0.ipynb",
      "provenance": [],
      "authorship_tag": "ABX9TyO4Oz9NdaNzNG6FOcPe9bUf",
      "include_colab_link": true
    },
    "kernelspec": {
      "name": "python3",
      "display_name": "Python 3"
    }
  },
  "cells": [
    {
      "cell_type": "markdown",
      "metadata": {
        "id": "view-in-github",
        "colab_type": "text"
      },
      "source": [
        "<a href=\"https://colab.research.google.com/github/mstfsbrkrmn/Python/blob/master/5_Asal_say%C4%B1_m%C4%B1.ipynb\" target=\"_parent\"><img src=\"https://colab.research.google.com/assets/colab-badge.svg\" alt=\"Open In Colab\"/></a>"
      ]
    },
    {
      "cell_type": "code",
      "metadata": {
        "id": "yxi3KH8qEKdP",
        "colab_type": "code",
        "colab": {
          "base_uri": "https://localhost:8080/",
          "height": 622
        },
        "outputId": "a0593ab2-979e-4ac9-e59b-440abd00792a"
      },
      "source": [
        "def asal(s):\n",
        "  if s==0 or s==1:\n",
        "    return False\n",
        "  elif s==2:\n",
        "    return True\n",
        "  else:\n",
        "    if s%2==0:\n",
        "      print(s,2,\"sayısına bölünebiliyor.\")\n",
        "      return False\n",
        "    i=3\n",
        "    while i<int(s**0.5)+1:\n",
        "      if s%i==0:\n",
        "        print(s,i,\"sayısına bölünebiliyor.\")\n",
        "        return False\n",
        "      i+=2\n",
        "    return True\n",
        "while True:\n",
        "  s=input(\"sayı:\")\n",
        "  if s==\"q\":\n",
        "    print(\"program sonlandırılıyor.\")\n",
        "    break\n",
        "  s=int(s)\n",
        "  if asal(s):\n",
        "    print(s,\"Asal\")\n",
        "  else:\n",
        "    print(s,\"Asal değil\")"
      ],
      "execution_count": 9,
      "outputs": [
        {
          "output_type": "stream",
          "text": [
            "sayı:3\n",
            "3 Asal\n",
            "sayı:4\n",
            "4 2 sayısına bölünebiliyor.\n",
            "4 Asal değil\n",
            "sayı:5\n",
            "5 Asal\n",
            "sayı:6\n",
            "6 2 sayısına bölünebiliyor.\n",
            "6 Asal değil\n",
            "sayı:7\n",
            "7 Asal\n",
            "sayı:8\n",
            "8 2 sayısına bölünebiliyor.\n",
            "8 Asal değil\n",
            "sayı:9\n",
            "9 3 sayısına bölünebiliyor.\n",
            "9 Asal değil\n",
            "sayı:21\n",
            "21 3 sayısına bölünebiliyor.\n",
            "21 Asal değil\n",
            "sayı:101\n",
            "101 Asal\n",
            "sayı:142\n",
            "142 2 sayısına bölünebiliyor.\n",
            "142 Asal değil\n",
            "sayı:143\n",
            "143 11 sayısına bölünebiliyor.\n",
            "143 Asal değil\n",
            "sayı:145\n",
            "145 5 sayısına bölünebiliyor.\n",
            "145 Asal değil\n",
            "sayı:151\n",
            "151 Asal\n",
            "sayı:q\n",
            "program sonlandırılıyor.\n"
          ],
          "name": "stdout"
        }
      ]
    }
  ]
}
