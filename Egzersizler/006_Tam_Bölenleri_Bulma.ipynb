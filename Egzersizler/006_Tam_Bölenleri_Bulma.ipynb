{
  "nbformat": 4,
  "nbformat_minor": 0,
  "metadata": {
    "colab": {
      "name": "6_Tam Bölenleri Bulma.ipynb",
      "provenance": [],
      "collapsed_sections": []
    },
    "kernelspec": {
      "name": "python3",
      "display_name": "Python 3"
    }
  },
  "cells": [
    {
      "cell_type": "code",
      "metadata": {
        "id": "bep6TQ6Q21wX",
        "colab_type": "code",
        "colab": {
          "base_uri": "https://localhost:8080/",
          "height": 34
        },
        "outputId": "413c8faa-a4df-441c-8e45-96ece2d1d806"
      },
      "source": [
        "def TBB(s):\n",
        "  tbl=[]\n",
        "  for i in range(2,s):\n",
        "    if s%i==0:\n",
        "      tbl.append(i)\n",
        "  return tbl\n",
        "print(TBB(20))"
      ],
      "execution_count": 3,
      "outputs": [
        {
          "output_type": "stream",
          "text": [
            "[2, 4, 5, 10]\n"
          ],
          "name": "stdout"
        }
      ]
    }
  ]
}