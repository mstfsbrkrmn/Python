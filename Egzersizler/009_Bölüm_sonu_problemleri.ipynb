{
  "nbformat": 4,
  "nbformat_minor": 0,
  "metadata": {
    "colab": {
      "name": "9_Bölüm sonu problemleri.ipynb",
      "provenance": [],
      "collapsed_sections": []
    },
    "kernelspec": {
      "name": "python3",
      "display_name": "Python 3"
    }
  },
  "cells": [
    {
      "cell_type": "markdown",
      "metadata": {
        "id": "ewNPas6Evv7O",
        "colab_type": "text"
      },
      "source": [
        "# Proje 1\n",
        "Bir tane \"Bilgisayar\" sınıfı oluşturarak bu sınıfa metodlar ve özellikler ekleyin ve bu class'ı kullanmaya çalışın.\n",
        "\n",
        "Bu sınıfı yazarken öğrendiğimiz özel metodların hepsini tanımlamaya çalışın."
      ]
    },
    {
      "cell_type": "code",
      "metadata": {
        "id": "H1lCZReCvSba",
        "colab_type": "code",
        "colab": {}
      },
      "source": [
        "class bilgisayar():\n",
        "  def __init__(self,marka,islemci,fiyat):\n",
        "    self.marka=marka\n",
        "    self.islemci=islemci\n",
        "    self.fiyat=fiyat\n",
        "  def __str__(self):\n",
        "    return \"Marka\\t:{}\\nİşlemci\\t:{}\\nFiyat\\t:{}\".format(self.marka,self.islemci,self.fiyat)\n",
        "  def __del__(self):\n",
        "    print(\"siliniyor...\")\n",
        "  def __len__(self):\n",
        "    return self.fiyat"
      ],
      "execution_count": 1,
      "outputs": []
    },
    {
      "cell_type": "code",
      "metadata": {
        "id": "3pCgSBB3ySj-",
        "colab_type": "code",
        "colab": {
          "base_uri": "https://localhost:8080/",
          "height": 34
        },
        "outputId": "b073d0ee-5c10-464a-ffc7-4f94585155a0"
      },
      "source": [
        "b1=bilgisayar(\"ASUS\",\"i7\",5000)\n",
        "del b1"
      ],
      "execution_count": 2,
      "outputs": [
        {
          "output_type": "stream",
          "text": [
            "siliniyor...\n"
          ],
          "name": "stdout"
        }
      ]
    },
    {
      "cell_type": "code",
      "metadata": {
        "id": "-8wFp8rYzAOM",
        "colab_type": "code",
        "colab": {}
      },
      "source": [
        "a1=bilgisayar(\"mac\",\"i5\",3333)"
      ],
      "execution_count": 3,
      "outputs": []
    },
    {
      "cell_type": "code",
      "metadata": {
        "id": "mzxAzEJ2zH22",
        "colab_type": "code",
        "colab": {
          "base_uri": "https://localhost:8080/",
          "height": 34
        },
        "outputId": "465832df-65b3-4049-a594-469d7a36e5f6"
      },
      "source": [
        "len(a1)"
      ],
      "execution_count": 4,
      "outputs": [
        {
          "output_type": "execute_result",
          "data": {
            "text/plain": [
              "3333"
            ]
          },
          "metadata": {
            "tags": []
          },
          "execution_count": 4
        }
      ]
    },
    {
      "cell_type": "code",
      "metadata": {
        "id": "x2StbPZTzLAM",
        "colab_type": "code",
        "colab": {
          "base_uri": "https://localhost:8080/",
          "height": 67
        },
        "outputId": "ad4724f2-ed47-4704-ce6a-0c3ac2daed63"
      },
      "source": [
        "print(a1)"
      ],
      "execution_count": 5,
      "outputs": [
        {
          "output_type": "stream",
          "text": [
            "Marka\t:mac\n",
            "İşlemci\t:i5\n",
            "Fiyat\t:3333\n"
          ],
          "name": "stdout"
        }
      ]
    },
    {
      "cell_type": "markdown",
      "metadata": {
        "id": "MtMO6YgczyyG",
        "colab_type": "text"
      },
      "source": [
        "# Proje 2\n",
        "Bu projede ise 4 tane sınıfı oluşturun.\n",
        "\n",
        "Hayvan Sınıfı ------> Bütün hayvanların ortak özelliklerinin toplandığı sınıf olacak.\n",
        "\n",
        "Köpek Sınıfı ------> Bu sınıf, hayvan sınıfından miras alan bir sınıf olacak. Ayrıca bu sınıfa köpeklere ait ek özellikler ve metodlar ekleyin.\n",
        "\n",
        "Kuş Sınıfı ------> Bu sınıf, hayvan sınıfından miras alan bir sınıf olacak. Ayrıca bu sınıfa kuşlara ait ek özellikler ve metodlar ekleyin."
      ]
    },
    {
      "cell_type": "code",
      "metadata": {
        "id": "NGYI8ghsz2Gy",
        "colab_type": "code",
        "colab": {}
      },
      "source": [
        "class hayvan():\n",
        "  \n",
        "  def __init__(self,tur=\"bilgi yok\",yas=\"bilgi yok\"):\n",
        "    self.tur=tur\n",
        "    self.yas=yas\n",
        "  \n",
        "  def ozellikler(self):\n",
        "    print(\"\"\"\n",
        "    Türü\\t:{}\n",
        "    Yaşı\\t:{}\n",
        "    \"\"\".format(self.tur,self.yas))\n",
        "\n",
        "class kopek(hayvan):\n",
        "  \n",
        "  def __init__(self,tur=\"bilgi yok\",yas=\"bilgi yok\",egitim=\"bilgi yok\"):\n",
        "    super().__init__(tur,yas)\n",
        "    self.egitim=egitim\n",
        "  \n",
        "  def egit(self):\n",
        "    if self.egitim==\"var\":\n",
        "      print(\"zaten eğitimli\")\n",
        "    else:\n",
        "      self.egitim=\"var\"\n",
        "  \n",
        "  def ozellikler(self):\n",
        "    print(\"\"\"\n",
        "    Türü\\t:{}\n",
        "    Yaşı\\t:{}\n",
        "    Eğitimi\\t:{}\n",
        "    \"\"\".format(self.tur,self.yas,self.egitim))\n",
        "\n",
        "class kus(hayvan):\n",
        "     \n",
        "    def __init__(self,tur=\"bilgi yok\",yas=\"bilgi yok\",kanat_uzunlugu=\"bilgi yok\"):\n",
        "      super().__init__(tur,yas)\n",
        "      self.kanat_uzunlugu=kanat_uzunlugu\n",
        "    \n",
        "    def ozellikler(self):\n",
        "      print(\"\"\"\n",
        "      Türü\\t:{}\n",
        "      Yaşı\\t:{}\n",
        "      Kanat Uzunluğu\\t:{}\n",
        "      \"\"\".format(self.tur,self.yas,self.kanat_uzunlugu))"
      ],
      "execution_count": 7,
      "outputs": []
    },
    {
      "cell_type": "code",
      "metadata": {
        "id": "gCCN59wM2acs",
        "colab_type": "code",
        "colab": {}
      },
      "source": [
        "h1=hayvan(\"memeli\",7)"
      ],
      "execution_count": 8,
      "outputs": []
    },
    {
      "cell_type": "code",
      "metadata": {
        "id": "NMzXfIXx2kMc",
        "colab_type": "code",
        "colab": {
          "base_uri": "https://localhost:8080/",
          "height": 84
        },
        "outputId": "a99e6bda-98a9-47fb-b267-7d9fb72a5f66"
      },
      "source": [
        "h1.ozellikler()"
      ],
      "execution_count": 9,
      "outputs": [
        {
          "output_type": "stream",
          "text": [
            "\n",
            "    Türü\t:memeli\n",
            "    Yaşı\t:7\n",
            "    \n"
          ],
          "name": "stdout"
        }
      ]
    },
    {
      "cell_type": "code",
      "metadata": {
        "id": "DDGWUQyO2mhR",
        "colab_type": "code",
        "colab": {}
      },
      "source": [
        "k1=kopek(\"memeli\",4,\"yok\")"
      ],
      "execution_count": 10,
      "outputs": []
    },
    {
      "cell_type": "code",
      "metadata": {
        "id": "-ApaiZwF2tEQ",
        "colab_type": "code",
        "colab": {
          "base_uri": "https://localhost:8080/",
          "height": 101
        },
        "outputId": "a12b5cbc-5c5b-452d-e0c9-1aefb3943df3"
      },
      "source": [
        "k1.ozellikler()"
      ],
      "execution_count": 12,
      "outputs": [
        {
          "output_type": "stream",
          "text": [
            "\n",
            "    Türü\t:memeli\n",
            "    Yaşı\t:4\n",
            "    Eğitimi\t:yok\n",
            "    \n"
          ],
          "name": "stdout"
        }
      ]
    },
    {
      "cell_type": "code",
      "metadata": {
        "id": "VvQz8O6u2wJ0",
        "colab_type": "code",
        "colab": {}
      },
      "source": [
        "k1.egit()"
      ],
      "execution_count": 13,
      "outputs": []
    },
    {
      "cell_type": "code",
      "metadata": {
        "id": "UflSJv9G21RX",
        "colab_type": "code",
        "colab": {
          "base_uri": "https://localhost:8080/",
          "height": 101
        },
        "outputId": "7515e182-7992-4865-d282-d42456de2927"
      },
      "source": [
        "k1.ozellikler()"
      ],
      "execution_count": 14,
      "outputs": [
        {
          "output_type": "stream",
          "text": [
            "\n",
            "    Türü\t:memeli\n",
            "    Yaşı\t:4\n",
            "    Eğitimi\t:var\n",
            "    \n"
          ],
          "name": "stdout"
        }
      ]
    },
    {
      "cell_type": "code",
      "metadata": {
        "id": "TNp9C4va233h",
        "colab_type": "code",
        "colab": {
          "base_uri": "https://localhost:8080/",
          "height": 34
        },
        "outputId": "7adc57cb-7be0-484e-be45-6b435b9662c6"
      },
      "source": [
        "k1.egit()"
      ],
      "execution_count": 15,
      "outputs": [
        {
          "output_type": "stream",
          "text": [
            "zaten eğitimli\n"
          ],
          "name": "stdout"
        }
      ]
    },
    {
      "cell_type": "code",
      "metadata": {
        "id": "2F-Kr43R26Ah",
        "colab_type": "code",
        "colab": {}
      },
      "source": [
        "b1=kus(tur=\"papagan\",kanat_uzunlugu=\"20cm\")"
      ],
      "execution_count": 19,
      "outputs": []
    },
    {
      "cell_type": "code",
      "metadata": {
        "id": "mMAlefCJ3OSS",
        "colab_type": "code",
        "colab": {
          "base_uri": "https://localhost:8080/",
          "height": 101
        },
        "outputId": "7bb2b84d-d308-4f40-989d-5864e33c94be"
      },
      "source": [
        "b1.ozellikler()"
      ],
      "execution_count": 20,
      "outputs": [
        {
          "output_type": "stream",
          "text": [
            "\n",
            "      Türü\t:papagan\n",
            "      Yaşı\t:bilgi yok\n",
            "      Kanat Uzunluğu\t:20cm\n",
            "      \n"
          ],
          "name": "stdout"
        }
      ]
    }
  ]
}