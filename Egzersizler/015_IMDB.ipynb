import requests
from bs4 import BeautifulSoup

url = "https://www.imdb.com/chart/top"
response = requests.get(url)
html_icerigi = response.content
soup=BeautifulSoup(html_icerigi,"html.parser")

print("Program girdiğiniz puandan yüksek olan IMDB top250'deki filmleri gösterecektir.")
a = float(input("Puan giriniz: ")) 

basliklar = soup.find_all("td",{"class":"titleColumn"})
ratinler = soup.find_all("td",{"class":"ratingColumn imdbRating"})

for baslik, rating in zip(basliklar,ratinler):
	baslik = baslik.text
	baslik = baslik.strip()
	baslik = baslik.replace("\n","")
	
	rating = rating.text
	rating = rating.strip()
	rating = rating.replace("\n","")

	if (float(rating) > a):
		print(baslik)
		print("\t\tPuan:",rating)