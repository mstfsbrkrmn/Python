{
  "nbformat": 4,
  "nbformat_minor": 0,
  "metadata": {
    "colab": {
      "name": "5_Asal_sayı_mı.ipynb",
      "provenance": [],
      "collapsed_sections": []
    },
    "kernelspec": {
      "name": "python3",
      "display_name": "Python 3"
    }
  },
  "cells": [
    {
      "cell_type": "code",
      "metadata": {
        "id": "OOubebHaw5a7",
        "colab_type": "code",
        "colab": {
          "base_uri": "https://localhost:8080/",
          "height": 252
        },
        "outputId": "5b468512-2031-433f-e4aa-0d9f5551642f"
      },
      "source": [
        "def asal(s):\n",
        "  if s==0 or s==1:\n",
        "    return False\n",
        "  elif s==2:\n",
        "    return True\n",
        "  else:\n",
        "    if s%2==0:\n",
        "      print(s,2,\"sayısına bölünebiliyor.\")\n",
        "      return False\n",
        "    i=3\n",
        "    while i<=int(s**0.5)+1:\n",
        "      if s%i==0:\n",
        "        print(s,i,\"sayısına bölünebiliyor.\")\n",
        "        return False\n",
        "      i+=2
        "    return True\n",
        "while True:\n",
        "  s=input(\"sayı:\")\n",
        "  if s==\"q\":\n",
        "    print(\"program sonlandırılıyor.\")\n",
        "    break\n",
        "  s=int(s)\n",
        "  if asal(s):\n",
        "    print(s,\"Asal\")\n",
        "  else:\n",
        "    print(s,\"Asal değil\")"
      ],
      "execution_count": 25,
      "outputs": [
        {
          "output_type": "stream",
          "text": [
            "sayı:9\n",
            "9 3 sayısına bölünebiliyor.\n",
            "9 Asal değil\n",
            "sayı:21\n",
            "21 3 sayısına bölünebiliyor.\n",
            "21 Asal değil\n",
            "sayı:143\n",
            "143 11 sayısına bölünebiliyor.\n",
            "143 Asal değil\n",
            "sayı:100\n",
            "100 2 sayısına bölünebiliyor.\n",
            "100 Asal değil\n",
            "sayı:q\n",
            "program sonlandırılıyor.\n"
          ],
          "name": "stdout"
        }
      ]
    }
  ]
}
