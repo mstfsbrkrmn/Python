{
  "nbformat": 4,
  "nbformat_minor": 0,
  "metadata": {
    "colab": {
      "name": "5_Asal sayı mı?.ipynb",
      "provenance": [],
      "collapsed_sections": []
    },
    "kernelspec": {
      "name": "python3",
      "display_name": "Python 3"
    }
  },
  "cells": [
    {
      "cell_type": "code",
      "metadata": {
        "id": "bREuzjmR0OSt",
        "colab_type": "code",
        "colab": {
          "base_uri": "https://localhost:8080/",
          "height": 319
        },
        "outputId": "7e205c15-8f01-4db4-900c-b42c014d21f0"
      },
      "source": [
        "def asal(s):\n",
        "  if s==0 or s==1:\n",
        "    return False\n",
        "  elif s==2:\n",
        "    return True\n",
        "  else:\n",
        "    for i in range(2,s):\n",
        "      if s%i==0:\n",
        "        return False\n",
        "      return True\n",
        "while True:\n",
        "  s=input(\"sayı:\")\n",
        "  if s==\"q\":\n",
        "    print(\"program sonlandırılıyor.\")\n",
        "    break\n",
        "  s=int(s)\n",
        "  if asal(s):\n",
        "    print(s,\"Asal\")\n",
        "  else:\n",
        "    print(s,\"Asal değil\")\n"
      ],
      "execution_count": 1,
      "outputs": [
        {
          "output_type": "stream",
          "text": [
            "sayı:3\n",
            "3 Asal\n",
            "sayı:4\n",
            "4 Asal değil\n",
            "sayı:29\n",
            "29 Asal\n",
            "sayı:101\n",
            "101 Asal\n",
            "sayı:10001\n",
            "10001 Asal\n",
            "sayı:102901901\n",
            "102901901 Asal\n",
            "sayı:1293820937\n",
            "1293820937 Asal\n",
            "sayı:91283092138\n",
            "91283092138 Asal değil\n",
            "sayı:q\n",
            "program sonlandırılıyor.\n"
          ],
          "name": "stdout"
        }
      ]
    }
  ]
}