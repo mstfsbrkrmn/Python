{
  "nbformat": 4,
  "nbformat_minor": 0,
  "metadata": {
    "colab": {
      "name": "7_Bölüm sonu problemleri.ipynb",
      "provenance": [],
      "collapsed_sections": []
    },
    "kernelspec": {
      "name": "python3",
      "display_name": "Python 3"
    }
  },
  "cells": [
    {
      "cell_type": "markdown",
      "metadata": {
        "id": "efeXNwnV5Rp0",
        "colab_type": "text"
      },
      "source": [
        "# Problem 1\n",
        "1'den 1000'e kadar olan sayılardan mükemmel sayı olanları ekrana yazdırın. Bunun için bir sayının mükemmel olup olmadığını dönen bir tane fonksiyon yazın.\n",
        "\n",
        "Bir sayının bölenlerinin toplamı kendine eşitse bu sayı mükemmel bir sayıdır. Örnek olarak 6 mükemmel bir sayıdır (1 + 2 + 3 = 6)."
      ]
    },
    {
      "cell_type": "code",
      "metadata": {
        "id": "1k3dkQjX5Qej",
        "colab_type": "code",
        "colab": {
          "base_uri": "https://localhost:8080/",
          "height": 118
        },
        "outputId": "a6522b86-33bc-4960-c9b4-149c2f93493d"
      },
      "source": [
        "def m(s):\n",
        "  i=1\n",
        "  t=0\n",
        "  while i<s:\n",
        "    if s%i==0:\n",
        "      t+=i\n",
        "    i+=1\n",
        "  if t==s:\n",
        "    print(s,\"mükemmel sayıdır.\")\n",
        "  else:\n",
        "    print(s,\"mükemmel sayı değildir.\")\n",
        "while True:\n",
        "  s=input(\"sayı:\")\n",
        "  if s==\"q\":\n",
        "    print(\"program sonlandırılıyor.\")\n",
        "    break\n",
        "  s=int(s)\n",
        "  m(s)"
      ],
      "execution_count": 2,
      "outputs": [
        {
          "output_type": "stream",
          "text": [
            "sayı:10\n",
            "10 mükemmel sayı değildir.\n",
            "sayı:6\n",
            "6 mükemmel sayıdır.\n",
            "sayı:q\n",
            "program sonlandırılıyor.\n"
          ],
          "name": "stdout"
        }
      ]
    },
    {
      "cell_type": "markdown",
      "metadata": {
        "id": "bgXdvljE7HSA",
        "colab_type": "text"
      },
      "source": [
        "# Problem 2\n",
        "Kullanıcıdan 2 tane sayı alarak bu sayıların en büyük ortak bölenini (EBOB) dönen bir tane fonksiyon yazın.\n",
        "\n",
        "Problem için şu siteye bakabilirsiniz;\n",
        "\n",
        "http://www.matematikciler.com/6-sinif/matematik-konu-anlatimlari/1020-en-kucuk-ortak-kat-ve-en-buyuk-ortak-bolen-ebob-ekok"
      ]
    },
    {
      "cell_type": "code",
      "metadata": {
        "id": "7QMU2cCw7Itl",
        "colab_type": "code",
        "colab": {
          "base_uri": "https://localhost:8080/",
          "height": 84
        },
        "outputId": "cd8581ee-722f-4f4c-9df4-d40ca96ac495"
      },
      "source": [
        "def ebob(a,b):\n",
        "  for i in range(1,a):\n",
        "    if a%i==0 and b%i==0:\n",
        "      k=i\n",
        "  return k\n",
        "print(\"ebobu bulunacak 2 sayı giriniz:\")\n",
        "a,b=int(input(\"1.sayı:\")),int(input(\"2.sayı:\"))\n",
        "print(ebob(a,b))"
      ],
      "execution_count": 14,
      "outputs": [
        {
          "output_type": "stream",
          "text": [
            "ebobu bulunacak 2 sayı giriniz:\n",
            "1.sayı:32\n",
            "2.sayı:24\n",
            "8\n"
          ],
          "name": "stdout"
        }
      ]
    },
    {
      "cell_type": "markdown",
      "metadata": {
        "id": "Cqh9i9bh_JDv",
        "colab_type": "text"
      },
      "source": [
        "# Problem 3\n",
        "Kullanıcıdan 2 tane sayı alarak bu sayıların en küçük ortak katlarını (EKOK) dönen bir tane fonksiyon yazın.\n",
        "\n",
        "Problem için şu siteye bakabilirsiniz;\n",
        "\n",
        "http://www.matematikciler.com/6-sinif/matematik-konu-anlatimlari/1020-en-kucuk-ortak-kat-ve-en-buyuk-ortak-bolen-ebob-ekok"
      ]
    },
    {
      "cell_type": "code",
      "metadata": {
        "id": "FGc5Mj7T_lrF",
        "colab_type": "code",
        "colab": {
          "base_uri": "https://localhost:8080/",
          "height": 84
        },
        "outputId": "b3bcb3f2-5490-40ab-ad6f-e9d36a5d9f8c"
      },
      "source": [
        "def ekok(a,b):\n",
        "  k=1\n",
        "  x=2\n",
        "  while True:\n",
        "    if a%x==0 and b%x==0:\n",
        "      k*=x\n",
        "      a//=x\n",
        "      b//=x\n",
        "    elif a%x==0 and b%x!=0:\n",
        "      k*=x\n",
        "      a//=x\n",
        "    elif a%x!=0 and b%x==0:\n",
        "      k*=x\n",
        "      b//=x\n",
        "    else:\n",
        "      x+=1\n",
        "    if a==1 and b==1:\n",
        "      break\n",
        "  return k\n",
        "\n",
        "print(\"ekoku bulunacak 2 sayı giriniz:\")\n",
        "a,b=int(input(\"1.sayı:\")),int(input(\"2.sayı:\"))\n",
        "print(ekok(a,b))"
      ],
      "execution_count": 17,
      "outputs": [
        {
          "output_type": "stream",
          "text": [
            "ekoku bulunacak 2 sayı giriniz:\n",
            "1.sayı:12\n",
            "2.sayı:7\n",
            "84\n"
          ],
          "name": "stdout"
        }
      ]
    },
    {
      "cell_type": "markdown",
      "metadata": {
        "id": "djJC36N3Djqt",
        "colab_type": "text"
      },
      "source": [
        "# Problem 4\n",
        "Kullanıcıdan 2 basamaklı bir sayı alın ve bu sayının okunuşunu bulan bir fonksiyon yazın.\n",
        "\n",
        "Örnek: 97 ---------> Doksan Yedi"
      ]
    },
    {
      "cell_type": "code",
      "metadata": {
        "id": "b2orviQzDk2Z",
        "colab_type": "code",
        "colab": {
          "base_uri": "https://localhost:8080/",
          "height": 50
        },
        "outputId": "a85e5e5a-9e75-4bd3-df1e-d5c160505706"
      },
      "source": [
        "b =  [\"\",\"Bir\",\"İki\",\"Üç\",\"Dört\",\"Beş\",\"Altı\",\"Yedi\",\"Sekiz\",\"Dokuz\"]\n",
        "o = [\"\",\"On\",\"Yirmi\",\"Otuz\",\"Kırk\",\"Elli\",\"Altmış\",\"Yetmiş\",\"Seksen\",\"Doksan\"]\n",
        "\n",
        "def oku(s):\n",
        "    fi = s % 10\n",
        "    se = s // 10\n",
        "    \n",
        "    return o[se] + \" \" + b[fi]\n",
        "\n",
        "\n",
        "s=int(input(\"2 basamaklı sayı giriniz:\"))\n",
        "oku(s)"
      ],
      "execution_count": 22,
      "outputs": [
        {
          "output_type": "stream",
          "text": [
            "2 basamaklı sayı giriniz:97\n"
          ],
          "name": "stdout"
        },
        {
          "output_type": "execute_result",
          "data": {
            "text/plain": [
              "'Doksan Yedi'"
            ]
          },
          "metadata": {
            "tags": []
          },
          "execution_count": 22
        }
      ]
    },
    {
      "cell_type": "markdown",
      "metadata": {
        "id": "N0sHU9HVHNtT",
        "colab_type": "text"
      },
      "source": [
        "# Problem 5\n",
        "1'den 100'e kadar olan sayılardan pisagor üçgeni oluşturanları ekrana yazdıran bir fonksiyon yazın.(a <= 100,b <= 100)"
      ]
    },
    {
      "cell_type": "code",
      "metadata": {
        "id": "5qOw-RCmHOt2",
        "colab_type": "code",
        "colab": {
          "base_uri": "https://localhost:8080/",
          "height": 1000
        },
        "outputId": "86ba517c-6527-49f0-c49c-62371d52e7e5"
      },
      "source": [
        "def pisagor():\n",
        "  for i in range(1,101):\n",
        "    for j in range(1,101):\n",
        "      for k in range(1,101):\n",
        "        if i**2 + j**2 == k**2:\n",
        "          print(i,j,k)\n",
        "pisagor() \n",
        "print(\"\\n\\n\")\n",
        "def pisagor2():\n",
        "  for i in range(1,101):\n",
        "    for j in range(1,101):\n",
        "      c=(i**2 + j**2)**0.5\n",
        "      if c==int(c):\n",
        "        print(i,j,int(c))\n",
        "pisagor2() \n"
      ],
      "execution_count": 3,
      "outputs": [
        {
          "output_type": "stream",
          "text": [
            "3 4 5\n",
            "4 3 5\n",
            "5 12 13\n",
            "6 8 10\n",
            "7 24 25\n",
            "8 6 10\n",
            "8 15 17\n",
            "9 12 15\n",
            "9 40 41\n",
            "10 24 26\n",
            "11 60 61\n",
            "12 5 13\n",
            "12 9 15\n",
            "12 16 20\n",
            "12 35 37\n",
            "13 84 85\n",
            "14 48 50\n",
            "15 8 17\n",
            "15 20 25\n",
            "15 36 39\n",
            "16 12 20\n",
            "16 30 34\n",
            "16 63 65\n",
            "18 24 30\n",
            "18 80 82\n",
            "20 15 25\n",
            "20 21 29\n",
            "20 48 52\n",
            "21 20 29\n",
            "21 28 35\n",
            "21 72 75\n",
            "24 7 25\n",
            "24 10 26\n",
            "24 18 30\n",
            "24 32 40\n",
            "24 45 51\n",
            "24 70 74\n",
            "25 60 65\n",
            "27 36 45\n",
            "28 21 35\n",
            "28 45 53\n",
            "28 96 100\n",
            "30 16 34\n",
            "30 40 50\n",
            "30 72 78\n",
            "32 24 40\n",
            "32 60 68\n",
            "33 44 55\n",
            "33 56 65\n",
            "35 12 37\n",
            "35 84 91\n",
            "36 15 39\n",
            "36 27 45\n",
            "36 48 60\n",
            "36 77 85\n",
            "39 52 65\n",
            "39 80 89\n",
            "40 9 41\n",
            "40 30 50\n",
            "40 42 58\n",
            "40 75 85\n",
            "42 40 58\n",
            "42 56 70\n",
            "44 33 55\n",
            "45 24 51\n",
            "45 28 53\n",
            "45 60 75\n",
            "48 14 50\n",
            "48 20 52\n",
            "48 36 60\n",
            "48 55 73\n",
            "48 64 80\n",
            "51 68 85\n",
            "52 39 65\n",
            "54 72 90\n",
            "55 48 73\n",
            "56 33 65\n",
            "56 42 70\n",
            "57 76 95\n",
            "60 11 61\n",
            "60 25 65\n",
            "60 32 68\n",
            "60 45 75\n",
            "60 63 87\n",
            "60 80 100\n",
            "63 16 65\n",
            "63 60 87\n",
            "64 48 80\n",
            "65 72 97\n",
            "68 51 85\n",
            "70 24 74\n",
            "72 21 75\n",
            "72 30 78\n",
            "72 54 90\n",
            "72 65 97\n",
            "75 40 85\n",
            "76 57 95\n",
            "77 36 85\n",
            "80 18 82\n",
            "80 39 89\n",
            "80 60 100\n",
            "84 13 85\n",
            "84 35 91\n",
            "96 28 100\n",
            "\n",
            "\n",
            "\n",
            "3 4 5\n",
            "4 3 5\n",
            "5 12 13\n",
            "6 8 10\n",
            "7 24 25\n",
            "8 6 10\n",
            "8 15 17\n",
            "9 12 15\n",
            "9 40 41\n",
            "10 24 26\n",
            "11 60 61\n",
            "12 5 13\n",
            "12 9 15\n",
            "12 16 20\n",
            "12 35 37\n",
            "13 84 85\n",
            "14 48 50\n",
            "15 8 17\n",
            "15 20 25\n",
            "15 36 39\n",
            "16 12 20\n",
            "16 30 34\n",
            "16 63 65\n",
            "18 24 30\n",
            "18 80 82\n",
            "20 15 25\n",
            "20 21 29\n",
            "20 48 52\n",
            "20 99 101\n",
            "21 20 29\n",
            "21 28 35\n",
            "21 72 75\n",
            "24 7 25\n",
            "24 10 26\n",
            "24 18 30\n",
            "24 32 40\n",
            "24 45 51\n",
            "24 70 74\n",
            "25 60 65\n",
            "27 36 45\n",
            "28 21 35\n",
            "28 45 53\n",
            "28 96 100\n",
            "30 16 34\n",
            "30 40 50\n",
            "30 72 78\n",
            "32 24 40\n",
            "32 60 68\n",
            "33 44 55\n",
            "33 56 65\n",
            "35 12 37\n",
            "35 84 91\n",
            "36 15 39\n",
            "36 27 45\n",
            "36 48 60\n",
            "36 77 85\n",
            "39 52 65\n",
            "39 80 89\n",
            "40 9 41\n",
            "40 30 50\n",
            "40 42 58\n",
            "40 75 85\n",
            "40 96 104\n",
            "42 40 58\n",
            "42 56 70\n",
            "44 33 55\n",
            "45 24 51\n",
            "45 28 53\n",
            "45 60 75\n",
            "48 14 50\n",
            "48 20 52\n",
            "48 36 60\n",
            "48 55 73\n",
            "48 64 80\n",
            "48 90 102\n",
            "51 68 85\n",
            "52 39 65\n",
            "54 72 90\n",
            "55 48 73\n",
            "56 33 65\n",
            "56 42 70\n",
            "56 90 106\n",
            "57 76 95\n",
            "60 11 61\n",
            "60 25 65\n",
            "60 32 68\n",
            "60 45 75\n",
            "60 63 87\n",
            "60 80 100\n",
            "60 91 109\n",
            "63 16 65\n",
            "63 60 87\n",
            "63 84 105\n",
            "64 48 80\n",
            "65 72 97\n",
            "66 88 110\n",
            "68 51 85\n",
            "69 92 115\n",
            "70 24 74\n",
            "72 21 75\n",
            "72 30 78\n",
            "72 54 90\n",
            "72 65 97\n",
            "72 96 120\n",
            "75 40 85\n",
            "75 100 125\n",
            "76 57 95\n",
            "77 36 85\n",
            "80 18 82\n",
            "80 39 89\n",
            "80 60 100\n",
            "80 84 116\n",
            "84 13 85\n",
            "84 35 91\n",
            "84 63 105\n",
            "84 80 116\n",
            "88 66 110\n",
            "90 48 102\n",
            "90 56 106\n",
            "91 60 109\n",
            "92 69 115\n",
            "96 28 100\n",
            "96 40 104\n",
            "96 72 120\n",
            "99 20 101\n",
            "100 75 125\n"
          ],
          "name": "stdout"
        }
      ]
    }
  ]
}