{
  "nbformat": 4,
  "nbformat_minor": 0,
  "metadata": {
    "colab": {
      "name": "8_Eski egzersizler 2018.ipynb",
      "provenance": [],
      "collapsed_sections": []
    },
    "kernelspec": {
      "name": "python3",
      "display_name": "Python 3"
    }
  },
  "cells": [
    {
      "cell_type": "code",
      "metadata": {
        "id": "BgcbhRXqxCIO",
        "colab_type": "code",
        "colab": {
          "base_uri": "https://localhost:8080/",
          "height": 34
        },
        "outputId": "c2181a10-5272-4bbc-fc9b-a79cb05d445f"
      },
      "source": [
        "a=0\n",
        "for i in range(1,10000):\n",
        "    if(i%2==0 or i%3==0):\n",
        "        a+=1\n",
        "print(a)"
      ],
      "execution_count": 1,
      "outputs": [
        {
          "output_type": "stream",
          "text": [
            "6666\n"
          ],
          "name": "stdout"
        }
      ]
    },
    {
      "cell_type": "code",
      "metadata": {
        "id": "SxtIS0CoxhZO",
        "colab_type": "code",
        "colab": {
          "base_uri": "https://localhost:8080/",
          "height": 67
        },
        "outputId": "44d0270a-d6d0-4b68-ef35-73ff9c5f3d4d"
      },
      "source": [
        "x=int(input(\"x: \"))\n",
        "y=int(input(\"y: \"))\n",
        "c=1\n",
        "for i in range(0,y):\n",
        "    c=x*c\n",
        "print(c)"
      ],
      "execution_count": 2,
      "outputs": [
        {
          "output_type": "stream",
          "text": [
            "x: 2\n",
            "y: 3\n",
            "8\n"
          ],
          "name": "stdout"
        }
      ]
    },
    {
      "cell_type": "code",
      "metadata": {
        "id": "YJ0PQvvWxro2",
        "colab_type": "code",
        "colab": {
          "base_uri": "https://localhost:8080/",
          "height": 50
        },
        "outputId": "e7a91777-976b-48c9-ca25-c3b0afbb2aea"
      },
      "source": [
        "t=0\n",
        "ç=0\n",
        "for i in range(2,5000):\n",
        "\n",
        "    if(i%2==0):\n",
        "        t+=1\n",
        "    else:\n",
        "        ç+=1\n",
        "print(\"tek adeti: {}\\nçift adeti: {}\".format(t,ç))"
      ],
      "execution_count": 3,
      "outputs": [
        {
          "output_type": "stream",
          "text": [
            "tek adeti: 2499\n",
            "çift adeti: 2499\n"
          ],
          "name": "stdout"
        }
      ]
    },
    {
      "cell_type": "code",
      "metadata": {
        "id": "6BDRArrlx0NR",
        "colab_type": "code",
        "colab": {
          "base_uri": "https://localhost:8080/",
          "height": 67
        },
        "outputId": "f6530471-6cf4-466e-8ef9-ec343fb2b044"
      },
      "source": [
        "x=int(input(\"x: \"))\n",
        "y=int(input(\"y: \"))\n",
        "c=0\n",
        "for i in range(0,x):\n",
        "    c=y+c\n",
        "print(c)"
      ],
      "execution_count": 4,
      "outputs": [
        {
          "output_type": "stream",
          "text": [
            "x: 2\n",
            "y: 4\n",
            "8\n"
          ],
          "name": "stdout"
        }
      ]
    },
    {
      "cell_type": "code",
      "metadata": {
        "id": "xq7AY-dVx8EJ",
        "colab_type": "code",
        "colab": {
          "base_uri": "https://localhost:8080/",
          "height": 286
        },
        "outputId": "7a57329d-92f8-4495-a757-bac6458c18e7"
      },
      "source": [
        "for i in range(2,10):\n",
        "    for j in range(1,100):\n",
        "        if(i*j<100):\n",
        "            print(\"{}-\".format(i*j),end='')\n",
        "    print(\"\\n\")"
      ],
      "execution_count": 5,
      "outputs": [
        {
          "output_type": "stream",
          "text": [
            "2-4-6-8-10-12-14-16-18-20-22-24-26-28-30-32-34-36-38-40-42-44-46-48-50-52-54-56-58-60-62-64-66-68-70-72-74-76-78-80-82-84-86-88-90-92-94-96-98-\n",
            "\n",
            "3-6-9-12-15-18-21-24-27-30-33-36-39-42-45-48-51-54-57-60-63-66-69-72-75-78-81-84-87-90-93-96-99-\n",
            "\n",
            "4-8-12-16-20-24-28-32-36-40-44-48-52-56-60-64-68-72-76-80-84-88-92-96-\n",
            "\n",
            "5-10-15-20-25-30-35-40-45-50-55-60-65-70-75-80-85-90-95-\n",
            "\n",
            "6-12-18-24-30-36-42-48-54-60-66-72-78-84-90-96-\n",
            "\n",
            "7-14-21-28-35-42-49-56-63-70-77-84-91-98-\n",
            "\n",
            "8-16-24-32-40-48-56-64-72-80-88-96-\n",
            "\n",
            "9-18-27-36-45-54-63-72-81-90-99-\n",
            "\n"
          ],
          "name": "stdout"
        }
      ]
    },
    {
      "cell_type": "code",
      "metadata": {
        "id": "l_jcauOJyP20",
        "colab_type": "code",
        "colab": {
          "base_uri": "https://localhost:8080/",
          "height": 67
        },
        "outputId": "40821b85-d8e9-4ebd-ee0b-3823c6e33ccb"
      },
      "source": [
        "import random\n",
        "y=random.randint(1,100)\n",
        "print(y)\n",
        "a=0\n",
        "c=1\n",
        "while(c<2):\n",
        "    x = int(input(\"tahmin: \"))\n",
        "    a+=1\n",
        "    if(x==y):\n",
        "        print(\"{} tahmin sonunda bulundu.\".format(a))\n",
        "        c=3\n",
        "    else:\n",
        "        print(\"bulunamadı.\\n\")"
      ],
      "execution_count": 13,
      "outputs": [
        {
          "output_type": "stream",
          "text": [
            "53\n",
            "tahmin: 53\n",
            "1 tahmin sonunda bulundu.\n"
          ],
          "name": "stdout"
        }
      ]
    },
    {
      "cell_type": "code",
      "metadata": {
        "id": "Isf7hSlEzKL-",
        "colab_type": "code",
        "colab": {
          "base_uri": "https://localhost:8080/",
          "height": 34
        },
        "outputId": "d9d95eb2-8abf-48eb-cfd9-21296aa0f498"
      },
      "source": [
        "a=0\n",
        "for i in range(1,101):\n",
        "    a=(i**i)+a\n",
        "b=str(a)\n",
        "print(b[-10:])"
      ],
      "execution_count": 17,
      "outputs": [
        {
          "output_type": "stream",
          "text": [
            "9027641920\n"
          ],
          "name": "stdout"
        }
      ]
    },
    {
      "cell_type": "code",
      "metadata": {
        "id": "VlWKjuKVz1Z3",
        "colab_type": "code",
        "colab": {
          "base_uri": "https://localhost:8080/",
          "height": 34
        },
        "outputId": "d83fe641-fec6-4141-da58-83f40363b781"
      },
      "source": [
        "a=0\n",
        "b=0\n",
        "for i in range(1,101):\n",
        "    a=a+(i**2)\n",
        "    b+=i\n",
        "print((b**2)-a)"
      ],
      "execution_count": 21,
      "outputs": [
        {
          "output_type": "stream",
          "text": [
            "25164150\n"
          ],
          "name": "stdout"
        }
      ]
    },
    {
      "cell_type": "code",
      "metadata": {
        "id": "icywqSd70Wuv",
        "colab_type": "code",
        "colab": {
          "base_uri": "https://localhost:8080/",
          "height": 353
        },
        "outputId": "18cb5591-2674-4785-bcd3-739a2823404f"
      },
      "source": [
        "for i in range(1,10):\n",
        "    for j in range(2,6):\n",
        "        print(\"{}*{}={}\\t\".format(j,i,i*j),end='')\n",
        "    print(\"\\n\",end='')\n",
        "print(\"\\n\")\n",
        "for i in range(1,10):\n",
        "    for j in range(6,10):\n",
        "        print(\"{}*{}={}\\t\".format(j,i,i*j),end='')\n",
        "    print(\"\\n\", end='')"
      ],
      "execution_count": 22,
      "outputs": [
        {
          "output_type": "stream",
          "text": [
            "2*1=2\t3*1=3\t4*1=4\t5*1=5\t\n",
            "2*2=4\t3*2=6\t4*2=8\t5*2=10\t\n",
            "2*3=6\t3*3=9\t4*3=12\t5*3=15\t\n",
            "2*4=8\t3*4=12\t4*4=16\t5*4=20\t\n",
            "2*5=10\t3*5=15\t4*5=20\t5*5=25\t\n",
            "2*6=12\t3*6=18\t4*6=24\t5*6=30\t\n",
            "2*7=14\t3*7=21\t4*7=28\t5*7=35\t\n",
            "2*8=16\t3*8=24\t4*8=32\t5*8=40\t\n",
            "2*9=18\t3*9=27\t4*9=36\t5*9=45\t\n",
            "\n",
            "\n",
            "6*1=6\t7*1=7\t8*1=8\t9*1=9\t\n",
            "6*2=12\t7*2=14\t8*2=16\t9*2=18\t\n",
            "6*3=18\t7*3=21\t8*3=24\t9*3=27\t\n",
            "6*4=24\t7*4=28\t8*4=32\t9*4=36\t\n",
            "6*5=30\t7*5=35\t8*5=40\t9*5=45\t\n",
            "6*6=36\t7*6=42\t8*6=48\t9*6=54\t\n",
            "6*7=42\t7*7=49\t8*7=56\t9*7=63\t\n",
            "6*8=48\t7*8=56\t8*8=64\t9*8=72\t\n",
            "6*9=54\t7*9=63\t8*9=72\t9*9=81\t\n"
          ],
          "name": "stdout"
        }
      ]
    },
    {
      "cell_type": "code",
      "metadata": {
        "id": "m8DPPPkJ0nPj",
        "colab_type": "code",
        "colab": {
          "base_uri": "https://localhost:8080/",
          "height": 50
        },
        "outputId": "f144267c-7f90-4d0a-812b-c2657b92631f"
      },
      "source": [
        "x=input(\"3 veya 4 basamaklı sayı giriniz: \")\n",
        "if(len(x)==4):\n",
        "    a = int(x[0:1])\n",
        "    b = int(x[1:2])\n",
        "    c = int(x[2:3])\n",
        "    d = int(x[3:4])\n",
        "    if((a**4)+(b**4)+(c**4)+(d**4)==int(x)):\n",
        "        print(\"{} bir Armstrong sayısıdır.\".format(x))\n",
        "    else:\n",
        "        print(\"{} bir Armstrong sayısı değildir.\".format(x))\n",
        "elif(len(x)==3):\n",
        "    a = int(x[0:1])\n",
        "    b = int(x[1:2])\n",
        "    c = int(x[2:3])\n",
        "    if((a**3)+(b**3)+(c**3)==int(x)):\n",
        "        print(\"{} bir Armstrong sayısıdır.\".format(x))\n",
        "    else:\n",
        "        print(\"{} bir Armstrong sayısı değildir.\".format(x))\n",
        "\n",
        "else:\n",
        "    print(\"girdiğiniz sayı 4 basamaklı değildir.\")"
      ],
      "execution_count": 23,
      "outputs": [
        {
          "output_type": "stream",
          "text": [
            "3 veya 4 basamaklı sayı giriniz: 351\n",
            "351 bir Armstrong sayısı değildir.\n"
          ],
          "name": "stdout"
        }
      ]
    },
    {
      "cell_type": "code",
      "metadata": {
        "id": "W6KX59jF02x4",
        "colab_type": "code",
        "colab": {
          "base_uri": "https://localhost:8080/",
          "height": 84
        },
        "outputId": "049c8ace-892d-41fd-c666-bd8fdc1162a6"
      },
      "source": [
        "x=int(input(\"x: \"))\n",
        "y=int(input(\"y: \"))\n",
        "z=str(x**y)\n",
        "print(\"{}^{}={}\".format(x,y,z))\n",
        "c=[]\n",
        "v=0\n",
        "for i in range(0,len(z)):\n",
        "    k=int(z[i:i+1])\n",
        "    v+=k\n",
        "print(\"{}'nin basamakları toplamı: {}\".format(z,v))"
      ],
      "execution_count": 24,
      "outputs": [
        {
          "output_type": "stream",
          "text": [
            "x: 12\n",
            "y: 2\n",
            "12^2=144\n",
            "144'nin basamakları toplamı: 9\n"
          ],
          "name": "stdout"
        }
      ]
    },
    {
      "cell_type": "code",
      "metadata": {
        "id": "Ud2M6RAa1Rex",
        "colab_type": "code",
        "colab": {
          "base_uri": "https://localhost:8080/",
          "height": 50
        },
        "outputId": "5679a8e2-8c6b-4c1e-bf6f-d0e38a05464c"
      },
      "source": [
        "n=int(input(\"n: \"))\n",
        "c=0\n",
        "for i in range(1,n+1):\n",
        "    c+=(i**i)\n",
        "print(c)"
      ],
      "execution_count": 25,
      "outputs": [
        {
          "output_type": "stream",
          "text": [
            "n: 4\n",
            "288\n"
          ],
          "name": "stdout"
        }
      ]
    },
    {
      "cell_type": "code",
      "metadata": {
        "id": "4E9D2Q071gG_",
        "colab_type": "code",
        "colab": {
          "base_uri": "https://localhost:8080/",
          "height": 34
        },
        "outputId": "f1fc6326-7943-40c9-fb3f-e9a534fc1591"
      },
      "source": [
        "c=0\n",
        "for i in range(1,1000):\n",
        "    if(i%3==0 or i%5==0):\n",
        "        c+=i\n",
        "print(c)"
      ],
      "execution_count": 26,
      "outputs": [
        {
          "output_type": "stream",
          "text": [
            "233168\n"
          ],
          "name": "stdout"
        }
      ]
    },
    {
      "cell_type": "code",
      "metadata": {
        "id": "THHYgB5w1qSs",
        "colab_type": "code",
        "colab": {
          "base_uri": "https://localhost:8080/",
          "height": 1000
        },
        "outputId": "83f9fb4c-8445-4390-9464-400935bbb4ac"
      },
      "source": [
        "for i in range(1,1000):\n",
        "    if((i-1)%4==0):\n",
        "        print(i)"
      ],
      "execution_count": 27,
      "outputs": [
        {
          "output_type": "stream",
          "text": [
            "1\n",
            "5\n",
            "9\n",
            "13\n",
            "17\n",
            "21\n",
            "25\n",
            "29\n",
            "33\n",
            "37\n",
            "41\n",
            "45\n",
            "49\n",
            "53\n",
            "57\n",
            "61\n",
            "65\n",
            "69\n",
            "73\n",
            "77\n",
            "81\n",
            "85\n",
            "89\n",
            "93\n",
            "97\n",
            "101\n",
            "105\n",
            "109\n",
            "113\n",
            "117\n",
            "121\n",
            "125\n",
            "129\n",
            "133\n",
            "137\n",
            "141\n",
            "145\n",
            "149\n",
            "153\n",
            "157\n",
            "161\n",
            "165\n",
            "169\n",
            "173\n",
            "177\n",
            "181\n",
            "185\n",
            "189\n",
            "193\n",
            "197\n",
            "201\n",
            "205\n",
            "209\n",
            "213\n",
            "217\n",
            "221\n",
            "225\n",
            "229\n",
            "233\n",
            "237\n",
            "241\n",
            "245\n",
            "249\n",
            "253\n",
            "257\n",
            "261\n",
            "265\n",
            "269\n",
            "273\n",
            "277\n",
            "281\n",
            "285\n",
            "289\n",
            "293\n",
            "297\n",
            "301\n",
            "305\n",
            "309\n",
            "313\n",
            "317\n",
            "321\n",
            "325\n",
            "329\n",
            "333\n",
            "337\n",
            "341\n",
            "345\n",
            "349\n",
            "353\n",
            "357\n",
            "361\n",
            "365\n",
            "369\n",
            "373\n",
            "377\n",
            "381\n",
            "385\n",
            "389\n",
            "393\n",
            "397\n",
            "401\n",
            "405\n",
            "409\n",
            "413\n",
            "417\n",
            "421\n",
            "425\n",
            "429\n",
            "433\n",
            "437\n",
            "441\n",
            "445\n",
            "449\n",
            "453\n",
            "457\n",
            "461\n",
            "465\n",
            "469\n",
            "473\n",
            "477\n",
            "481\n",
            "485\n",
            "489\n",
            "493\n",
            "497\n",
            "501\n",
            "505\n",
            "509\n",
            "513\n",
            "517\n",
            "521\n",
            "525\n",
            "529\n",
            "533\n",
            "537\n",
            "541\n",
            "545\n",
            "549\n",
            "553\n",
            "557\n",
            "561\n",
            "565\n",
            "569\n",
            "573\n",
            "577\n",
            "581\n",
            "585\n",
            "589\n",
            "593\n",
            "597\n",
            "601\n",
            "605\n",
            "609\n",
            "613\n",
            "617\n",
            "621\n",
            "625\n",
            "629\n",
            "633\n",
            "637\n",
            "641\n",
            "645\n",
            "649\n",
            "653\n",
            "657\n",
            "661\n",
            "665\n",
            "669\n",
            "673\n",
            "677\n",
            "681\n",
            "685\n",
            "689\n",
            "693\n",
            "697\n",
            "701\n",
            "705\n",
            "709\n",
            "713\n",
            "717\n",
            "721\n",
            "725\n",
            "729\n",
            "733\n",
            "737\n",
            "741\n",
            "745\n",
            "749\n",
            "753\n",
            "757\n",
            "761\n",
            "765\n",
            "769\n",
            "773\n",
            "777\n",
            "781\n",
            "785\n",
            "789\n",
            "793\n",
            "797\n",
            "801\n",
            "805\n",
            "809\n",
            "813\n",
            "817\n",
            "821\n",
            "825\n",
            "829\n",
            "833\n",
            "837\n",
            "841\n",
            "845\n",
            "849\n",
            "853\n",
            "857\n",
            "861\n",
            "865\n",
            "869\n",
            "873\n",
            "877\n",
            "881\n",
            "885\n",
            "889\n",
            "893\n",
            "897\n",
            "901\n",
            "905\n",
            "909\n",
            "913\n",
            "917\n",
            "921\n",
            "925\n",
            "929\n",
            "933\n",
            "937\n",
            "941\n",
            "945\n",
            "949\n",
            "953\n",
            "957\n",
            "961\n",
            "965\n",
            "969\n",
            "973\n",
            "977\n",
            "981\n",
            "985\n",
            "989\n",
            "993\n",
            "997\n"
          ],
          "name": "stdout"
        }
      ]
    },
    {
      "cell_type": "code",
      "metadata": {
        "id": "-J_R-cOv1937",
        "colab_type": "code",
        "colab": {
          "base_uri": "https://localhost:8080/",
          "height": 50
        },
        "outputId": "9296d593-1190-4bad-fdf9-c10fca6f9804"
      },
      "source": [
        "import math\n",
        "z=str(math.factorial(int(input(\"n: \"))))\n",
        "c=[]\n",
        "v=0\n",
        "for i in range(0,len(z)):\n",
        "    k=int(z[i:i+1])\n",
        "    v+=k\n",
        "print(\"{}'nin basamakları toplamı: {}\".format(z,v))"
      ],
      "execution_count": 29,
      "outputs": [
        {
          "output_type": "stream",
          "text": [
            "n: 5\n",
            "120'nin basamakları toplamı: 3\n"
          ],
          "name": "stdout"
        }
      ]
    },
    {
      "cell_type": "code",
      "metadata": {
        "id": "-8yYgQE62HRd",
        "colab_type": "code",
        "colab": {
          "base_uri": "https://localhost:8080/",
          "height": 67
        },
        "outputId": "b73f4717-f91f-4dc5-f28a-6aae36fbdaf0"
      },
      "source": [
        "# collatz problemi\n",
        "n=int(input(\"n: \"))\n",
        "a=0\n",
        "b=0\n",
        "print(\"{}\".format(n),end='')\n",
        "while(a<1):\n",
        "    if(n==1):\n",
        "        print(\"\\n{} iterasyon sürmüştür.\".format(b))\n",
        "        a=1\n",
        "    else:\n",
        "        if(n%2==0):\n",
        "            n=int(n/2)\n",
        "            b += 1\n",
        "            print(\"->{}\".format(n),end='')\n",
        "        else:\n",
        "            n=(3*n)+1\n",
        "            b += 1\n",
        "            print(\"->{}\".format(n), end='')"
      ],
      "execution_count": 30,
      "outputs": [
        {
          "output_type": "stream",
          "text": [
            "n: 13\n",
            "13->40->20->10->5->16->8->4->2->1\n",
            "9 iterasyon sürmüştür.\n"
          ],
          "name": "stdout"
        }
      ]
    },
    {
      "cell_type": "code",
      "metadata": {
        "id": "dqiB5fHD2L8L",
        "colab_type": "code",
        "colab": {
          "base_uri": "https://localhost:8080/",
          "height": 50
        },
        "outputId": "281580bd-4a50-467f-dc57-b8946b2082a1"
      },
      "source": [
        "n=int(input(\"n: \"))\n",
        "c=0\n",
        "for i in range(1,n+1):\n",
        "    c+=i\n",
        "print(c)\n"
      ],
      "execution_count": 31,
      "outputs": [
        {
          "output_type": "stream",
          "text": [
            "n: 5\n",
            "15\n"
          ],
          "name": "stdout"
        }
      ]
    },
    {
      "cell_type": "code",
      "metadata": {
        "id": "hZcG0Lxa2Sg_",
        "colab_type": "code",
        "colab": {
          "base_uri": "https://localhost:8080/",
          "height": 34
        },
        "outputId": "4b82eba1-6eb4-4bc4-ad7b-e04b8abd7042"
      },
      "source": [
        "c=15\n",
        "for i in range(2,2000000):\n",
        "    if(i%2==0 or i%3==0 or i%5==0 or i%7==0):\n",
        "        pass\n",
        "    else:\n",
        "        c+=i\n",
        "print(c)"
      ],
      "execution_count": 32,
      "outputs": [
        {
          "output_type": "stream",
          "text": [
            "457143142875\n"
          ],
          "name": "stdout"
        }
      ]
    },
    {
      "cell_type": "code",
      "metadata": {
        "id": "AH-yCrAZ2f6b",
        "colab_type": "code",
        "colab": {
          "base_uri": "https://localhost:8080/",
          "height": 34
        },
        "outputId": "13830d03-f1ac-4761-b39d-eceb23fe4d4f"
      },
      "source": [
        "z=0\n",
        "a,b,d,e=1,2,3,0\n",
        "while(z<1):\n",
        "    if(d<4000000-a):\n",
        "        c = a + b\n",
        "        a = b\n",
        "        b = c\n",
        "        d=c\n",
        "        if(c%2==0):\n",
        "            e+=c\n",
        "    else:\n",
        "        z=1\n",
        "print(e+2)"
      ],
      "execution_count": 33,
      "outputs": [
        {
          "output_type": "stream",
          "text": [
            "4613732\n"
          ],
          "name": "stdout"
        }
      ]
    },
    {
      "cell_type": "code",
      "metadata": {
        "id": "ZNR8swuJ2tMi",
        "colab_type": "code",
        "colab": {
          "base_uri": "https://localhost:8080/",
          "height": 34
        },
        "outputId": "dd7c6d2c-979b-4821-f2d8-25579c5f16de"
      },
      "source": [
        "a=[2,3,5,7]\n",
        "for i in range(2,10000):\n",
        "    if(i%2==0 or i%3==0 or i%5==0 or i%7==0):\n",
        "        pass\n",
        "    else:\n",
        "        a.append(i)\n",
        "print(a[1923:1924])"
      ],
      "execution_count": 34,
      "outputs": [
        {
          "output_type": "stream",
          "text": [
            "[8401]\n"
          ],
          "name": "stdout"
        }
      ]
    },
    {
      "cell_type": "code",
      "metadata": {
        "id": "C0LM2Smj27mG",
        "colab_type": "code",
        "colab": {
          "base_uri": "https://localhost:8080/",
          "height": 67
        },
        "outputId": "e7d7d75d-261d-4c6a-9ba6-018676ddd378"
      },
      "source": [
        "def fact(a):\n",
        "    b=1\n",
        "    for i in range(1,a+1):\n",
        "       b*=i\n",
        "    return b\n",
        "x=int(input(\"x: \"))\n",
        "y=int(input(\"y: \"))\n",
        "k=(fact(x))/(fact(y)*fact(x-y))\n",
        "print(int(k))"
      ],
      "execution_count": 37,
      "outputs": [
        {
          "output_type": "stream",
          "text": [
            "x: 5\n",
            "y: 3\n",
            "10\n"
          ],
          "name": "stdout"
        }
      ]
    },
    {
      "cell_type": "code",
      "metadata": {
        "id": "-WX_kO_W3I1B",
        "colab_type": "code",
        "colab": {
          "base_uri": "https://localhost:8080/",
          "height": 67
        },
        "outputId": "6e581ca1-1c3d-4cad-ca68-88e5ce3bb816"
      },
      "source": [
        "def fact(a):\n",
        "    b=1\n",
        "    for i in range(1,a+1):\n",
        "       b*=i\n",
        "    return b\n",
        "x=int(input(\"x: \"))\n",
        "y=int(input(\"y: \"))\n",
        "k=(fact(x))/(fact(x-y))\n",
        "print(int(k))"
      ],
      "execution_count": 38,
      "outputs": [
        {
          "output_type": "stream",
          "text": [
            "x: 5\n",
            "y: 3\n",
            "60\n"
          ],
          "name": "stdout"
        }
      ]
    },
    {
      "cell_type": "code",
      "metadata": {
        "id": "lb9xdZpn3R7z",
        "colab_type": "code",
        "colab": {
          "base_uri": "https://localhost:8080/",
          "height": 50
        },
        "outputId": "9bf3c1f9-789f-4483-8229-341319d3f441"
      },
      "source": [
        "x=int(input(\"x: \"))\n",
        "y=0\n",
        "for i in range(1,x+1):\n",
        "    if(x%i==0):\n",
        "        y+=1\n",
        "if(x%y==0):\n",
        "    print(\"{} sayısı bir Tau sayısıdır.\".format(x))"
      ],
      "execution_count": 39,
      "outputs": [
        {
          "output_type": "stream",
          "text": [
            "x: 24\n",
            "24 sayısı bir Tau sayısıdır.\n"
          ],
          "name": "stdout"
        }
      ]
    },
    {
      "cell_type": "code",
      "metadata": {
        "id": "tmwkOxyw3i_y",
        "colab_type": "code",
        "colab": {
          "base_uri": "https://localhost:8080/",
          "height": 34
        },
        "outputId": "7de73fcc-23d4-4002-8d6d-2130befb026b"
      },
      "source": [
        "for x in range(2,1000):\n",
        "    y=0\n",
        "    for i in range(1,x):\n",
        "        if(x%i==0):\n",
        "            y+=i\n",
        "    if(x==y):\n",
        "        print(x,end=' ')"
      ],
      "execution_count": 40,
      "outputs": [
        {
          "output_type": "stream",
          "text": [
            "6 28 496 "
          ],
          "name": "stdout"
        }
      ]
    },
    {
      "cell_type": "code",
      "metadata": {
        "id": "xM28x9cf340F",
        "colab_type": "code",
        "colab": {
          "base_uri": "https://localhost:8080/",
          "height": 54
        },
        "outputId": "4c6d06e0-b0f7-441e-8122-be1d6ebac897"
      },
      "source": [
        "# chen sayısı\n",
        "a=[3,5]\n",
        "for i in range(2,1000):\n",
        "    if(i%2==0 or i%3==0 or i%5==0 or i%7==0):\n",
        "        pass\n",
        "    else:\n",
        "        if((i+2)%2==0 or (i+2)%3==0 or (i+2)%5==0 or (i+2)%7==0):\n",
        "            pass\n",
        "        else:\n",
        "            a.append(i)\n",
        "print(a)"
      ],
      "execution_count": 41,
      "outputs": [
        {
          "output_type": "stream",
          "text": [
            "[3, 5, 11, 17, 29, 41, 59, 71, 101, 107, 137, 149, 167, 179, 191, 197, 209, 221, 227, 239, 251, 269, 281, 311, 317, 347, 359, 377, 389, 401, 407, 419, 431, 437, 449, 461, 479, 491, 521, 527, 557, 569, 587, 599, 611, 617, 629, 641, 647, 659, 671, 689, 701, 731, 737, 767, 779, 797, 809, 821, 827, 839, 851, 857, 869, 881, 899, 911, 941, 947, 977, 989]\n"
          ],
          "name": "stdout"
        }
      ]
    },
    {
      "cell_type": "code",
      "metadata": {
        "id": "uARU9RUm4F8j",
        "colab_type": "code",
        "colab": {
          "base_uri": "https://localhost:8080/",
          "height": 34
        },
        "outputId": "77c7ce3e-80e5-460a-aa75-b073444db9b4"
      },
      "source": [
        "z=[]\n",
        "f=[]\n",
        "for j in range(3,1000): # kaç değere kadar bakılacak\n",
        "    a=str(j)            # sayıyı stringe çevirdik\n",
        "    p = 0\n",
        "    for k in range(0,len(a)):   # sayının hanesi kadar\n",
        "        c=a[k:k+1]              # c nin içine str olarak basamakları ekliyoruz\n",
        "        z.append(int(c))        # z nin içine basamakları int olarak ekliyoruz.\n",
        "        for l in range(0,len(z)):   # her z elemanı için fact hesaplicaz\n",
        "            b = 1\n",
        "            h=z[l]\n",
        "            for i in range(1,h+1): # fact hesaplama\n",
        "                b *=i\n",
        "\n",
        "        p+=b\n",
        "        if(p==j):\n",
        "            f.append(p)\n",
        "print(f)"
      ],
      "execution_count": 44,
      "outputs": [
        {
          "output_type": "stream",
          "text": [
            "[145]\n"
          ],
          "name": "stdout"
        }
      ]
    },
    {
      "cell_type": "code",
      "metadata": {
        "id": "JjqZ_uLk4R90",
        "colab_type": "code",
        "colab": {
          "base_uri": "https://localhost:8080/",
          "height": 70
        },
        "outputId": "a0f6c71a-047c-4e6b-b485-0335233026ca"
      },
      "source": [
        "a=[2,3,5,7]\n",
        "c=15\n",
        "for i in range(2,1000):\n",
        "    if(i%2==0 or i%3==0 or i%5==0 or i%7==0):\n",
        "        pass\n",
        "    else:\n",
        "        a.append(i)\n",
        "        c+=i\n",
        "print(a)\n",
        "print(c)"
      ],
      "execution_count": 45,
      "outputs": [
        {
          "output_type": "stream",
          "text": [
            "[2, 3, 5, 7, 11, 13, 17, 19, 23, 29, 31, 37, 41, 43, 47, 53, 59, 61, 67, 71, 73, 79, 83, 89, 97, 101, 103, 107, 109, 113, 121, 127, 131, 137, 139, 143, 149, 151, 157, 163, 167, 169, 173, 179, 181, 187, 191, 193, 197, 199, 209, 211, 221, 223, 227, 229, 233, 239, 241, 247, 251, 253, 257, 263, 269, 271, 277, 281, 283, 289, 293, 299, 307, 311, 313, 317, 319, 323, 331, 337, 341, 347, 349, 353, 359, 361, 367, 373, 377, 379, 383, 389, 391, 397, 401, 403, 407, 409, 419, 421, 431, 433, 437, 439, 443, 449, 451, 457, 461, 463, 467, 473, 479, 481, 487, 491, 493, 499, 503, 509, 517, 521, 523, 527, 529, 533, 541, 547, 551, 557, 559, 563, 569, 571, 577, 583, 587, 589, 593, 599, 601, 607, 611, 613, 617, 619, 629, 631, 641, 643, 647, 649, 653, 659, 661, 667, 671, 673, 677, 683, 689, 691, 697, 701, 703, 709, 713, 719, 727, 731, 733, 737, 739, 743, 751, 757, 761, 767, 769, 773, 779, 781, 787, 793, 797, 799, 803, 809, 811, 817, 821, 823, 827, 829, 839, 841, 851, 853, 857, 859, 863, 869, 871, 877, 881, 883, 887, 893, 899, 901, 907, 911, 913, 919, 923, 929, 937, 941, 943, 947, 949, 953, 961, 967, 971, 977, 979, 983, 989, 991, 997]\n",
            "113726\n"
          ],
          "name": "stdout"
        }
      ]
    }
  ]
}